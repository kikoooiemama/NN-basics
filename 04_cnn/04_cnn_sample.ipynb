{
 "cells": [
  {
   "cell_type": "markdown",
   "metadata": {
    "id": "83u8Elu2ResI"
   },
   "source": [
    "## Разбор практического задания №4 по теме \"Сверточные нейронные сети\"."
   ]
  },
  {
   "cell_type": "markdown",
   "metadata": {
    "id": "3_eBArqdRiWO"
   },
   "source": [
    "### Задание:\n",
    "\n",
    "1. обучить рукописную сверточную нейронную сеть (с падением размера ядра свертки и последовательностью блоков свертка-пулинг (conv-pool)-(conv-pool)-...) на датасете cifar-10\n",
    "\n",
    "2. оценить рост точности при увеличении ширины сети (больше фильтров)\n",
    "\n",
    "3. оценить рост точности при увеличении глубины сети (больше слоев)\n",
    "\n",
    "4. *  сравнить с точностью полносвязной сети для этой выборки"
   ]
  },
  {
   "cell_type": "code",
   "execution_count": null,
   "metadata": {
    "id": "QOF1g-lERKl0"
   },
   "outputs": [],
   "source": [
    "import numpy as np\n",
    "import pandas as pd\n",
    "import tensorflow as tf\n",
    "import matplotlib.pyplot as plt\n",
    "\n",
    "from tensorflow.keras.models import Sequential, Model\n",
    "from tensorflow.keras.layers import Conv2D, Input\n",
    "from tensorflow.keras.layers import GlobalMaxPooling2D, MaxPooling2D, AveragePooling2D, GlobalAveragePooling2D\n",
    "from tensorflow.keras.datasets import cifar10\n",
    "from tensorflow.keras.preprocessing.image import ImageDataGenerator\n",
    "from tensorflow.keras.utils import to_categorical\n",
    "from tensorflow.keras.layers import Dense, Dropout, Activation, Flatten\n",
    "\n",
    "import os"
   ]
  },
  {
   "cell_type": "code",
   "execution_count": null,
   "metadata": {
    "id": "2HkGNHF0Vu7z"
   },
   "outputs": [],
   "source": [
    "tf.random.set_seed(1)"
   ]
  },
  {
   "cell_type": "code",
   "execution_count": null,
   "metadata": {
    "colab": {
     "base_uri": "https://localhost:8080/"
    },
    "id": "mTXjD3lSVwVB",
    "outputId": "67bdb5e0-12eb-4d81-a184-3b5c3a8ca544"
   },
   "outputs": [
    {
     "data": {
      "text/plain": [
       "[PhysicalDevice(name='/physical_device:GPU:0', device_type='GPU')]"
      ]
     },
     "execution_count": 3,
     "metadata": {},
     "output_type": "execute_result"
    }
   ],
   "source": [
    "tf.config.list_physical_devices('GPU')"
   ]
  },
  {
   "cell_type": "code",
   "execution_count": null,
   "metadata": {
    "id": "RdxxLiXgx7d3"
   },
   "outputs": [],
   "source": [
    "results = pd.DataFrame() # сводная таблица результатов\n",
    "step = [] # шаг\n",
    "desc = [] # описание\n",
    "train_acc = [] # результат на трейне\n",
    "test_acc = [] # результат на тесте"
   ]
  },
  {
   "cell_type": "code",
   "execution_count": null,
   "metadata": {
    "colab": {
     "base_uri": "https://localhost:8080/"
    },
    "id": "kbq-PdgbWBIP",
    "outputId": "f843f0e1-fba0-4894-db63-6f6e6f0a77c8"
   },
   "outputs": [
    {
     "name": "stdout",
     "output_type": "stream",
     "text": [
      "X_train shape: (50000, 32, 32, 3)\n",
      "50000 тренировочные примеры\n",
      "10000 тестовые примеры\n"
     ]
    }
   ],
   "source": [
    "# установка параметров нейросети\n",
    "batch_size = 64\n",
    "num_classes = 10\n",
    "epochs = 10\n",
    "\n",
    "# разделение тренировочной и тестовой выборки\n",
    "(X_train, y_train), (X_test, y_test) = cifar10.load_data()\n",
    "print('X_train shape:', X_train.shape)\n",
    "print(X_train.shape[0], 'тренировочные примеры')\n",
    "print(X_test.shape[0], 'тестовые примеры')\n",
    "\n",
    "# преобразование матрицы чисел 0-9 в бинарную матрицу чисел 0-1\n",
    "y_train = to_categorical(y_train, num_classes)\n",
    "y_test = to_categorical(y_test, num_classes)\n",
    "\n",
    "\n",
    "X_train = X_train / 255.0\n",
    "X_test = X_test / 255.0"
   ]
  },
  {
   "cell_type": "code",
   "execution_count": null,
   "metadata": {
    "id": "ycUzSB60Y0Q1"
   },
   "outputs": [],
   "source": [
    "classes = ['самолет', 'автомобиль', 'птица', 'кот', 'олень', 'собака', 'лягушка', 'лошадь', 'корабль', 'грузовик']"
   ]
  },
  {
   "cell_type": "code",
   "execution_count": null,
   "metadata": {
    "colab": {
     "base_uri": "https://localhost:8080/",
     "height": 281
    },
    "id": "uSCaII3xYrTP",
    "outputId": "847bc784-4959-4cdc-be89-c2bc8eb40a13"
   },
   "outputs": [
    {
     "data": {
      "image/png": "[encoded data removed]",
      "text/plain": [
       "<Figure size 432x288 with 1 Axes>"
      ]
     },
     "metadata": {
      "needs_background": "light"
     },
     "output_type": "display_data"
    }
   ],
   "source": [
    "N = 9\n",
    "\n",
    "plt.imshow(X_test[N])\n",
    "plt.title(classes[np.argmax(y_test[N,:])])\n",
    "plt.show()"
   ]
  },
  {
   "cell_type": "markdown",
   "metadata": {
    "id": "H45iKN1_ZABy"
   },
   "source": [
    "### 1. Обучить рукописную сверточную нейронную сеть (с падением размера ядра свертки и последовательностью блоков свертка-пулинг (conv-pool)-(conv-pool)-...) на датасете cifar-10\n"
   ]
  },
  {
   "cell_type": "code",
   "execution_count": null,
   "metadata": {
    "colab": {
     "base_uri": "https://localhost:8080/"
    },
    "id": "X0ygNb8lY3WO",
    "outputId": "5d69e84e-7e29-4ed3-dad9-46d646d7f75e"
   },
   "outputs": [
    {
     "name": "stdout",
     "output_type": "stream",
     "text": [
      "Model: \"sequential_17\"\n",
      "_________________________________________________________________\n",
      " Layer (type)                Output Shape              Param #   \n",
      "=================================================================\n",
      " conv2d_60 (Conv2D)          (None, 32, 32, 32)        896       \n",
      "                                                                 \n",
      " activation_106 (Activation)  (None, 32, 32, 32)       0         \n",
      "                                                                 \n",
      " conv2d_61 (Conv2D)          (None, 30, 30, 32)        9248      \n",
      "                                                                 \n",
      " activation_107 (Activation)  (None, 30, 30, 32)       0         \n",
      "                                                                 \n",
      " max_pooling2d_30 (MaxPoolin  (None, 15, 15, 32)       0         \n",
      " g2D)                                                            \n",
      "                                                                 \n",
      " dropout_47 (Dropout)        (None, 15, 15, 32)        0         \n",
      "                                                                 \n",
      " conv2d_62 (Conv2D)          (None, 15, 15, 64)        18496     \n",
      "                                                                 \n",
      " activation_108 (Activation)  (None, 15, 15, 64)       0         \n",
      "                                                                 \n",
      " conv2d_63 (Conv2D)          (None, 13, 13, 64)        36928     \n",
      "                                                                 \n",
      " activation_109 (Activation)  (None, 13, 13, 64)       0         \n",
      "                                                                 \n",
      " max_pooling2d_31 (MaxPoolin  (None, 6, 6, 64)         0         \n",
      " g2D)                                                            \n",
      "                                                                 \n",
      " dropout_48 (Dropout)        (None, 6, 6, 64)          0         \n",
      "                                                                 \n",
      " global_average_pooling2d_11  (None, 64)               0         \n",
      "  (GlobalAveragePooling2D)                                       \n",
      "                                                                 \n",
      " dense_46 (Dense)            (None, 64)                4160      \n",
      "                                                                 \n",
      " activation_110 (Activation)  (None, 64)               0         \n",
      "                                                                 \n",
      " dense_47 (Dense)            (None, 32)                2080      \n",
      "                                                                 \n",
      " activation_111 (Activation)  (None, 32)               0         \n",
      "                                                                 \n",
      " dropout_49 (Dropout)        (None, 32)                0         \n",
      "                                                                 \n",
      " dense_48 (Dense)            (None, 10)                330       \n",
      "                                                                 \n",
      " activation_112 (Activation)  (None, 10)               0         \n",
      "                                                                 \n",
      "=================================================================\n",
      "Total params: 72,138\n",
      "Trainable params: 72,138\n",
      "Non-trainable params: 0\n",
      "_________________________________________________________________\n"
     ]
    }
   ],
   "source": [
    "# конфигурирование слоев нейросети\n",
    "model_1 = Sequential()\n",
    "\n",
    "# слои нейросети отвественные за свертку и max-pooling\n",
    "model_1.add(Conv2D(32, (3, 3), padding='same', input_shape=X_train.shape[1:]))\n",
    "model_1.add(Activation('relu'))\n",
    "model_1.add(Conv2D(32, (3, 3)))\n",
    "model_1.add(Activation('relu'))\n",
    "model_1.add(MaxPooling2D(pool_size=(2, 2)))\n",
    "model_1.add(Dropout(0.25))\n",
    "\n",
    "model_1.add(Conv2D(64, (3, 3), padding='same'))\n",
    "model_1.add(Activation('relu'))\n",
    "model_1.add(Conv2D(64, (3, 3)))\n",
    "model_1.add(Activation('relu'))\n",
    "model_1.add(MaxPooling2D(pool_size=(2, 2)))\n",
    "model_1.add(Dropout(0.25))\n",
    "\n",
    "# полносвязные слои нейронной сети\n",
    "model_1.add(GlobalAveragePooling2D())\n",
    "model_1.add(Dense(64))\n",
    "model_1.add(Activation('relu'))\n",
    "model_1.add(Dense(32))\n",
    "model_1.add(Activation('relu'))\n",
    "model_1.add(Dropout(0.5))\n",
    "model_1.add(Dense(num_classes))\n",
    "model_1.add(Activation('softmax'))\n",
    "\n",
    "model_1.summary()\n",
    "# компиляция модели\n",
    "model_1.compile(loss='categorical_crossentropy',\n",
    "                optimizer='Adam',\n",
    "                metrics=['accuracy'])"
   ]
  },
  {
   "cell_type": "code",
   "execution_count": null,
   "metadata": {
    "colab": {
     "base_uri": "https://localhost:8080/"
    },
    "id": "Lv3dwktVZH96",
    "outputId": "11da3f75-8782-4f17-95c7-93faec5dd430"
   },
   "outputs": [
    {
     "name": "stdout",
     "output_type": "stream",
     "text": [
      "Epoch 1/10\n",
      "782/782 [==============================] - 13s 15ms/step - loss: 1.9544 - accuracy: 0.2390 - val_loss: 1.8010 - val_accuracy: 0.3341\n",
      "Epoch 2/10\n",
      "782/782 [==============================] - 11s 14ms/step - loss: 1.7021 - accuracy: 0.3494 - val_loss: 1.5320 - val_accuracy: 0.4148\n",
      "Epoch 3/10\n",
      "782/782 [==============================] - 11s 14ms/step - loss: 1.5969 - accuracy: 0.4010 - val_loss: 1.4018 - val_accuracy: 0.4697\n",
      "Epoch 4/10\n",
      "782/782 [==============================] - 11s 14ms/step - loss: 1.4991 - accuracy: 0.4425 - val_loss: 1.3706 - val_accuracy: 0.4829\n",
      "Epoch 5/10\n",
      "782/782 [==============================] - 11s 15ms/step - loss: 1.4289 - accuracy: 0.4739 - val_loss: 1.2431 - val_accuracy: 0.5447\n",
      "Epoch 6/10\n",
      "782/782 [==============================] - 12s 15ms/step - loss: 1.3731 - accuracy: 0.5010 - val_loss: 1.2307 - val_accuracy: 0.5428\n",
      "Epoch 7/10\n",
      "782/782 [==============================] - 12s 15ms/step - loss: 1.3148 - accuracy: 0.5241 - val_loss: 1.1422 - val_accuracy: 0.5786\n",
      "Epoch 8/10\n",
      "782/782 [==============================] - 11s 14ms/step - loss: 1.2701 - accuracy: 0.5478 - val_loss: 1.1101 - val_accuracy: 0.5971\n",
      "Epoch 9/10\n",
      "782/782 [==============================] - 12s 15ms/step - loss: 1.2291 - accuracy: 0.5651 - val_loss: 1.0440 - val_accuracy: 0.6270\n",
      "Epoch 10/10\n",
      "782/782 [==============================] - 12s 15ms/step - loss: 1.1864 - accuracy: 0.5816 - val_loss: 1.0145 - val_accuracy: 0.6325\n"
     ]
    }
   ],
   "source": [
    "history_1 = model_1.fit(X_train, y_train,\n",
    "                        batch_size=batch_size,\n",
    "                        epochs=epochs,\n",
    "                        validation_data=(X_test, y_test))"
   ]
  },
  {
   "cell_type": "code",
   "execution_count": null,
   "metadata": {
    "colab": {
     "base_uri": "https://localhost:8080/"
    },
    "id": "_H2zh1tXbSZD",
    "outputId": "ae401555-2252-444b-9dcc-434d648f8aec"
   },
   "outputs": [
    {
     "name": "stdout",
     "output_type": "stream",
     "text": [
      "1563/1563 - 7s - loss: 0.9724 - accuracy: 0.6519 - 7s/epoch - 5ms/step\n",
      "313/313 - 2s - loss: 1.0145 - accuracy: 0.6325 - 2s/epoch - 5ms/step\n",
      "train_loss: 0.9724322557449341, train_accuracy: 0.6518599987030029\n",
      "test_loss: 1.0145212411880493, test_accuracy: 0.6324999928474426\n"
     ]
    }
   ],
   "source": [
    "train_loss, train_m = model_1.evaluate(X_train, y_train, verbose=2)\n",
    "test_loss, test_m = model_1.evaluate(X_test, y_test, verbose=2)\n",
    "print(f'train_loss: {train_loss}, train_accuracy: {train_m}')\n",
    "print(f'test_loss: {test_loss}, test_accuracy: {test_m}')\n",
    "\n",
    "step.append(1)\n",
    "desc.append('Базовая модель')\n",
    "train_acc.append(round(train_m, 2))\n",
    "test_acc.append(round(test_m, 2))"
   ]
  },
  {
   "cell_type": "code",
   "execution_count": null,
   "metadata": {
    "colab": {
     "base_uri": "https://localhost:8080/",
     "height": 281
    },
    "id": "Ck4h0hrRadCb",
    "outputId": "62f6388e-ff28-4246-88a9-d7401400d245"
   },
   "outputs": [
    {
     "data": {
      "image/png": "[encoded data removed]",
      "text/plain": [
       "<Figure size 432x288 with 1 Axes>"
      ]
     },
     "metadata": {
      "needs_background": "light"
     },
     "output_type": "display_data"
    }
   ],
   "source": [
    "N = 5\n",
    "y_p = model_1.predict(X_test[N:N+1])\n",
    "y_t = np.argmax(y_test[N:N+1], axis = 1 )\n",
    "y_i = np.argmax(y_p, axis = 1 )\n",
    "plt.imshow(X_test[N])\n",
    "plt.title(f'это : {classes[y_t[0]]} - опознан как : {classes[y_i[0]]}')\n",
    "plt.show()"
   ]
  },
  {
   "cell_type": "markdown",
   "metadata": {
    "id": "Q7RqR-k7b0m5"
   },
   "source": [
    "### 2. Оценить рост точности при увеличении ширины сети (больше фильтров)"
   ]
  },
  {
   "cell_type": "code",
   "execution_count": null,
   "metadata": {
    "colab": {
     "base_uri": "https://localhost:8080/"
    },
    "id": "UEa8tRjicABI",
    "outputId": "78b6ad37-8b42-4751-a0bd-81a2382fbb4b"
   },
   "outputs": [
    {
     "name": "stdout",
     "output_type": "stream",
     "text": [
      "Model: \"sequential_18\"\n",
      "_________________________________________________________________\n",
      " Layer (type)                Output Shape              Param #   \n",
      "=================================================================\n",
      " conv2d_64 (Conv2D)          (None, 32, 32, 32)        896       \n",
      "                                                                 \n",
      " activation_113 (Activation)  (None, 32, 32, 32)       0         \n",
      "                                                                 \n",
      " conv2d_65 (Conv2D)          (None, 30, 30, 64)        18496     \n",
      "                                                                 \n",
      " activation_114 (Activation)  (None, 30, 30, 64)       0         \n",
      "                                                                 \n",
      " max_pooling2d_32 (MaxPoolin  (None, 15, 15, 64)       0         \n",
      " g2D)                                                            \n",
      "                                                                 \n",
      " dropout_50 (Dropout)        (None, 15, 15, 64)        0         \n",
      "                                                                 \n",
      " conv2d_66 (Conv2D)          (None, 15, 15, 128)       73856     \n",
      "                                                                 \n",
      " activation_115 (Activation)  (None, 15, 15, 128)      0         \n",
      "                                                                 \n",
      " conv2d_67 (Conv2D)          (None, 13, 13, 256)       295168    \n",
      "                                                                 \n",
      " activation_116 (Activation)  (None, 13, 13, 256)      0         \n",
      "                                                                 \n",
      " max_pooling2d_33 (MaxPoolin  (None, 6, 6, 256)        0         \n",
      " g2D)                                                            \n",
      "                                                                 \n",
      " dropout_51 (Dropout)        (None, 6, 6, 256)         0         \n",
      "                                                                 \n",
      " global_average_pooling2d_12  (None, 256)              0         \n",
      "  (GlobalAveragePooling2D)                                       \n",
      "                                                                 \n",
      " dense_49 (Dense)            (None, 64)                16448     \n",
      "                                                                 \n",
      " activation_117 (Activation)  (None, 64)               0         \n",
      "                                                                 \n",
      " dense_50 (Dense)            (None, 32)                2080      \n",
      "                                                                 \n",
      " activation_118 (Activation)  (None, 32)               0         \n",
      "                                                                 \n",
      " dropout_52 (Dropout)        (None, 32)                0         \n",
      "                                                                 \n",
      " dense_51 (Dense)            (None, 10)                330       \n",
      "                                                                 \n",
      " activation_119 (Activation)  (None, 10)               0         \n",
      "                                                                 \n",
      "=================================================================\n",
      "Total params: 407,274\n",
      "Trainable params: 407,274\n",
      "Non-trainable params: 0\n",
      "_________________________________________________________________\n"
     ]
    }
   ],
   "source": [
    "# конфигурирование слоев нейросети\n",
    "model_2 = Sequential()\n",
    "\n",
    "# слои нейросети отвественные за свертку и max-pooling\n",
    "model_2.add(Conv2D(32, (3, 3), padding='same', input_shape=X_train.shape[1:]))\n",
    "model_2.add(Activation('relu'))\n",
    "model_2.add(Conv2D(64, (3, 3)))\n",
    "model_2.add(Activation('relu'))\n",
    "model_2.add(MaxPooling2D(pool_size=(2, 2)))\n",
    "model_2.add(Dropout(0.25))\n",
    "\n",
    "model_2.add(Conv2D(128, (3, 3), padding='same'))\n",
    "model_2.add(Activation('relu'))\n",
    "model_2.add(Conv2D(256, (3, 3)))\n",
    "model_2.add(Activation('relu'))\n",
    "model_2.add(MaxPooling2D(pool_size=(2, 2)))\n",
    "model_2.add(Dropout(0.25))\n",
    "\n",
    "# полносвязные слои нейронной сети\n",
    "model_2.add(GlobalAveragePooling2D())\n",
    "model_2.add(Dense(64))\n",
    "model_2.add(Activation('relu'))\n",
    "model_2.add(Dense(32))\n",
    "model_2.add(Activation('relu'))\n",
    "model_2.add(Dropout(0.5))\n",
    "model_2.add(Dense(num_classes))\n",
    "model_2.add(Activation('softmax'))\n",
    "\n",
    "model_2.summary()\n",
    "# компиляция модели\n",
    "model_2.compile(loss='categorical_crossentropy',\n",
    "                optimizer='Adam',\n",
    "                metrics=['accuracy'])"
   ]
  },
  {
   "cell_type": "code",
   "execution_count": null,
   "metadata": {
    "colab": {
     "base_uri": "https://localhost:8080/"
    },
    "id": "2Q00php1dNp_",
    "outputId": "15ecd88d-7b38-4be1-c006-dbe18ea4e74b"
   },
   "outputs": [
    {
     "name": "stdout",
     "output_type": "stream",
     "text": [
      "Epoch 1/10\n",
      "782/782 [==============================] - 20s 24ms/step - loss: 1.9432 - accuracy: 0.2407 - val_loss: 1.7121 - val_accuracy: 0.3591\n",
      "Epoch 2/10\n",
      "782/782 [==============================] - 19s 24ms/step - loss: 1.6211 - accuracy: 0.3836 - val_loss: 1.4226 - val_accuracy: 0.4690\n",
      "Epoch 3/10\n",
      "782/782 [==============================] - 19s 24ms/step - loss: 1.4437 - accuracy: 0.4699 - val_loss: 1.2348 - val_accuracy: 0.5417\n",
      "Epoch 4/10\n",
      "782/782 [==============================] - 19s 24ms/step - loss: 1.3148 - accuracy: 0.5259 - val_loss: 1.1162 - val_accuracy: 0.5882\n",
      "Epoch 5/10\n",
      "782/782 [==============================] - 19s 24ms/step - loss: 1.2125 - accuracy: 0.5705 - val_loss: 1.0249 - val_accuracy: 0.6346\n",
      "Epoch 6/10\n",
      "782/782 [==============================] - 19s 24ms/step - loss: 1.1357 - accuracy: 0.6044 - val_loss: 0.9395 - val_accuracy: 0.6634\n",
      "Epoch 7/10\n",
      "782/782 [==============================] - 19s 24ms/step - loss: 1.0714 - accuracy: 0.6230 - val_loss: 0.9066 - val_accuracy: 0.6795\n",
      "Epoch 8/10\n",
      "782/782 [==============================] - 19s 24ms/step - loss: 1.0152 - accuracy: 0.6510 - val_loss: 0.8875 - val_accuracy: 0.6812\n",
      "Epoch 9/10\n",
      "782/782 [==============================] - 19s 24ms/step - loss: 0.9756 - accuracy: 0.6638 - val_loss: 0.8599 - val_accuracy: 0.6920\n",
      "Epoch 10/10\n",
      "782/782 [==============================] - 19s 24ms/step - loss: 0.9325 - accuracy: 0.6811 - val_loss: 0.7994 - val_accuracy: 0.7219\n"
     ]
    }
   ],
   "source": [
    "history_2 = model_2.fit(X_train, y_train,\n",
    "                        batch_size=batch_size,\n",
    "                        epochs=epochs,\n",
    "                        validation_data=(X_test, y_test))"
   ]
  },
  {
   "cell_type": "code",
   "execution_count": null,
   "metadata": {
    "colab": {
     "base_uri": "https://localhost:8080/"
    },
    "id": "ud-xcmiTdlft",
    "outputId": "d8e6b134-e016-4791-f9e9-c9fa08d48f20"
   },
   "outputs": [
    {
     "name": "stdout",
     "output_type": "stream",
     "text": [
      "1563/1563 - 9s - loss: 0.6993 - accuracy: 0.7526 - 9s/epoch - 6ms/step\n",
      "313/313 - 2s - loss: 0.7994 - accuracy: 0.7219 - 2s/epoch - 6ms/step\n",
      "train_loss: 0.6992881894111633, train_accuracy: 0.7526199817657471\n",
      "test_loss: 0.7994467616081238, test_accuracy: 0.7218999862670898\n"
     ]
    }
   ],
   "source": [
    "train_loss, train_m = model_2.evaluate(X_train, y_train, verbose=2)\n",
    "test_loss, test_m = model_2.evaluate(X_test, y_test, verbose=2)\n",
    "print(f'train_loss: {train_loss}, train_accuracy: {train_m}')\n",
    "print(f'test_loss: {test_loss}, test_accuracy: {test_m}')\n",
    "\n",
    "step.append(2)\n",
    "desc.append('Шире - больше каналов')\n",
    "train_acc.append(round(train_m, 2))\n",
    "test_acc.append(round(test_m, 2))"
   ]
  },
  {
   "cell_type": "code",
   "execution_count": null,
   "metadata": {
    "colab": {
     "base_uri": "https://localhost:8080/",
     "height": 281
    },
    "id": "awQj3DPLdn7p",
    "outputId": "fc3fbc2f-1343-4907-d2bc-98bd10e3f09a"
   },
   "outputs": [
    {
     "data": {
      "image/png": "[encoded data removed]",
      "text/plain": [
       "<Figure size 432x288 with 1 Axes>"
      ]
     },
     "metadata": {
      "needs_background": "light"
     },
     "output_type": "display_data"
    }
   ],
   "source": [
    "N = 15\n",
    "y_p = model_2.predict(X_test[N:N+1])\n",
    "y_t = np.argmax(y_test[N:N+1], axis = 1 )\n",
    "y_i = np.argmax(y_p, axis = 1 )\n",
    "plt.imshow(X_test[N])\n",
    "plt.title(f'это : {classes[y_t[0]]} - опознан как : {classes[y_i[0]]}')\n",
    "plt.show()"
   ]
  },
  {
   "cell_type": "markdown",
   "metadata": {
    "id": "DSQGDGXqd0Ux"
   },
   "source": [
    "### 3. Оценить рост точности при увеличении глубины сети (больше слоев)"
   ]
  },
  {
   "cell_type": "code",
   "execution_count": null,
   "metadata": {
    "colab": {
     "base_uri": "https://localhost:8080/"
    },
    "id": "0Tl8xrXZdve0",
    "outputId": "23b43ed1-3c2c-4317-8957-dd47951e3433"
   },
   "outputs": [
    {
     "name": "stdout",
     "output_type": "stream",
     "text": [
      "Model: \"sequential_19\"\n",
      "_________________________________________________________________\n",
      " Layer (type)                Output Shape              Param #   \n",
      "=================================================================\n",
      " conv2d_68 (Conv2D)          (None, 32, 32, 32)        896       \n",
      "                                                                 \n",
      " activation_120 (Activation)  (None, 32, 32, 32)       0         \n",
      "                                                                 \n",
      " conv2d_69 (Conv2D)          (None, 30, 30, 32)        9248      \n",
      "                                                                 \n",
      " activation_121 (Activation)  (None, 30, 30, 32)       0         \n",
      "                                                                 \n",
      " max_pooling2d_34 (MaxPoolin  (None, 15, 15, 32)       0         \n",
      " g2D)                                                            \n",
      "                                                                 \n",
      " dropout_53 (Dropout)        (None, 15, 15, 32)        0         \n",
      "                                                                 \n",
      " conv2d_70 (Conv2D)          (None, 15, 15, 64)        18496     \n",
      "                                                                 \n",
      " activation_122 (Activation)  (None, 15, 15, 64)       0         \n",
      "                                                                 \n",
      " conv2d_71 (Conv2D)          (None, 13, 13, 64)        36928     \n",
      "                                                                 \n",
      " activation_123 (Activation)  (None, 13, 13, 64)       0         \n",
      "                                                                 \n",
      " max_pooling2d_35 (MaxPoolin  (None, 6, 6, 64)         0         \n",
      " g2D)                                                            \n",
      "                                                                 \n",
      " dropout_54 (Dropout)        (None, 6, 6, 64)          0         \n",
      "                                                                 \n",
      " conv2d_72 (Conv2D)          (None, 6, 6, 64)          36928     \n",
      "                                                                 \n",
      " activation_124 (Activation)  (None, 6, 6, 64)         0         \n",
      "                                                                 \n",
      " conv2d_73 (Conv2D)          (None, 4, 4, 64)          36928     \n",
      "                                                                 \n",
      " activation_125 (Activation)  (None, 4, 4, 64)         0         \n",
      "                                                                 \n",
      " max_pooling2d_36 (MaxPoolin  (None, 2, 2, 64)         0         \n",
      " g2D)                                                            \n",
      "                                                                 \n",
      " dropout_55 (Dropout)        (None, 2, 2, 64)          0         \n",
      "                                                                 \n",
      " global_average_pooling2d_13  (None, 64)               0         \n",
      "  (GlobalAveragePooling2D)                                       \n",
      "                                                                 \n",
      " dense_52 (Dense)            (None, 64)                4160      \n",
      "                                                                 \n",
      " activation_126 (Activation)  (None, 64)               0         \n",
      "                                                                 \n",
      " dense_53 (Dense)            (None, 32)                2080      \n",
      "                                                                 \n",
      " activation_127 (Activation)  (None, 32)               0         \n",
      "                                                                 \n",
      " dropout_56 (Dropout)        (None, 32)                0         \n",
      "                                                                 \n",
      " dense_54 (Dense)            (None, 10)                330       \n",
      "                                                                 \n",
      " activation_128 (Activation)  (None, 10)               0         \n",
      "                                                                 \n",
      "=================================================================\n",
      "Total params: 145,994\n",
      "Trainable params: 145,994\n",
      "Non-trainable params: 0\n",
      "_________________________________________________________________\n"
     ]
    }
   ],
   "source": [
    "# конфигурирование слоев нейросети\n",
    "model_3 = Sequential()\n",
    "\n",
    "# слои нейросети отвественные за свертку и max-pooling\n",
    "model_3.add(Conv2D(32, (3, 3), padding='same', input_shape=X_train.shape[1:]))\n",
    "model_3.add(Activation('relu'))\n",
    "model_3.add(Conv2D(32, (3, 3)))\n",
    "model_3.add(Activation('relu'))\n",
    "model_3.add(MaxPooling2D(pool_size=(2, 2)))\n",
    "model_3.add(Dropout(0.25))\n",
    "\n",
    "model_3.add(Conv2D(64, (3, 3), padding='same'))\n",
    "model_3.add(Activation('relu'))\n",
    "model_3.add(Conv2D(64, (3, 3)))\n",
    "model_3.add(Activation('relu'))\n",
    "model_3.add(MaxPooling2D(pool_size=(2, 2)))\n",
    "model_3.add(Dropout(0.25))\n",
    "\n",
    "model_3.add(Conv2D(64, (3, 3), padding='same'))\n",
    "model_3.add(Activation('relu'))\n",
    "model_3.add(Conv2D(64, (3, 3)))\n",
    "model_3.add(Activation('relu'))\n",
    "model_3.add(MaxPooling2D(pool_size=(2, 2)))\n",
    "model_3.add(Dropout(0.25))\n",
    "\n",
    "\n",
    "# полносвязные слои нейронной сети\n",
    "model_3.add(GlobalAveragePooling2D())\n",
    "model_3.add(Dense(64))\n",
    "model_3.add(Activation('relu'))\n",
    "model_3.add(Dense(32))\n",
    "model_3.add(Activation('relu'))\n",
    "model_3.add(Dropout(0.5))\n",
    "model_3.add(Dense(num_classes))\n",
    "model_3.add(Activation('softmax'))\n",
    "\n",
    "model_3.summary()\n",
    "# компиляция модели\n",
    "model_3.compile(loss='categorical_crossentropy',\n",
    "                optimizer='Adam',\n",
    "                metrics=['accuracy'])"
   ]
  },
  {
   "cell_type": "code",
   "execution_count": null,
   "metadata": {
    "colab": {
     "base_uri": "https://localhost:8080/"
    },
    "id": "DPu843TQeY7N",
    "outputId": "23c5bb37-54ed-4c39-bdd4-bc0ec86bd279"
   },
   "outputs": [
    {
     "name": "stdout",
     "output_type": "stream",
     "text": [
      "Epoch 1/10\n",
      "782/782 [==============================] - 15s 17ms/step - loss: 1.9673 - accuracy: 0.2319 - val_loss: 1.6351 - val_accuracy: 0.3699\n",
      "Epoch 2/10\n",
      "782/782 [==============================] - 13s 17ms/step - loss: 1.6646 - accuracy: 0.3663 - val_loss: 1.4870 - val_accuracy: 0.4206\n",
      "Epoch 3/10\n",
      "782/782 [==============================] - 13s 17ms/step - loss: 1.5311 - accuracy: 0.4258 - val_loss: 1.3402 - val_accuracy: 0.5002\n",
      "Epoch 4/10\n",
      "782/782 [==============================] - 14s 18ms/step - loss: 1.4262 - accuracy: 0.4777 - val_loss: 1.2010 - val_accuracy: 0.5625\n",
      "Epoch 5/10\n",
      "782/782 [==============================] - 14s 18ms/step - loss: 1.3254 - accuracy: 0.5266 - val_loss: 1.0879 - val_accuracy: 0.6095\n",
      "Epoch 6/10\n",
      "782/782 [==============================] - 14s 17ms/step - loss: 1.2405 - accuracy: 0.5652 - val_loss: 1.0071 - val_accuracy: 0.6448\n",
      "Epoch 7/10\n",
      "782/782 [==============================] - 17s 21ms/step - loss: 1.1686 - accuracy: 0.5952 - val_loss: 1.0029 - val_accuracy: 0.6525\n",
      "Epoch 8/10\n",
      "782/782 [==============================] - 16s 20ms/step - loss: 1.1221 - accuracy: 0.6113 - val_loss: 0.9117 - val_accuracy: 0.6770\n",
      "Epoch 9/10\n",
      "782/782 [==============================] - 14s 19ms/step - loss: 1.0614 - accuracy: 0.6346 - val_loss: 0.8923 - val_accuracy: 0.6890\n",
      "Epoch 10/10\n",
      "782/782 [==============================] - 14s 18ms/step - loss: 1.0319 - accuracy: 0.6500 - val_loss: 0.8797 - val_accuracy: 0.6908\n"
     ]
    }
   ],
   "source": [
    "history_3 = model_3.fit(X_train, y_train,\n",
    "                        batch_size=batch_size,\n",
    "                        epochs=epochs,\n",
    "                        validation_data=(X_test, y_test))                       "
   ]
  },
  {
   "cell_type": "code",
   "execution_count": null,
   "metadata": {
    "colab": {
     "base_uri": "https://localhost:8080/"
    },
    "id": "Ui5vBax_eevM",
    "outputId": "f889c118-bd59-488f-a4b0-c7c324354d2e"
   },
   "outputs": [
    {
     "name": "stdout",
     "output_type": "stream",
     "text": [
      "1563/1563 - 9s - loss: 0.7774 - accuracy: 0.7252 - 9s/epoch - 6ms/step\n",
      "313/313 - 2s - loss: 0.8797 - accuracy: 0.6908 - 2s/epoch - 5ms/step\n",
      "train_loss: 0.7774147391319275, train_accuracy: 0.7252200245857239\n",
      "test_loss: 0.8796683549880981, test_accuracy: 0.6908000111579895\n"
     ]
    }
   ],
   "source": [
    "train_loss, train_m = model_3.evaluate(X_train, y_train, verbose=2)\n",
    "test_loss, test_m = model_3.evaluate(X_test, y_test, verbose=2)\n",
    "print(f'train_loss: {train_loss}, train_accuracy: {train_m}')\n",
    "print(f'test_loss: {test_loss}, test_accuracy: {test_m}')\n",
    "\n",
    "step.append(3)\n",
    "desc.append('Глубже - больше слоев')\n",
    "train_acc.append(round(train_m,2))\n",
    "test_acc.append(round(test_m,2))"
   ]
  },
  {
   "cell_type": "code",
   "execution_count": null,
   "metadata": {
    "colab": {
     "base_uri": "https://localhost:8080/",
     "height": 281
    },
    "id": "w_AFSwBFeiu9",
    "outputId": "14bfd661-a708-4b1d-f6c6-18364590cd83"
   },
   "outputs": [
    {
     "data": {
      "image/png": "[encoded data removed]",
      "text/plain": [
       "<Figure size 432x288 with 1 Axes>"
      ]
     },
     "metadata": {
      "needs_background": "light"
     },
     "output_type": "display_data"
    }
   ],
   "source": [
    "N = 20\n",
    "y_p = model_3.predict(X_test[N:N+1])\n",
    "y_t = np.argmax(y_test[N:N+1], axis = 1 )\n",
    "y_i = np.argmax(y_p, axis = 1 )\n",
    "plt.imshow(X_test[N])\n",
    "plt.title(f'это : {classes[y_t[0]]} - опознан как : {classes[y_i[0]]}')\n",
    "plt.show()"
   ]
  },
  {
   "cell_type": "markdown",
   "metadata": {
    "id": "rIui_vzwem10"
   },
   "source": [
    "### 4. Полносвязная сеть для этой выборки"
   ]
  },
  {
   "cell_type": "code",
   "execution_count": null,
   "metadata": {
    "colab": {
     "base_uri": "https://localhost:8080/"
    },
    "id": "YLeukSj8ew25",
    "outputId": "ee9dc9e6-9f49-4142-d5c1-95c4301e0c4f"
   },
   "outputs": [
    {
     "name": "stdout",
     "output_type": "stream",
     "text": [
      "Model: \"sequential_20\"\n",
      "_________________________________________________________________\n",
      " Layer (type)                Output Shape              Param #   \n",
      "=================================================================\n",
      " flatten_4 (Flatten)         (None, 3072)              0         \n",
      "                                                                 \n",
      " dense_55 (Dense)            (None, 512)               1573376   \n",
      "                                                                 \n",
      " activation_129 (Activation)  (None, 512)              0         \n",
      "                                                                 \n",
      " dense_56 (Dense)            (None, 256)               131328    \n",
      "                                                                 \n",
      " activation_130 (Activation)  (None, 256)              0         \n",
      "                                                                 \n",
      " dropout_57 (Dropout)        (None, 256)               0         \n",
      "                                                                 \n",
      " dense_57 (Dense)            (None, 10)                2570      \n",
      "                                                                 \n",
      " activation_131 (Activation)  (None, 10)               0         \n",
      "                                                                 \n",
      "=================================================================\n",
      "Total params: 1,707,274\n",
      "Trainable params: 1,707,274\n",
      "Non-trainable params: 0\n",
      "_________________________________________________________________\n"
     ]
    }
   ],
   "source": [
    "# конфигурирование слоев нейросети\n",
    "model_4 = Sequential()\n",
    "\n",
    "# полносвязные слои нейронной сети\n",
    "model_4.add(Flatten(input_shape=X_train.shape[1:]))\n",
    "model_4.add(Dense(512))\n",
    "model_4.add(Activation('relu'))\n",
    "model_4.add(Dense(256))\n",
    "model_4.add(Activation('relu'))\n",
    "model_4.add(Dropout(0.5))\n",
    "model_4.add(Dense(num_classes))\n",
    "model_4.add(Activation('softmax'))\n",
    "\n",
    "model_4.summary()\n",
    "# компиляция модели\n",
    "model_4.compile(loss='categorical_crossentropy',\n",
    "                optimizer='Adam',\n",
    "                metrics=['accuracy'])"
   ]
  },
  {
   "cell_type": "code",
   "execution_count": null,
   "metadata": {
    "colab": {
     "base_uri": "https://localhost:8080/"
    },
    "id": "Ir53z_Y0hfOc",
    "outputId": "082cac15-211d-42a4-eb52-b38a0c18ea7d"
   },
   "outputs": [
    {
     "name": "stdout",
     "output_type": "stream",
     "text": [
      "Epoch 1/10\n",
      "782/782 [==============================] - 5s 6ms/step - loss: 2.0061 - accuracy: 0.2675 - val_loss: 1.8074 - val_accuracy: 0.3440\n",
      "Epoch 2/10\n",
      "782/782 [==============================] - 5s 6ms/step - loss: 1.7926 - accuracy: 0.3571 - val_loss: 1.6810 - val_accuracy: 0.3996\n",
      "Epoch 3/10\n",
      "782/782 [==============================] - 5s 6ms/step - loss: 1.7196 - accuracy: 0.3884 - val_loss: 1.6287 - val_accuracy: 0.4204\n",
      "Epoch 4/10\n",
      "782/782 [==============================] - 5s 6ms/step - loss: 1.6576 - accuracy: 0.4087 - val_loss: 1.6065 - val_accuracy: 0.4275\n",
      "Epoch 5/10\n",
      "782/782 [==============================] - 5s 6ms/step - loss: 1.6244 - accuracy: 0.4227 - val_loss: 1.5667 - val_accuracy: 0.4445\n",
      "Epoch 6/10\n",
      "782/782 [==============================] - 5s 6ms/step - loss: 1.6018 - accuracy: 0.4302 - val_loss: 1.5309 - val_accuracy: 0.4568\n",
      "Epoch 7/10\n",
      "782/782 [==============================] - 5s 6ms/step - loss: 1.5775 - accuracy: 0.4388 - val_loss: 1.5228 - val_accuracy: 0.4560\n",
      "Epoch 8/10\n",
      "782/782 [==============================] - 5s 6ms/step - loss: 1.5663 - accuracy: 0.4421 - val_loss: 1.5594 - val_accuracy: 0.4512\n",
      "Epoch 9/10\n",
      "782/782 [==============================] - 5s 6ms/step - loss: 1.5485 - accuracy: 0.4490 - val_loss: 1.5079 - val_accuracy: 0.4617\n",
      "Epoch 10/10\n",
      "782/782 [==============================] - 5s 6ms/step - loss: 1.5303 - accuracy: 0.4545 - val_loss: 1.5215 - val_accuracy: 0.4561\n"
     ]
    }
   ],
   "source": [
    "history_4 = model_4.fit(X_train, y_train,\n",
    "                        batch_size=batch_size,\n",
    "                        epochs=epochs,\n",
    "                        validation_data=(X_test, y_test))"
   ]
  },
  {
   "cell_type": "code",
   "execution_count": null,
   "metadata": {
    "colab": {
     "base_uri": "https://localhost:8080/"
    },
    "id": "vOTj4lwDhkaG",
    "outputId": "3b584310-8b32-49ed-c96b-eaeee1136bdf"
   },
   "outputs": [
    {
     "name": "stdout",
     "output_type": "stream",
     "text": [
      "1563/1563 - 4s - loss: 1.4580 - accuracy: 0.4800 - 4s/epoch - 3ms/step\n",
      "313/313 - 1s - loss: 1.5215 - accuracy: 0.4561 - 907ms/epoch - 3ms/step\n",
      "train_loss: 1.4580318927764893, train_accuracy: 0.47995999455451965\n",
      "test_loss: 1.5215072631835938, test_accuracy: 0.4560999870300293\n"
     ]
    }
   ],
   "source": [
    "train_loss, train_m = model_4.evaluate(X_train, y_train, verbose=2)\n",
    "test_loss, test_m = model_4.evaluate(X_test, y_test, verbose=2)\n",
    "print(f'train_loss: {train_loss}, train_accuracy: {train_m}')\n",
    "print(f'test_loss: {test_loss}, test_accuracy: {test_m}')\n",
    "\n",
    "step.append(4)\n",
    "desc.append('Полносвязная сеть')\n",
    "train_acc.append(round(train_m,2))\n",
    "test_acc.append(round(test_m,2))"
   ]
  },
  {
   "cell_type": "code",
   "execution_count": null,
   "metadata": {
    "colab": {
     "base_uri": "https://localhost:8080/",
     "height": 281
    },
    "id": "b5k4l5Vvhop6",
    "outputId": "005c495d-ec07-43f1-fdfa-1ec26c329c77"
   },
   "outputs": [
    {
     "data": {
      "image/png": "[encoded data removed]",
      "text/plain": [
       "<Figure size 432x288 with 1 Axes>"
      ]
     },
     "metadata": {
      "needs_background": "light"
     },
     "output_type": "display_data"
    }
   ],
   "source": [
    "N = 25\n",
    "y_p = model_4.predict(X_test[N:N+1])\n",
    "y_t = np.argmax(y_test[N:N+1], axis = 1 )\n",
    "y_i = np.argmax(y_p, axis = 1 )\n",
    "plt.imshow(X_test[N])\n",
    "plt.title(f'это : {classes[y_t[0]]} - опознан как : {classes[y_i[0]]}')\n",
    "plt.show()"
   ]
  },
  {
   "cell_type": "code",
   "execution_count": null,
   "metadata": {
    "id": "g7HNLSixy6F7"
   },
   "outputs": [],
   "source": [
    "results['step'] = step\n",
    "results['desc'] = desc\n",
    "results['train_acc'] = train_acc\n",
    "results['test_acc'] = test_acc"
   ]
  },
  {
   "cell_type": "code",
   "execution_count": null,
   "metadata": {
    "colab": {
     "base_uri": "https://localhost:8080/",
     "height": 175
    },
    "id": "k-ssY_2GzRmv",
    "outputId": "638c3a34-6a6c-4899-a052-ef7fb25a4d75"
   },
   "outputs": [
    {
     "data": {
      "text/html": [
       "\n",
       "  <div id=\"df-fd3be9aa-e489-49cd-9cd1-74fe8c10de63\">\n",
       "    <div class=\"colab-df-container\">\n",
       "      <div>\n",
       "<style scoped>\n",
       "    .dataframe tbody tr th:only-of-type {\n",
       "        vertical-align: middle;\n",
       "    }\n",
       "\n",
       "    .dataframe tbody tr th {\n",
       "        vertical-align: top;\n",
       "    }\n",
       "\n",
       "    .dataframe thead th {\n",
       "        text-align: right;\n",
       "    }\n",
       "</style>\n",
       "<table border=\"1\" class=\"dataframe\">\n",
       "  <thead>\n",
       "    <tr style=\"text-align: right;\">\n",
       "      <th></th>\n",
       "      <th>step</th>\n",
       "      <th>desc</th>\n",
       "      <th>train_acc</th>\n",
       "      <th>test_acc</th>\n",
       "    </tr>\n",
       "  </thead>\n",
       "  <tbody>\n",
       "    <tr>\n",
       "      <th>0</th>\n",
       "      <td>1</td>\n",
       "      <td>Базовая модель</td>\n",
       "      <td>0.65</td>\n",
       "      <td>0.63</td>\n",
       "    </tr>\n",
       "    <tr>\n",
       "      <th>1</th>\n",
       "      <td>2</td>\n",
       "      <td>Шире - больше каналов</td>\n",
       "      <td>0.75</td>\n",
       "      <td>0.72</td>\n",
       "    </tr>\n",
       "    <tr>\n",
       "      <th>2</th>\n",
       "      <td>3</td>\n",
       "      <td>Глубже - больше слоев</td>\n",
       "      <td>0.73</td>\n",
       "      <td>0.69</td>\n",
       "    </tr>\n",
       "    <tr>\n",
       "      <th>3</th>\n",
       "      <td>4</td>\n",
       "      <td>Полносвязная сеть</td>\n",
       "      <td>0.48</td>\n",
       "      <td>0.46</td>\n",
       "    </tr>\n",
       "  </tbody>\n",
       "</table>\n",
       "</div>\n",
       "      <button class=\"colab-df-convert\" onclick=\"convertToInteractive('df-fd3be9aa-e489-49cd-9cd1-74fe8c10de63')\"\n",
       "              title=\"Convert this dataframe to an interactive table.\"\n",
       "              style=\"display:none;\">\n",
       "        \n",
       "  <svg xmlns=\"http://www.w3.org/2000/svg\" height=\"24px\"viewBox=\"0 0 24 24\"\n",
       "       width=\"24px\">\n",
       "    <path d=\"M0 0h24v24H0V0z\" fill=\"none\"/>\n",
       "    <path d=\"M18.56 5.44l.94 2.06.94-2.06 2.06-.94-2.06-.94-.94-2.06-.94 2.06-2.06.94zm-11 1L8.5 8.5l.94-2.06 2.06-.94-2.06-.94L8.5 2.5l-.94 2.06-2.06.94zm10 10l.94 2.06.94-2.06 2.06-.94-2.06-.94-.94-2.06-.94 2.06-2.06.94z\"/><path d=\"M17.41 7.96l-1.37-1.37c-.4-.4-.92-.59-1.43-.59-.52 0-1.04.2-1.43.59L10.3 9.45l-7.72 7.72c-.78.78-.78 2.05 0 2.83L4 21.41c.39.39.9.59 1.41.59.51 0 1.02-.2 1.41-.59l7.78-7.78 2.81-2.81c.8-.78.8-2.07 0-2.86zM5.41 20L4 18.59l7.72-7.72 1.47 1.35L5.41 20z\"/>\n",
       "  </svg>\n",
       "      </button>\n",
       "      \n",
       "  <style>\n",
       "    .colab-df-container {\n",
       "      display:flex;\n",
       "      flex-wrap:wrap;\n",
       "      gap: 12px;\n",
       "    }\n",
       "\n",
       "    .colab-df-convert {\n",
       "      background-color: #E8F0FE;\n",
       "      border: none;\n",
       "      border-radius: 50%;\n",
       "      cursor: pointer;\n",
       "      display: none;\n",
       "      fill: #1967D2;\n",
       "      height: 32px;\n",
       "      padding: 0 0 0 0;\n",
       "      width: 32px;\n",
       "    }\n",
       "\n",
       "    .colab-df-convert:hover {\n",
       "      background-color: #E2EBFA;\n",
       "      box-shadow: 0px 1px 2px rgba(60, 64, 67, 0.3), 0px 1px 3px 1px rgba(60, 64, 67, 0.15);\n",
       "      fill: #174EA6;\n",
       "    }\n",
       "\n",
       "    [theme=dark] .colab-df-convert {\n",
       "      background-color: #3B4455;\n",
       "      fill: #D2E3FC;\n",
       "    }\n",
       "\n",
       "    [theme=dark] .colab-df-convert:hover {\n",
       "      background-color: #434B5C;\n",
       "      box-shadow: 0px 1px 3px 1px rgba(0, 0, 0, 0.15);\n",
       "      filter: drop-shadow(0px 1px 2px rgba(0, 0, 0, 0.3));\n",
       "      fill: #FFFFFF;\n",
       "    }\n",
       "  </style>\n",
       "\n",
       "      <script>\n",
       "        const buttonEl =\n",
       "          document.querySelector('#df-fd3be9aa-e489-49cd-9cd1-74fe8c10de63 button.colab-df-convert');\n",
       "        buttonEl.style.display =\n",
       "          google.colab.kernel.accessAllowed ? 'block' : 'none';\n",
       "\n",
       "        async function convertToInteractive(key) {\n",
       "          const element = document.querySelector('#df-fd3be9aa-e489-49cd-9cd1-74fe8c10de63');\n",
       "          const dataTable =\n",
       "            await google.colab.kernel.invokeFunction('convertToInteractive',\n",
       "                                                     [key], {});\n",
       "          if (!dataTable) return;\n",
       "\n",
       "          const docLinkHtml = 'Like what you see? Visit the ' +\n",
       "            '<a target=\"_blank\" href=https://colab.research.google.com/notebooks/data_table.ipynb>data table notebook</a>'\n",
       "            + ' to learn more about interactive tables.';\n",
       "          element.innerHTML = '';\n",
       "          dataTable['output_type'] = 'display_data';\n",
       "          await google.colab.output.renderOutput(dataTable, element);\n",
       "          const docLink = document.createElement('div');\n",
       "          docLink.innerHTML = docLinkHtml;\n",
       "          element.appendChild(docLink);\n",
       "        }\n",
       "      </script>\n",
       "    </div>\n",
       "  </div>\n",
       "  "
      ],
      "text/plain": [
       "   step                   desc  train_acc  test_acc\n",
       "0     1         Базовая модель       0.65      0.63\n",
       "1     2  Шире - больше каналов       0.75      0.72\n",
       "2     3  Глубже - больше слоев       0.73      0.69\n",
       "3     4      Полносвязная сеть       0.48      0.46"
      ]
     },
     "execution_count": 98,
     "metadata": {},
     "output_type": "execute_result"
    }
   ],
   "source": [
    "results"
   ]
  },
  {
   "cell_type": "markdown",
   "metadata": {
    "id": "jNyOFmil3eUR"
   },
   "source": [
    "### Выводы:<br>\n",
    "* увеличение количества каналов, т.е. увеличение итогового количества признаков, увеличило значение метрики;\n",
    "* увеличение глубины сети тоже увеличило метрику качества, но это всё равно ниже, чем с большом кол-вом каналов;\n",
    "* полносвязная сеть без сверточных слоев показывает качество ниже, чем базовая модель со сверточными слоями."
   ]
  }
 ],
 "metadata": {
  "accelerator": "GPU",
  "colab": {
   "provenance": []
  },
  "kernelspec": {
   "display_name": "Python 3 (ipykernel)",
   "language": "python",
   "name": "python3"
  },
  "language_info": {
   "codemirror_mode": {
    "name": "ipython",
    "version": 3
   },
   "file_extension": ".py",
   "mimetype": "text/x-python",
   "name": "python",
   "nbconvert_exporter": "python",
   "pygments_lexer": "ipython3",
   "version": "3.9.16"
  }
 },
 "nbformat": 4,
 "nbformat_minor": 1
}
