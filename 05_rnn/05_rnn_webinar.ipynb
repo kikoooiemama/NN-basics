{
 "cells": [
  {
   "cell_type": "markdown",
   "metadata": {
    "id": "vQnDWSn8TEOl"
   },
   "source": [
    "# Введение в искусственные нейронные сети\n",
    "\n",
    "# Часть 5. Рекуррентные нейронные сети"
   ]
  },
  {
   "cell_type": "markdown",
   "metadata": {
    "id": "RDl63Y-8TEOq"
   },
   "source": [
    "## Содержание:\n",
    "\n",
    "\n",
    "<ol>\n",
    "<li>Что такое Рекурретные нейронные сети</li>\n",
    "<li>Архитектура Рекуррентных нейронных сетей</li>\n",
    "<li>Пример на Keras рекуррентной нейронной сети</li>\n",
    "</ol>"
   ]
  },
  {
   "cell_type": "markdown",
   "metadata": {
    "id": "hUDRJOqcTEOs"
   },
   "source": [
    "## Что такое Рекуррентные нейронные сети\n",
    "\n",
    "\n",
    "\n"
   ]
  },
  {
   "cell_type": "markdown",
   "metadata": {
    "id": "0ZwtSK7zTEOu"
   },
   "source": [
    "Нейронные сети которые мы разбирали ранее относятся к классу feed forward нейронных сетей или сетей прямого распространения. Выходной сигнал слоя в этих нейронных сетях передавался напрямую в следующий слой. Однако есть задачи, в которых нам нужно обучать нейронную сеть не на единичных экземплярах наподобие изображений, а на наборах последовательностей, например последовательностей слов. \n",
    "\n",
    "<img src='images/rnn1.png'>\n",
    "\n",
    "В рекуррентной нейронной сети выходной сигнал внутренних слоев циркулирует в этих слоях некоторое время. При обучении такой нейронной сети прежние выходные сигналы используются как дополнительные input'ы. Можно сказать, что эти дополнительные input'ы конкатенируются с \"нормальными\" input'ами предыдущего слоя.\n",
    "\n",
    "Плюс рекуррентных нейронных сетей, или RNN, в том, что они обеспечивают последовательности с вариативными длинами как для входа, так и для вывода. Вот несколько примеров того, как может выглядеть рекуррентная нейронная сеть:\n",
    "\n",
    "<img src='images/rnn2.jpg'>\n",
    "\n",
    "*Входные данные отмечены красным, нейронная сеть RNN — зеленым, а вывод — синим.*"
   ]
  },
  {
   "cell_type": "markdown",
   "metadata": {
    "id": "lSuRcwvWn2JN"
   },
   "source": [
    "И несколько примеров задач:\n",
    "<img src='images/rnn3.png'>"
   ]
  },
  {
   "cell_type": "markdown",
   "metadata": {
    "id": "2NHvb2SRTEO0"
   },
   "source": [
    "Реккурентные нейронные сети используются например для того, чтобы научить компьютерные системы \"понимать\" человеческих язык, для генерации текста.\n",
    "Области использования:\n",
    "\n",
    "- *Машинный перевод* выполняется при помощи нейронных сетей с принципом «многие ко многим». Оригинальная последовательность текста подается в рекуррентную нейронную сеть, которая затем создает переведенный текст в качестве результата вывода\n",
    "- *Анализ настроений* часто выполняется при помощи рекуррентных нейронных сетей с принципом «многие к одному». Этот отзыв положительный или отрицательный?\n",
    "- Разновидности реккуретных нейронных используются также для построения ИИ, подобных тем, что *обыграли человека* в компьютерную игру Dota 2\n",
    "\n",
    "В отличие от сверточных нейронных сетей реккурентные нейронные сети как правило содержат небольшое количество слоев"
   ]
  },
  {
   "cell_type": "markdown",
   "metadata": {
    "id": "vWKxQzctTEO2"
   },
   "source": [
    "## Архитектура Рекуррентных нейронных сетей\n"
   ]
  },
  {
   "cell_type": "markdown",
   "metadata": {
    "id": "UpqSEDLdTEO4"
   },
   "source": [
    "Несмотря на то, что RNN могут хорошо справляться со своими задачами они не могут работать с длинными последовательностями. Эффективно они могут работать только с последовательностями состоящими из 3-4 элементов. Для, к примеру, анализа текста отзывов на предмет того положительный это отзыв или нет этого будет недостаточно. Здесь может понадобиться анализ нескольких десятков слов, чтобы сделать корректный вывод."
   ]
  },
  {
   "cell_type": "markdown",
   "metadata": {
    "id": "lcFx75tROHcI"
   },
   "source": [
    "<img src='images/arch1.jpg'>\n",
    "\n",
    "\n",
    "Типичная классическая рекуррентная нейронная сеть использует только три набора параметров веса для выполнения требуемых подсчетов:\n",
    "\n",
    "1. $W_{xh}$ используется для всех связок $x_t$ → $h_t$\n",
    "2. $W_{hh}$ используется для всех связок $h_{t-1}$ → $h_t$\n",
    "3. $W_{hy}$ используется для всех связок $h_t$ → $y_t$\n",
    "\n",
    "$$h_t = tanh(W_{xh}x_t + W_{hh}h_{t-1})$$\n",
    "$$y_t = W_{hy}h_t$$"
   ]
  },
  {
   "cell_type": "markdown",
   "metadata": {
    "id": "1S-HasHybd6a"
   },
   "source": [
    "<img src='images/arch2.png' width=500>\n",
    "\n",
    "До этого в одном нейроне функция активации была:\n",
    "\n",
    "$$h = tanh(Wx)$$\n",
    "А теперь в нейроне с обратной связью:\n",
    "$$h = tanh(W_{1}h + W_{2}x)$$"
   ]
  },
  {
   "cell_type": "markdown",
   "metadata": {
    "id": "Fxl249ihhWkt"
   },
   "source": [
    "Вот так можно проиллюстрировать связи в нейронах RNN: \n",
    "<img src='images/arch3.png' width=500>\n",
    "\n",
    "Выход каждого нейрона подключен ко входам всех нейронов.\n"
   ]
  },
  {
   "cell_type": "code",
   "execution_count": null,
   "metadata": {
    "id": "PmN2uhM6HyGQ"
   },
   "outputs": [],
   "source": [
    "from keras.layers import SimpleRNN, LSTM, SimpleRNNCell\n",
    "from keras.models import Sequential\n",
    "import tensorflow as tf"
   ]
  },
  {
   "cell_type": "code",
   "execution_count": null,
   "metadata": {
    "colab": {
     "base_uri": "https://localhost:8080/"
    },
    "id": "cv_xw5cRJI0Q",
    "outputId": "b4c38be2-186c-48f2-a681-57e885efc906"
   },
   "outputs": [
    {
     "name": "stdout",
     "output_type": "stream",
     "text": [
      "Model: \"sequential_1\"\n",
      "_________________________________________________________________\n",
      " Layer (type)                Output Shape              Param #   \n",
      "=================================================================\n",
      " simple_rnn_1 (SimpleRNN)    (None, 3)                 15        \n",
      "                                                                 \n",
      "=================================================================\n",
      "Total params: 15\n",
      "Trainable params: 15\n",
      "Non-trainable params: 0\n",
      "_________________________________________________________________\n"
     ]
    }
   ],
   "source": [
    "tf.random.set_seed(8)\n",
    "\n",
    "model = Sequential([\n",
    "            SimpleRNN(3, activation='sigmoid',\n",
    "                      return_sequences=False,\n",
    "                      input_shape=(10, 1))\n",
    "        ])\n",
    "model.summary()"
   ]
  },
  {
   "cell_type": "code",
   "execution_count": null,
   "metadata": {
    "colab": {
     "base_uri": "https://localhost:8080/"
    },
    "id": "rNXgOUtbiMFs",
    "outputId": "e5af129b-c094-4150-b7db-64ddb72f0db7"
   },
   "outputs": [
    {
     "data": {
      "text/plain": [
       "[array([[-0.32960218, -0.39679444,  0.21676207]], dtype=float32),\n",
       " array([[ 0.84932506, -0.5089883 , -0.13991989],\n",
       "        [ 0.07708611, -0.14263101,  0.98676956],\n",
       "        [ 0.52221113,  0.8488741 ,  0.08190418]], dtype=float32),\n",
       " array([0., 0., 0.], dtype=float32)]"
      ]
     },
     "execution_count": 19,
     "metadata": {},
     "output_type": "execute_result"
    }
   ],
   "source": [
    "model.get_weights()"
   ]
  },
  {
   "cell_type": "code",
   "execution_count": null,
   "metadata": {
    "id": "cNFj5gtZHnpG"
   },
   "outputs": [],
   "source": [
    "# 0.6918393"
   ]
  },
  {
   "cell_type": "code",
   "execution_count": null,
   "metadata": {
    "colab": {
     "base_uri": "https://localhost:8080/"
    },
    "id": "Zp3pityDdtGE",
    "outputId": "64196d00-4e34-4794-ff61-58e6cecfdc40"
   },
   "outputs": [
    {
     "name": "stdout",
     "output_type": "stream",
     "text": [
      "1/1 [==============================] - 0s 115ms/step\n"
     ]
    },
    {
     "data": {
      "text/plain": [
       "array([[0.7478643 , 0.55664617, 0.59053755]], dtype=float32)"
      ]
     },
     "execution_count": 21,
     "metadata": {},
     "output_type": "execute_result"
    }
   ],
   "source": [
    "import numpy as np\n",
    "np.random.seed(5)\n",
    "x = np.random.randn(10).reshape((10, 1))\n",
    "model.predict(x[None])"
   ]
  },
  {
   "cell_type": "markdown",
   "metadata": {
    "id": "s1QjamHTdfWd"
   },
   "source": [
    "### Реализация рекуррентной сети"
   ]
  },
  {
   "cell_type": "markdown",
   "metadata": {
    "id": "tWQ-8jvpQdF-"
   },
   "source": [
    "Давайте попробуем сделать простую реккурентную нейронную сеть, которая будет учиться складывать числа. Для этих целей мы не будем пользоваться фреймворками для Deep Learning, чтобы посмотреть как она работает внутри.\n"
   ]
  },
  {
   "cell_type": "code",
   "execution_count": null,
   "metadata": {
    "id": "ZdKvK1doQo9V"
   },
   "outputs": [],
   "source": [
    "# впервую очередь подключим numpy и библиотеку copy, которая понадобиться, чтобы сделать deepcopy ряда элементов\n",
    "import copy\n",
    "import numpy as np\n",
    "np.random.seed(0)\n",
    "\n",
    "\n",
    "# вычислим сигмоиду\n",
    "def sigmoid(x):\n",
    "    output = 1 / (1 + np.exp(-x))\n",
    "    return output\n",
    "\n",
    "# конвертируем значение функции сигмоиды в ее производную. \n",
    "def sigmoid_deriv(output):\n",
    "    return output * (1 - output)"
   ]
  },
  {
   "cell_type": "code",
   "execution_count": null,
   "metadata": {
    "colab": {
     "base_uri": "https://localhost:8080/",
     "height": 1000
    },
    "id": "B1GjZCvTa6eW",
    "outputId": "326edb2f-d18b-4785-bdec-cb62bea3b172"
   },
   "outputs": [
    {
     "data": {
      "text/plain": [
       "array([[0, 0, 0, ..., 0, 0, 0],\n",
       "       [0, 0, 0, ..., 0, 0, 1],\n",
       "       [0, 0, 0, ..., 0, 1, 0],\n",
       "       ...,\n",
       "       [1, 1, 1, ..., 1, 0, 1],\n",
       "       [1, 1, 1, ..., 1, 1, 0],\n",
       "       [1, 1, 1, ..., 1, 1, 1]], dtype=uint8)"
      ]
     },
     "metadata": {},
     "output_type": "display_data"
    },
    {
     "data": {
      "text/plain": [
       "{0: array([0, 0, 0, 0, 0, 0, 0, 0], dtype=uint8),\n",
       " 1: array([0, 0, 0, 0, 0, 0, 0, 1], dtype=uint8),\n",
       " 2: array([0, 0, 0, 0, 0, 0, 1, 0], dtype=uint8),\n",
       " 3: array([0, 0, 0, 0, 0, 0, 1, 1], dtype=uint8),\n",
       " 4: array([0, 0, 0, 0, 0, 1, 0, 0], dtype=uint8),\n",
       " 5: array([0, 0, 0, 0, 0, 1, 0, 1], dtype=uint8),\n",
       " 6: array([0, 0, 0, 0, 0, 1, 1, 0], dtype=uint8),\n",
       " 7: array([0, 0, 0, 0, 0, 1, 1, 1], dtype=uint8),\n",
       " 8: array([0, 0, 0, 0, 1, 0, 0, 0], dtype=uint8),\n",
       " 9: array([0, 0, 0, 0, 1, 0, 0, 1], dtype=uint8),\n",
       " 10: array([0, 0, 0, 0, 1, 0, 1, 0], dtype=uint8),\n",
       " 11: array([0, 0, 0, 0, 1, 0, 1, 1], dtype=uint8),\n",
       " 12: array([0, 0, 0, 0, 1, 1, 0, 0], dtype=uint8),\n",
       " 13: array([0, 0, 0, 0, 1, 1, 0, 1], dtype=uint8),\n",
       " 14: array([0, 0, 0, 0, 1, 1, 1, 0], dtype=uint8),\n",
       " 15: array([0, 0, 0, 0, 1, 1, 1, 1], dtype=uint8),\n",
       " 16: array([0, 0, 0, 1, 0, 0, 0, 0], dtype=uint8),\n",
       " 17: array([0, 0, 0, 1, 0, 0, 0, 1], dtype=uint8),\n",
       " 18: array([0, 0, 0, 1, 0, 0, 1, 0], dtype=uint8),\n",
       " 19: array([0, 0, 0, 1, 0, 0, 1, 1], dtype=uint8),\n",
       " 20: array([0, 0, 0, 1, 0, 1, 0, 0], dtype=uint8),\n",
       " 21: array([0, 0, 0, 1, 0, 1, 0, 1], dtype=uint8),\n",
       " 22: array([0, 0, 0, 1, 0, 1, 1, 0], dtype=uint8),\n",
       " 23: array([0, 0, 0, 1, 0, 1, 1, 1], dtype=uint8),\n",
       " 24: array([0, 0, 0, 1, 1, 0, 0, 0], dtype=uint8),\n",
       " 25: array([0, 0, 0, 1, 1, 0, 0, 1], dtype=uint8),\n",
       " 26: array([0, 0, 0, 1, 1, 0, 1, 0], dtype=uint8),\n",
       " 27: array([0, 0, 0, 1, 1, 0, 1, 1], dtype=uint8),\n",
       " 28: array([0, 0, 0, 1, 1, 1, 0, 0], dtype=uint8),\n",
       " 29: array([0, 0, 0, 1, 1, 1, 0, 1], dtype=uint8),\n",
       " 30: array([0, 0, 0, 1, 1, 1, 1, 0], dtype=uint8),\n",
       " 31: array([0, 0, 0, 1, 1, 1, 1, 1], dtype=uint8),\n",
       " 32: array([0, 0, 1, 0, 0, 0, 0, 0], dtype=uint8),\n",
       " 33: array([0, 0, 1, 0, 0, 0, 0, 1], dtype=uint8),\n",
       " 34: array([0, 0, 1, 0, 0, 0, 1, 0], dtype=uint8),\n",
       " 35: array([0, 0, 1, 0, 0, 0, 1, 1], dtype=uint8),\n",
       " 36: array([0, 0, 1, 0, 0, 1, 0, 0], dtype=uint8),\n",
       " 37: array([0, 0, 1, 0, 0, 1, 0, 1], dtype=uint8),\n",
       " 38: array([0, 0, 1, 0, 0, 1, 1, 0], dtype=uint8),\n",
       " 39: array([0, 0, 1, 0, 0, 1, 1, 1], dtype=uint8),\n",
       " 40: array([0, 0, 1, 0, 1, 0, 0, 0], dtype=uint8),\n",
       " 41: array([0, 0, 1, 0, 1, 0, 0, 1], dtype=uint8),\n",
       " 42: array([0, 0, 1, 0, 1, 0, 1, 0], dtype=uint8),\n",
       " 43: array([0, 0, 1, 0, 1, 0, 1, 1], dtype=uint8),\n",
       " 44: array([0, 0, 1, 0, 1, 1, 0, 0], dtype=uint8),\n",
       " 45: array([0, 0, 1, 0, 1, 1, 0, 1], dtype=uint8),\n",
       " 46: array([0, 0, 1, 0, 1, 1, 1, 0], dtype=uint8),\n",
       " 47: array([0, 0, 1, 0, 1, 1, 1, 1], dtype=uint8),\n",
       " 48: array([0, 0, 1, 1, 0, 0, 0, 0], dtype=uint8),\n",
       " 49: array([0, 0, 1, 1, 0, 0, 0, 1], dtype=uint8),\n",
       " 50: array([0, 0, 1, 1, 0, 0, 1, 0], dtype=uint8),\n",
       " 51: array([0, 0, 1, 1, 0, 0, 1, 1], dtype=uint8),\n",
       " 52: array([0, 0, 1, 1, 0, 1, 0, 0], dtype=uint8),\n",
       " 53: array([0, 0, 1, 1, 0, 1, 0, 1], dtype=uint8),\n",
       " 54: array([0, 0, 1, 1, 0, 1, 1, 0], dtype=uint8),\n",
       " 55: array([0, 0, 1, 1, 0, 1, 1, 1], dtype=uint8),\n",
       " 56: array([0, 0, 1, 1, 1, 0, 0, 0], dtype=uint8),\n",
       " 57: array([0, 0, 1, 1, 1, 0, 0, 1], dtype=uint8),\n",
       " 58: array([0, 0, 1, 1, 1, 0, 1, 0], dtype=uint8),\n",
       " 59: array([0, 0, 1, 1, 1, 0, 1, 1], dtype=uint8),\n",
       " 60: array([0, 0, 1, 1, 1, 1, 0, 0], dtype=uint8),\n",
       " 61: array([0, 0, 1, 1, 1, 1, 0, 1], dtype=uint8),\n",
       " 62: array([0, 0, 1, 1, 1, 1, 1, 0], dtype=uint8),\n",
       " 63: array([0, 0, 1, 1, 1, 1, 1, 1], dtype=uint8),\n",
       " 64: array([0, 1, 0, 0, 0, 0, 0, 0], dtype=uint8),\n",
       " 65: array([0, 1, 0, 0, 0, 0, 0, 1], dtype=uint8),\n",
       " 66: array([0, 1, 0, 0, 0, 0, 1, 0], dtype=uint8),\n",
       " 67: array([0, 1, 0, 0, 0, 0, 1, 1], dtype=uint8),\n",
       " 68: array([0, 1, 0, 0, 0, 1, 0, 0], dtype=uint8),\n",
       " 69: array([0, 1, 0, 0, 0, 1, 0, 1], dtype=uint8),\n",
       " 70: array([0, 1, 0, 0, 0, 1, 1, 0], dtype=uint8),\n",
       " 71: array([0, 1, 0, 0, 0, 1, 1, 1], dtype=uint8),\n",
       " 72: array([0, 1, 0, 0, 1, 0, 0, 0], dtype=uint8),\n",
       " 73: array([0, 1, 0, 0, 1, 0, 0, 1], dtype=uint8),\n",
       " 74: array([0, 1, 0, 0, 1, 0, 1, 0], dtype=uint8),\n",
       " 75: array([0, 1, 0, 0, 1, 0, 1, 1], dtype=uint8),\n",
       " 76: array([0, 1, 0, 0, 1, 1, 0, 0], dtype=uint8),\n",
       " 77: array([0, 1, 0, 0, 1, 1, 0, 1], dtype=uint8),\n",
       " 78: array([0, 1, 0, 0, 1, 1, 1, 0], dtype=uint8),\n",
       " 79: array([0, 1, 0, 0, 1, 1, 1, 1], dtype=uint8),\n",
       " 80: array([0, 1, 0, 1, 0, 0, 0, 0], dtype=uint8),\n",
       " 81: array([0, 1, 0, 1, 0, 0, 0, 1], dtype=uint8),\n",
       " 82: array([0, 1, 0, 1, 0, 0, 1, 0], dtype=uint8),\n",
       " 83: array([0, 1, 0, 1, 0, 0, 1, 1], dtype=uint8),\n",
       " 84: array([0, 1, 0, 1, 0, 1, 0, 0], dtype=uint8),\n",
       " 85: array([0, 1, 0, 1, 0, 1, 0, 1], dtype=uint8),\n",
       " 86: array([0, 1, 0, 1, 0, 1, 1, 0], dtype=uint8),\n",
       " 87: array([0, 1, 0, 1, 0, 1, 1, 1], dtype=uint8),\n",
       " 88: array([0, 1, 0, 1, 1, 0, 0, 0], dtype=uint8),\n",
       " 89: array([0, 1, 0, 1, 1, 0, 0, 1], dtype=uint8),\n",
       " 90: array([0, 1, 0, 1, 1, 0, 1, 0], dtype=uint8),\n",
       " 91: array([0, 1, 0, 1, 1, 0, 1, 1], dtype=uint8),\n",
       " 92: array([0, 1, 0, 1, 1, 1, 0, 0], dtype=uint8),\n",
       " 93: array([0, 1, 0, 1, 1, 1, 0, 1], dtype=uint8),\n",
       " 94: array([0, 1, 0, 1, 1, 1, 1, 0], dtype=uint8),\n",
       " 95: array([0, 1, 0, 1, 1, 1, 1, 1], dtype=uint8),\n",
       " 96: array([0, 1, 1, 0, 0, 0, 0, 0], dtype=uint8),\n",
       " 97: array([0, 1, 1, 0, 0, 0, 0, 1], dtype=uint8),\n",
       " 98: array([0, 1, 1, 0, 0, 0, 1, 0], dtype=uint8),\n",
       " 99: array([0, 1, 1, 0, 0, 0, 1, 1], dtype=uint8),\n",
       " 100: array([0, 1, 1, 0, 0, 1, 0, 0], dtype=uint8),\n",
       " 101: array([0, 1, 1, 0, 0, 1, 0, 1], dtype=uint8),\n",
       " 102: array([0, 1, 1, 0, 0, 1, 1, 0], dtype=uint8),\n",
       " 103: array([0, 1, 1, 0, 0, 1, 1, 1], dtype=uint8),\n",
       " 104: array([0, 1, 1, 0, 1, 0, 0, 0], dtype=uint8),\n",
       " 105: array([0, 1, 1, 0, 1, 0, 0, 1], dtype=uint8),\n",
       " 106: array([0, 1, 1, 0, 1, 0, 1, 0], dtype=uint8),\n",
       " 107: array([0, 1, 1, 0, 1, 0, 1, 1], dtype=uint8),\n",
       " 108: array([0, 1, 1, 0, 1, 1, 0, 0], dtype=uint8),\n",
       " 109: array([0, 1, 1, 0, 1, 1, 0, 1], dtype=uint8),\n",
       " 110: array([0, 1, 1, 0, 1, 1, 1, 0], dtype=uint8),\n",
       " 111: array([0, 1, 1, 0, 1, 1, 1, 1], dtype=uint8),\n",
       " 112: array([0, 1, 1, 1, 0, 0, 0, 0], dtype=uint8),\n",
       " 113: array([0, 1, 1, 1, 0, 0, 0, 1], dtype=uint8),\n",
       " 114: array([0, 1, 1, 1, 0, 0, 1, 0], dtype=uint8),\n",
       " 115: array([0, 1, 1, 1, 0, 0, 1, 1], dtype=uint8),\n",
       " 116: array([0, 1, 1, 1, 0, 1, 0, 0], dtype=uint8),\n",
       " 117: array([0, 1, 1, 1, 0, 1, 0, 1], dtype=uint8),\n",
       " 118: array([0, 1, 1, 1, 0, 1, 1, 0], dtype=uint8),\n",
       " 119: array([0, 1, 1, 1, 0, 1, 1, 1], dtype=uint8),\n",
       " 120: array([0, 1, 1, 1, 1, 0, 0, 0], dtype=uint8),\n",
       " 121: array([0, 1, 1, 1, 1, 0, 0, 1], dtype=uint8),\n",
       " 122: array([0, 1, 1, 1, 1, 0, 1, 0], dtype=uint8),\n",
       " 123: array([0, 1, 1, 1, 1, 0, 1, 1], dtype=uint8),\n",
       " 124: array([0, 1, 1, 1, 1, 1, 0, 0], dtype=uint8),\n",
       " 125: array([0, 1, 1, 1, 1, 1, 0, 1], dtype=uint8),\n",
       " 126: array([0, 1, 1, 1, 1, 1, 1, 0], dtype=uint8),\n",
       " 127: array([0, 1, 1, 1, 1, 1, 1, 1], dtype=uint8),\n",
       " 128: array([1, 0, 0, 0, 0, 0, 0, 0], dtype=uint8),\n",
       " 129: array([1, 0, 0, 0, 0, 0, 0, 1], dtype=uint8),\n",
       " 130: array([1, 0, 0, 0, 0, 0, 1, 0], dtype=uint8),\n",
       " 131: array([1, 0, 0, 0, 0, 0, 1, 1], dtype=uint8),\n",
       " 132: array([1, 0, 0, 0, 0, 1, 0, 0], dtype=uint8),\n",
       " 133: array([1, 0, 0, 0, 0, 1, 0, 1], dtype=uint8),\n",
       " 134: array([1, 0, 0, 0, 0, 1, 1, 0], dtype=uint8),\n",
       " 135: array([1, 0, 0, 0, 0, 1, 1, 1], dtype=uint8),\n",
       " 136: array([1, 0, 0, 0, 1, 0, 0, 0], dtype=uint8),\n",
       " 137: array([1, 0, 0, 0, 1, 0, 0, 1], dtype=uint8),\n",
       " 138: array([1, 0, 0, 0, 1, 0, 1, 0], dtype=uint8),\n",
       " 139: array([1, 0, 0, 0, 1, 0, 1, 1], dtype=uint8),\n",
       " 140: array([1, 0, 0, 0, 1, 1, 0, 0], dtype=uint8),\n",
       " 141: array([1, 0, 0, 0, 1, 1, 0, 1], dtype=uint8),\n",
       " 142: array([1, 0, 0, 0, 1, 1, 1, 0], dtype=uint8),\n",
       " 143: array([1, 0, 0, 0, 1, 1, 1, 1], dtype=uint8),\n",
       " 144: array([1, 0, 0, 1, 0, 0, 0, 0], dtype=uint8),\n",
       " 145: array([1, 0, 0, 1, 0, 0, 0, 1], dtype=uint8),\n",
       " 146: array([1, 0, 0, 1, 0, 0, 1, 0], dtype=uint8),\n",
       " 147: array([1, 0, 0, 1, 0, 0, 1, 1], dtype=uint8),\n",
       " 148: array([1, 0, 0, 1, 0, 1, 0, 0], dtype=uint8),\n",
       " 149: array([1, 0, 0, 1, 0, 1, 0, 1], dtype=uint8),\n",
       " 150: array([1, 0, 0, 1, 0, 1, 1, 0], dtype=uint8),\n",
       " 151: array([1, 0, 0, 1, 0, 1, 1, 1], dtype=uint8),\n",
       " 152: array([1, 0, 0, 1, 1, 0, 0, 0], dtype=uint8),\n",
       " 153: array([1, 0, 0, 1, 1, 0, 0, 1], dtype=uint8),\n",
       " 154: array([1, 0, 0, 1, 1, 0, 1, 0], dtype=uint8),\n",
       " 155: array([1, 0, 0, 1, 1, 0, 1, 1], dtype=uint8),\n",
       " 156: array([1, 0, 0, 1, 1, 1, 0, 0], dtype=uint8),\n",
       " 157: array([1, 0, 0, 1, 1, 1, 0, 1], dtype=uint8),\n",
       " 158: array([1, 0, 0, 1, 1, 1, 1, 0], dtype=uint8),\n",
       " 159: array([1, 0, 0, 1, 1, 1, 1, 1], dtype=uint8),\n",
       " 160: array([1, 0, 1, 0, 0, 0, 0, 0], dtype=uint8),\n",
       " 161: array([1, 0, 1, 0, 0, 0, 0, 1], dtype=uint8),\n",
       " 162: array([1, 0, 1, 0, 0, 0, 1, 0], dtype=uint8),\n",
       " 163: array([1, 0, 1, 0, 0, 0, 1, 1], dtype=uint8),\n",
       " 164: array([1, 0, 1, 0, 0, 1, 0, 0], dtype=uint8),\n",
       " 165: array([1, 0, 1, 0, 0, 1, 0, 1], dtype=uint8),\n",
       " 166: array([1, 0, 1, 0, 0, 1, 1, 0], dtype=uint8),\n",
       " 167: array([1, 0, 1, 0, 0, 1, 1, 1], dtype=uint8),\n",
       " 168: array([1, 0, 1, 0, 1, 0, 0, 0], dtype=uint8),\n",
       " 169: array([1, 0, 1, 0, 1, 0, 0, 1], dtype=uint8),\n",
       " 170: array([1, 0, 1, 0, 1, 0, 1, 0], dtype=uint8),\n",
       " 171: array([1, 0, 1, 0, 1, 0, 1, 1], dtype=uint8),\n",
       " 172: array([1, 0, 1, 0, 1, 1, 0, 0], dtype=uint8),\n",
       " 173: array([1, 0, 1, 0, 1, 1, 0, 1], dtype=uint8),\n",
       " 174: array([1, 0, 1, 0, 1, 1, 1, 0], dtype=uint8),\n",
       " 175: array([1, 0, 1, 0, 1, 1, 1, 1], dtype=uint8),\n",
       " 176: array([1, 0, 1, 1, 0, 0, 0, 0], dtype=uint8),\n",
       " 177: array([1, 0, 1, 1, 0, 0, 0, 1], dtype=uint8),\n",
       " 178: array([1, 0, 1, 1, 0, 0, 1, 0], dtype=uint8),\n",
       " 179: array([1, 0, 1, 1, 0, 0, 1, 1], dtype=uint8),\n",
       " 180: array([1, 0, 1, 1, 0, 1, 0, 0], dtype=uint8),\n",
       " 181: array([1, 0, 1, 1, 0, 1, 0, 1], dtype=uint8),\n",
       " 182: array([1, 0, 1, 1, 0, 1, 1, 0], dtype=uint8),\n",
       " 183: array([1, 0, 1, 1, 0, 1, 1, 1], dtype=uint8),\n",
       " 184: array([1, 0, 1, 1, 1, 0, 0, 0], dtype=uint8),\n",
       " 185: array([1, 0, 1, 1, 1, 0, 0, 1], dtype=uint8),\n",
       " 186: array([1, 0, 1, 1, 1, 0, 1, 0], dtype=uint8),\n",
       " 187: array([1, 0, 1, 1, 1, 0, 1, 1], dtype=uint8),\n",
       " 188: array([1, 0, 1, 1, 1, 1, 0, 0], dtype=uint8),\n",
       " 189: array([1, 0, 1, 1, 1, 1, 0, 1], dtype=uint8),\n",
       " 190: array([1, 0, 1, 1, 1, 1, 1, 0], dtype=uint8),\n",
       " 191: array([1, 0, 1, 1, 1, 1, 1, 1], dtype=uint8),\n",
       " 192: array([1, 1, 0, 0, 0, 0, 0, 0], dtype=uint8),\n",
       " 193: array([1, 1, 0, 0, 0, 0, 0, 1], dtype=uint8),\n",
       " 194: array([1, 1, 0, 0, 0, 0, 1, 0], dtype=uint8),\n",
       " 195: array([1, 1, 0, 0, 0, 0, 1, 1], dtype=uint8),\n",
       " 196: array([1, 1, 0, 0, 0, 1, 0, 0], dtype=uint8),\n",
       " 197: array([1, 1, 0, 0, 0, 1, 0, 1], dtype=uint8),\n",
       " 198: array([1, 1, 0, 0, 0, 1, 1, 0], dtype=uint8),\n",
       " 199: array([1, 1, 0, 0, 0, 1, 1, 1], dtype=uint8),\n",
       " 200: array([1, 1, 0, 0, 1, 0, 0, 0], dtype=uint8),\n",
       " 201: array([1, 1, 0, 0, 1, 0, 0, 1], dtype=uint8),\n",
       " 202: array([1, 1, 0, 0, 1, 0, 1, 0], dtype=uint8),\n",
       " 203: array([1, 1, 0, 0, 1, 0, 1, 1], dtype=uint8),\n",
       " 204: array([1, 1, 0, 0, 1, 1, 0, 0], dtype=uint8),\n",
       " 205: array([1, 1, 0, 0, 1, 1, 0, 1], dtype=uint8),\n",
       " 206: array([1, 1, 0, 0, 1, 1, 1, 0], dtype=uint8),\n",
       " 207: array([1, 1, 0, 0, 1, 1, 1, 1], dtype=uint8),\n",
       " 208: array([1, 1, 0, 1, 0, 0, 0, 0], dtype=uint8),\n",
       " 209: array([1, 1, 0, 1, 0, 0, 0, 1], dtype=uint8),\n",
       " 210: array([1, 1, 0, 1, 0, 0, 1, 0], dtype=uint8),\n",
       " 211: array([1, 1, 0, 1, 0, 0, 1, 1], dtype=uint8),\n",
       " 212: array([1, 1, 0, 1, 0, 1, 0, 0], dtype=uint8),\n",
       " 213: array([1, 1, 0, 1, 0, 1, 0, 1], dtype=uint8),\n",
       " 214: array([1, 1, 0, 1, 0, 1, 1, 0], dtype=uint8),\n",
       " 215: array([1, 1, 0, 1, 0, 1, 1, 1], dtype=uint8),\n",
       " 216: array([1, 1, 0, 1, 1, 0, 0, 0], dtype=uint8),\n",
       " 217: array([1, 1, 0, 1, 1, 0, 0, 1], dtype=uint8),\n",
       " 218: array([1, 1, 0, 1, 1, 0, 1, 0], dtype=uint8),\n",
       " 219: array([1, 1, 0, 1, 1, 0, 1, 1], dtype=uint8),\n",
       " 220: array([1, 1, 0, 1, 1, 1, 0, 0], dtype=uint8),\n",
       " 221: array([1, 1, 0, 1, 1, 1, 0, 1], dtype=uint8),\n",
       " 222: array([1, 1, 0, 1, 1, 1, 1, 0], dtype=uint8),\n",
       " 223: array([1, 1, 0, 1, 1, 1, 1, 1], dtype=uint8),\n",
       " 224: array([1, 1, 1, 0, 0, 0, 0, 0], dtype=uint8),\n",
       " 225: array([1, 1, 1, 0, 0, 0, 0, 1], dtype=uint8),\n",
       " 226: array([1, 1, 1, 0, 0, 0, 1, 0], dtype=uint8),\n",
       " 227: array([1, 1, 1, 0, 0, 0, 1, 1], dtype=uint8),\n",
       " 228: array([1, 1, 1, 0, 0, 1, 0, 0], dtype=uint8),\n",
       " 229: array([1, 1, 1, 0, 0, 1, 0, 1], dtype=uint8),\n",
       " 230: array([1, 1, 1, 0, 0, 1, 1, 0], dtype=uint8),\n",
       " 231: array([1, 1, 1, 0, 0, 1, 1, 1], dtype=uint8),\n",
       " 232: array([1, 1, 1, 0, 1, 0, 0, 0], dtype=uint8),\n",
       " 233: array([1, 1, 1, 0, 1, 0, 0, 1], dtype=uint8),\n",
       " 234: array([1, 1, 1, 0, 1, 0, 1, 0], dtype=uint8),\n",
       " 235: array([1, 1, 1, 0, 1, 0, 1, 1], dtype=uint8),\n",
       " 236: array([1, 1, 1, 0, 1, 1, 0, 0], dtype=uint8),\n",
       " 237: array([1, 1, 1, 0, 1, 1, 0, 1], dtype=uint8),\n",
       " 238: array([1, 1, 1, 0, 1, 1, 1, 0], dtype=uint8),\n",
       " 239: array([1, 1, 1, 0, 1, 1, 1, 1], dtype=uint8),\n",
       " 240: array([1, 1, 1, 1, 0, 0, 0, 0], dtype=uint8),\n",
       " 241: array([1, 1, 1, 1, 0, 0, 0, 1], dtype=uint8),\n",
       " 242: array([1, 1, 1, 1, 0, 0, 1, 0], dtype=uint8),\n",
       " 243: array([1, 1, 1, 1, 0, 0, 1, 1], dtype=uint8),\n",
       " 244: array([1, 1, 1, 1, 0, 1, 0, 0], dtype=uint8),\n",
       " 245: array([1, 1, 1, 1, 0, 1, 0, 1], dtype=uint8),\n",
       " 246: array([1, 1, 1, 1, 0, 1, 1, 0], dtype=uint8),\n",
       " 247: array([1, 1, 1, 1, 0, 1, 1, 1], dtype=uint8),\n",
       " 248: array([1, 1, 1, 1, 1, 0, 0, 0], dtype=uint8),\n",
       " 249: array([1, 1, 1, 1, 1, 0, 0, 1], dtype=uint8),\n",
       " 250: array([1, 1, 1, 1, 1, 0, 1, 0], dtype=uint8),\n",
       " 251: array([1, 1, 1, 1, 1, 0, 1, 1], dtype=uint8),\n",
       " 252: array([1, 1, 1, 1, 1, 1, 0, 0], dtype=uint8),\n",
       " 253: array([1, 1, 1, 1, 1, 1, 0, 1], dtype=uint8),\n",
       " 254: array([1, 1, 1, 1, 1, 1, 1, 0], dtype=uint8),\n",
       " 255: array([1, 1, 1, 1, 1, 1, 1, 1], dtype=uint8)}"
      ]
     },
     "metadata": {},
     "output_type": "display_data"
    }
   ],
   "source": [
    "# генерация тренировочного датасета\n",
    "int2binary = {}\n",
    "binary_dim = 8\n",
    "\n",
    "largest_number = pow(2, binary_dim)\n",
    "binary = np.unpackbits(\n",
    "    np.array([np.arange(largest_number, dtype=np.uint8)]).T,\n",
    "    axis=1\n",
    ")\n",
    "\n",
    "for i in range(largest_number):\n",
    "    int2binary[i] = binary[i]\n",
    "\n",
    "display(binary, int2binary)"
   ]
  },
  {
   "cell_type": "markdown",
   "metadata": {
    "id": "eG9jFpiDfjmO"
   },
   "source": [
    "Сначала рассмотрим всё по отдельности."
   ]
  },
  {
   "cell_type": "code",
   "execution_count": null,
   "metadata": {
    "id": "IG_pMZc9fpKq"
   },
   "outputs": [],
   "source": [
    "# входные переменные\n",
    "learning_rate = 1\n",
    "input_dim = 2\n",
    "hidden_dim = 16\n",
    "output_dim = 1\n",
    "\n",
    "\n",
    "# инициализация весов нейронной сети\n",
    "weigths_0 = np.random.random((input_dim, hidden_dim))\n",
    "weigths_1 = np.random.random((hidden_dim, output_dim))\n",
    "weigths_h = np.random.random((hidden_dim, hidden_dim))\n",
    "\n",
    "weigths_0_update = np.zeros_like(weigths_0)\n",
    "weigths_1_update = np.zeros_like(weigths_1)\n",
    "weigths_h_update = np.zeros_like(weigths_h)"
   ]
  },
  {
   "cell_type": "markdown",
   "metadata": {
    "id": "23JC4-cAgQrd"
   },
   "source": [
    "Берем случайный объект для обучения."
   ]
  },
  {
   "cell_type": "code",
   "execution_count": null,
   "metadata": {
    "colab": {
     "base_uri": "https://localhost:8080/"
    },
    "id": "yh7dJhLwgMze",
    "outputId": "9ce7ca48-f193-4171-81d6-e0d518d7ace0"
   },
   "outputs": [
    {
     "name": "stdout",
     "output_type": "stream",
     "text": [
      "a    [0 0 0 0 1 0 0 1]\n",
      "b    [0 0 1 1 1 1 0 0]\n",
      "true [0 1 0 0 0 1 0 1]\n"
     ]
    }
   ],
   "source": [
    "# генерация простой проблемы сложения (a + b = true)\n",
    "a_int = np.random.randint(largest_number / 2) # int version\n",
    "a = int2binary[a_int] # бинарное кодирование\n",
    "\n",
    "b_int = np.random.randint(largest_number / 2) # int version\n",
    "b = int2binary[b_int] # бинарное кодирование\n",
    "\n",
    "# правильный ответ\n",
    "true_int = a_int + b_int\n",
    "true = int2binary[true_int]\n",
    "\n",
    "# место где мы располагаем наши лучше результаты (бинарно закодированные)\n",
    "pred = np.zeros_like(true)\n",
    "\n",
    "overallError = 0\n",
    "\n",
    "output_grads = []\n",
    "h_values = []\n",
    "h_values.append(np.zeros(hidden_dim))\n",
    "print('a   ', a)\n",
    "print('b   ', b)\n",
    "print('true', true)"
   ]
  },
  {
   "cell_type": "markdown",
   "metadata": {
    "id": "J-oo3IKXgJgw"
   },
   "source": [
    "<img src='images/arch1.jpg'>\n",
    "\n",
    "\n",
    "$$h_t = \\sigma(W_{xh}x_t + W_{hh}h_{t-1} + b_h)$$\n",
    "$$y_t = W_{hy}h_t + b_y$$"
   ]
  },
  {
   "cell_type": "markdown",
   "metadata": {
    "id": "lBddPCJEgaeG"
   },
   "source": [
    "Рассмотрим Forward pass."
   ]
  },
  {
   "cell_type": "code",
   "execution_count": null,
   "metadata": {
    "colab": {
     "base_uri": "https://localhost:8080/"
    },
    "id": "mRwRdelAfmdD",
    "outputId": "252a0267-1b2b-4ad7-de63-e43bac6cced3"
   },
   "outputs": [
    {
     "name": "stdout",
     "output_type": "stream",
     "text": [
      "a    [0 0 0 0 1 0 0 1]\n",
      "b    [0 0 1 1 1 1 0 0]\n",
      "true [0 1 0 0 0 1 0 1]\n",
      "X [[1 0]]\n",
      "y [[1]]\n",
      "h [0. 0. 0. 0. 0. 0. 0. 0. 0. 0. 0. 0. 0. 0. 0. 0.]\n",
      "(1, 16)\n",
      "output [[0.99347749]]\n",
      "output_error [[-0.00652251]]\n",
      "================================\n",
      "X [[0 0]]\n",
      "y [[0]]\n",
      "h [[0.63386027 0.6715468  0.64628827 0.63294764 0.60435748 0.65608461\n",
      "  0.60768396 0.70925592 0.72385455 0.59470289 0.68820161 0.62922533\n",
      "  0.63831185 0.71618109 0.51775155 0.52176856]]\n",
      "(1, 16)\n",
      "output [[0.99953702]]\n",
      "output_error [[0.99953702]]\n",
      "================================\n",
      "X [[0 1]]\n",
      "y [[1]]\n",
      "h [[0.99315525 0.99650619 0.99824672 0.98099711 0.99862104 0.98677456\n",
      "  0.98507713 0.994029   0.9945905  0.99653362 0.99466009 0.99395418\n",
      "  0.98778101 0.99050618 0.99455284 0.98371131]]\n",
      "(1, 16)\n",
      "output [[0.99956667]]\n",
      "output_error [[-0.00043333]]\n",
      "================================\n",
      "X [[1 1]]\n",
      "y [[0]]\n",
      "h [[0.99956192 0.99993906 0.99997081 0.99920254 0.99998876 0.99948335\n",
      "  0.99917311 0.99984328 0.99966581 0.99993042 0.99977123 0.99986292\n",
      "  0.99940046 0.99953657 0.99976708 0.99914108]]\n",
      "(1, 16)\n",
      "output [[0.9995673]]\n",
      "output_error [[0.9995673]]\n",
      "================================\n",
      "X [[0 1]]\n",
      "y [[0]]\n",
      "h [[0.99976386 0.99997196 0.99998515 0.99955723 0.99999321 0.9997429\n",
      "  0.99949317 0.99994006 0.9998786  0.9999559  0.9999028  0.99992494\n",
      "  0.99968166 0.99982839 0.99979705 0.99925392]]\n",
      "(1, 16)\n",
      "output [[0.99956675]]\n",
      "output_error [[0.99956675]]\n",
      "================================\n",
      "X [[0 1]]\n",
      "y [[0]]\n",
      "h [[0.99959185 0.99994273 0.99997291 0.99923736 0.99998964 0.99951015\n",
      "  0.99921588 0.999854   0.99968218 0.99993538 0.99978573 0.99987281\n",
      "  0.99943902 0.99956765 0.99978242 0.99918695]]\n",
      "(1, 16)\n",
      "output [[0.99956675]]\n",
      "output_error [[0.99956675]]\n",
      "================================\n",
      "X [[0 0]]\n",
      "y [[1]]\n",
      "h [[0.99959135 0.99994267 0.99997287 0.99923682 0.99998962 0.99950972\n",
      "  0.99921525 0.99985382 0.99968187 0.9999353  0.99978553 0.99987265\n",
      "  0.99943842 0.99956716 0.99978216 0.99918616]]\n",
      "(1, 16)\n",
      "output [[0.99956578]]\n",
      "output_error [[-0.00043422]]\n",
      "================================\n",
      "X [[0 0]]\n",
      "y [[0]]\n",
      "h [[0.999583   0.99986819 0.99994093 0.99818026 0.99997239 0.99891043\n",
      "  0.99875563 0.99968099 0.99964195 0.99987732 0.99975247 0.99967252\n",
      "  0.99905402 0.99934489 0.9997162  0.9982365 ]]\n",
      "(1, 16)\n",
      "output [[0.99956577]]\n",
      "output_error [[0.99956577]]\n",
      "================================\n"
     ]
    }
   ],
   "source": [
    "# FORWARD\n",
    "print('a   ', a)\n",
    "print('b   ', b)\n",
    "print('true', true)\n",
    "for position in range(binary_dim):\n",
    "    \n",
    "    # генерация input и output\n",
    "    X = np.array([[a[binary_dim - position - 1], \n",
    "                   b[binary_dim - position - 1]]])\n",
    "    print('X', X)\n",
    "    y = np.array([[true[binary_dim - position - 1]]]).T\n",
    "    print('y', y)\n",
    "    \n",
    "    print('h', h_values[-1])\n",
    "    # внутренний слой (input + предыдущий внутренний)\n",
    "    h = sigmoid(\n",
    "        np.dot(X, weigths_0) + np.dot(h_values[-1], weigths_h)\n",
    "    )\n",
    "    print(h.shape)\n",
    "    # output layer (новое бинарное представление)\n",
    "    output = sigmoid(\n",
    "        np.dot(h, weigths_1)\n",
    "    )\n",
    "    print('output', output)\n",
    "    # проверка упустили ли мы что-то и если да, то как много \n",
    "    output_error = output - y\n",
    "    print('output_error', output_error)\n",
    "\n",
    "    output_grads.append(\n",
    "        output_error * sigmoid_deriv(output)\n",
    "    )\n",
    "\n",
    "    # декодируем оценку\n",
    "    pred[binary_dim - position - 1] = np.round(output[0][0])\n",
    "    \n",
    "    # сохраняем внутренний слой,\n",
    "    # чтобы могли его использовать в след. итерации\n",
    "    h_values.append(copy.deepcopy(h))\n",
    "    print('=' * 32)"
   ]
  },
  {
   "cell_type": "markdown",
   "metadata": {
    "id": "sfwKmGxDiDAR"
   },
   "source": [
    "Рассмотрим Backward pass.\n",
    "\n",
    "<img src='images/arch1.jpg'>\n",
    "\n",
    "$$h_t = \\sigma(W_{xh}x_t + W_{hh}h_{t-1} + b_h)$$\n",
    "$$y_t = W_{hy}h_t + b_y$$"
   ]
  },
  {
   "cell_type": "code",
   "execution_count": null,
   "metadata": {
    "colab": {
     "base_uri": "https://localhost:8080/"
    },
    "id": "5j1svmdKiFsv",
    "outputId": "2df413c8-8978-43c2-bf3d-f440151cf295"
   },
   "outputs": [
    {
     "name": "stdout",
     "output_type": "stream",
     "text": [
      "a    [0 0 0 0 1 0 0 1]\n",
      "b    [0 0 1 1 1 1 0 0]\n",
      "true [0 1 0 0 0 1 0 1]\n",
      "pred [1 1 1 1 1 1 1 1]\n",
      "X [[0 0]]\n",
      "X [[0 0]]\n",
      "X [[0 1]]\n",
      "X [[0 1]]\n",
      "X [[1 1]]\n",
      "X [[0 1]]\n",
      "X [[0 0]]\n",
      "X [[1 0]]\n"
     ]
    }
   ],
   "source": [
    "future_h_grad = np.zeros(hidden_dim)\n",
    "\n",
    "print('a   ', a)\n",
    "print('b   ', b)\n",
    "print('true', true)\n",
    "print('pred', pred)\n",
    "\n",
    "# BACKWARD\n",
    "for position in range(binary_dim):\n",
    "    \n",
    "    X = np.array([[a[position], b[position]]])\n",
    "    print('X', X)\n",
    "    h = h_values[-position - 1]\n",
    "    prev_h = h_values[-position - 2]\n",
    "    \n",
    "    # величина ошибки в output layer\n",
    "    output_grad = output_grads[-position - 1]\n",
    "\n",
    "    # величина ошибки в hidden layer\n",
    "    h_grad = (\n",
    "        future_h_grad.dot(weigths_h.T) \\\n",
    "        + output_grad.dot(weigths_1.T) \\\n",
    "    ) * sigmoid_deriv(h)\n",
    "\n",
    "    # обновление всех весов\n",
    "    weigths_1_update += np.atleast_2d(h).T @ output_grad\n",
    "    weigths_h_update += np.atleast_2d(prev_h).T @ h_grad\n",
    "    weigths_0_update += X.T @ h_grad\n",
    "    \n",
    "    future_h_grad = h_grad.copy()\n",
    "\n",
    "\n",
    "weigths_0 -= weigths_0_update * learning_rate\n",
    "weigths_1 -= weigths_1_update * learning_rate\n",
    "weigths_h -= weigths_h_update * learning_rate    "
   ]
  },
  {
   "cell_type": "markdown",
   "metadata": {
    "id": "ImDA24GwjWQh"
   },
   "source": [
    "Все вместе."
   ]
  },
  {
   "cell_type": "code",
   "execution_count": null,
   "metadata": {
    "colab": {
     "base_uri": "https://localhost:8080/"
    },
    "id": "0gsK53stQdGA",
    "outputId": "5128ec3c-f76b-4424-87d2-fc7bf65eab19"
   },
   "outputs": [
    {
     "name": "stdout",
     "output_type": "stream",
     "text": [
      "Error: [1.99600086]\n",
      "Pred: [1 1 1 1 1 1 1 1]\n",
      "True: [1 0 1 1 1 1 1 0]\n",
      "123 + 67 = 255\n",
      "------------\n",
      "Error: [2.43387483]\n",
      "Pred: [0 0 0 0 0 0 0 0]\n",
      "True: [0 1 0 1 0 0 0 0]\n",
      "38 + 42 = 0\n",
      "------------\n",
      "Error: [2.12270501]\n",
      "Pred: [1 1 1 1 1 1 1 1]\n",
      "True: [1 0 0 1 1 1 1 1]\n",
      "37 + 122 = 255\n",
      "------------\n",
      "Error: [3.53591294]\n",
      "Pred: [1 0 0 0 0 0 1 1]\n",
      "True: [1 0 1 1 1 0 1 0]\n",
      "124 + 62 = 131\n",
      "------------\n",
      "Error: [0.19332125]\n",
      "Pred: [0 1 1 0 1 1 0 0]\n",
      "True: [0 1 1 0 1 1 0 0]\n",
      "0 + 108 = 108\n",
      "------------\n",
      "Error: [0.08303137]\n",
      "Pred: [1 0 0 0 1 1 0 0]\n",
      "True: [1 0 0 0 1 1 0 0]\n",
      "76 + 64 = 140\n",
      "------------\n",
      "Error: [0.36374014]\n",
      "Pred: [0 0 1 0 1 1 1 1]\n",
      "True: [0 0 1 0 1 1 1 1]\n",
      "47 + 0 = 47\n",
      "------------\n",
      "Error: [0.14596281]\n",
      "Pred: [0 0 0 0 1 0 1 1]\n",
      "True: [0 0 0 0 1 0 1 1]\n",
      "1 + 10 = 11\n",
      "------------\n",
      "Error: [0.12788186]\n",
      "Pred: [1 1 0 0 0 0 1 0]\n",
      "True: [1 1 0 0 0 0 1 0]\n",
      "74 + 120 = 194\n",
      "------------\n",
      "Error: [0.10058878]\n",
      "Pred: [0 1 0 0 1 0 1 0]\n",
      "True: [0 1 0 0 1 0 1 0]\n",
      "52 + 22 = 74\n",
      "------------\n"
     ]
    }
   ],
   "source": [
    "# входные переменные\n",
    "learning_rate = 1\n",
    "input_dim = 2\n",
    "hidden_dim = 16\n",
    "output_dim = 1\n",
    "\n",
    "\n",
    "# инициализация весов нейронной сети\n",
    "weigths_0 = np.random.random((input_dim, hidden_dim))\n",
    "weigths_1 = np.random.random((hidden_dim, output_dim))\n",
    "weigths_h = np.random.random((hidden_dim, hidden_dim))\n",
    "\n",
    "weigths_0_update = np.zeros_like(weigths_0)\n",
    "weigths_1_update = np.zeros_like(weigths_1)\n",
    "weigths_h_update = np.zeros_like(weigths_h)\n",
    "\n",
    "\n",
    "# тренировочная логика\n",
    "for j in range(10000):\n",
    "    \n",
    "    # генерация простой проблемы сложения (a + b = true)\n",
    "    a_int = np.random.randint(largest_number / 2) # int version\n",
    "    a = int2binary[a_int] # бинарное кодирование\n",
    "\n",
    "    b_int = np.random.randint(largest_number / 2) # int version\n",
    "    b = int2binary[b_int] # бинарное кодирование\n",
    "\n",
    "    # правильный ответ\n",
    "    true_int = a_int + b_int\n",
    "    true = int2binary[true_int]\n",
    "    \n",
    "    # место где мы располагаем наши лучше результаты (бинарно закодированные)\n",
    "    pred = np.zeros_like(true)\n",
    "\n",
    "    overallError = 0\n",
    "    \n",
    "    output_grads = []\n",
    "    h_values = []\n",
    "    h_values.append(np.zeros(hidden_dim))\n",
    "    \n",
    "    # FORWARD\n",
    "    for position in range(binary_dim):\n",
    "        \n",
    "        # генерация input и output\n",
    "        X = np.array([[a[binary_dim - position - 1], \n",
    "                       b[binary_dim - position - 1]]])\n",
    "    \n",
    "        y = np.array([[true[binary_dim - position - 1]]]).T\n",
    "      \n",
    "        # внутренний слой (input + предыдущий внутренний)\n",
    "        h = sigmoid(\n",
    "            np.dot(X, weigths_0) + np.dot(h_values[-1], weigths_h)\n",
    "        )\n",
    "\n",
    "        # output layer (новое бинарное представление)\n",
    "        output = sigmoid(\n",
    "            np.dot(h, weigths_1)\n",
    "        )\n",
    "        \n",
    "        # проверка упустили ли мы что-то и если да, то как много \n",
    "        output_error = output - y\n",
    "        output_grads.append(\n",
    "            output_error * sigmoid_deriv(output)\n",
    "        )\n",
    "        overallError += np.abs(output_error[0])\n",
    "    \n",
    "        # декодируем оценку\n",
    "        pred[binary_dim - position - 1] = np.round(output[0][0])\n",
    "        \n",
    "        # сохраняем внутренний слой,\n",
    "        # чтобы могли его использовать в след. итерации\n",
    "        h_values.append(copy.deepcopy(h))\n",
    "    \n",
    "    future_h_grad = np.zeros(hidden_dim)\n",
    "    \n",
    "    # BACKWARD\n",
    "    for position in range(binary_dim):\n",
    "        \n",
    "        X = np.array([[a[position], b[position]]])\n",
    "        \n",
    "        h = h_values[-position - 1]\n",
    "        prev_h = h_values[-position - 2]\n",
    "        \n",
    "        # величина ошибки в output layer\n",
    "        output_grad = output_grads[-position - 1]\n",
    "\n",
    "        # величина ошибки в hidden layer\n",
    "        h_grad = (\n",
    "            future_h_grad.dot(weigths_h.T) \\\n",
    "            + output_grad.dot(weigths_1.T) \\\n",
    "        ) * sigmoid_deriv(h)\n",
    "\n",
    "        weigths_1_update += np.atleast_2d(h).T @ output_grad\n",
    "        weigths_h_update += np.atleast_2d(prev_h).T @ h_grad\n",
    "        weigths_0_update += X.T @ h_grad\n",
    "        \n",
    "        future_h_grad = h_grad.copy()\n",
    "    \n",
    "\n",
    "    weigths_0 -= weigths_0_update * learning_rate\n",
    "    weigths_1 -= weigths_1_update * learning_rate\n",
    "    weigths_h -= weigths_h_update * learning_rate    \n",
    "\n",
    "    weigths_0_update *= 0\n",
    "    weigths_1_update *= 0\n",
    "    weigths_h_update *= 0\n",
    "    \n",
    "    # вывод на экран процесса обучения\n",
    "    if (j % 1000 == 0):\n",
    "        print(f\"Error: {overallError}\")\n",
    "        print(f\"Pred: {pred}\")\n",
    "        print(f\"True: {true}\")\n",
    "        out = 0\n",
    "        for index, x in enumerate(reversed(pred)):\n",
    "            out += x * pow(2, index)\n",
    "        print(str(a_int) + \" + \" + str(b_int) + \" = \" + str(out))\n",
    "        print(\"------------\")"
   ]
  },
  {
   "cell_type": "markdown",
   "metadata": {
    "id": "iEdsRpQ0F7yZ"
   },
   "source": [
    "Еще раз посмотрим на примеры задач и с помощью каких архитектур это можно сделать.\n",
    "\n",
    "Задача многие к одному:\n",
    "\n",
    "<img src='images/ex1.png' width=650>\n",
    "\n",
    "Задача один ко многим:\n",
    "\n",
    "<img src='images/ex2.png' width=650>\n",
    "\n",
    "Задача многие ко многим:\n",
    "\n",
    "<img src='images/ex3.png' width=650>\n",
    "\n",
    "Здесь можно заметить проблему, что предложения могут быть очень длинными, а нужно сжать всю информацию о предыдущих словах в один блок, который представляет собой внутренний слой - переходное состояние из кодировщика в декодировщика.\n"
   ]
  },
  {
   "cell_type": "markdown",
   "metadata": {
    "id": "8DWcOZbQTEO6"
   },
   "source": [
    "## Vanishing gradient problem\n",
    "\n",
    "Хотелось бы обрабатывать длинные последовательности текста и так же учитывать побольше контекста из предыдущих слов. (В конце предложении хорошо бы вспомнить, что происходило в начале предложения.)\n",
    "\n",
    "Из материалов по сверточным нейронным сетям нам известна проблема исчезающего градиента. В случае с большим количеством слоев значение градиента при последовательном обновлении большого количества слоев становится все меньше и может стать настолько маленьким, что не сможет в принципе существенно изменить поведение нейронов. В рекуррентных нейронных сетях из-за сигнала циркулирующего внутри слоев это проблема становится еще острее. Причем градиент может стать не только очень маленьким, но и очень большим."
   ]
  },
  {
   "cell_type": "markdown",
   "metadata": {
    "id": "c9DPpDu5TEPB"
   },
   "source": [
    "## Long Short Term Memory (LSTM)"
   ]
  },
  {
   "cell_type": "markdown",
   "metadata": {
    "id": "t7Pz6SczTEPC"
   },
   "source": [
    "Решить проблему исчезающего градиента призвана разновидность RNN под названием LSTM.\n",
    "\n",
    "**Long short-term memory (LSTM) юниты** - это блоки, из которых состоят слои одной из разновидностей рекуррентной нейронной сети (RNN). Обычно LSTM юнит представляет из себя ячейку состоящую из input gate, output gate и forget gate. Эти ячейки отвественны за запоминания значений на определенные промежутки времени. RNN, состоящая из LSTM юнитов иногда называется просто LSTM. \n",
    "\n",
    "<img src='images/lstm.png' width=700>\n",
    "\n",
    "\n",
    "Здесь не просто распространяется сигнал, но и происходит управление размером влияния того, что приходит из предыдущего состояния. Каждый из этих элементов можно представить как типичный искусственный нейрон, который вычисляет активацию как взвешенную сумму. Их работа сводится к регуляции потока значений через блок LSTM, поэтому они и называются ворота или затворы (gate). Задача gate'ов - открыть пошире двери или закрыть её. Есть три gate:\n",
    "1. Input gate - gate входного сигнала обеспечивает возможность меньше влиять предыдущему состоянию на текущее состояние\n",
    "2. Output gate - gate выходного сигнала\n",
    "3. Forget gate - gate забывания управляет очисткой памяти, скоростью забывания предыдущего состояния. Хранить эту информацию данная ячейка может очень долго.\n",
    "\n",
    "\n",
    "Из-за этих настраиваемых параметров, LSTM более сложная модель по сравнению с RNN. Значит она требует больше времени, больше примеров."
   ]
  },
  {
   "cell_type": "markdown",
   "metadata": {
    "id": "d0N78xUu9o80"
   },
   "source": [
    "Понятие долгой памяти в названии возникло из-за того, что они могут запоминать информацию на более длинный период времени, чем обычная RNN. LSTM хорошо подходит для классификации процессов и предсказания временных последовательностей неизвестного размера и неизвестных промежутков между важными событиями. С технической точки зрения это достигается за счет ликвидации проблем связанных с exploding и vanishing gradient'ами. Ошибки сохраняются в самом слое, что позволяет передавать градиенты в следующие слои практически без потерь."
   ]
  },
  {
   "cell_type": "markdown",
   "metadata": {
    "id": "d2G1iE8tTEPI"
   },
   "source": [
    "### Компоненты LSTM.  \n",
    "Ниже приведен список компонентов из которых состоит ячейка LSTM:"
   ]
  },
  {
   "cell_type": "markdown",
   "metadata": {
    "id": "zimic5tDrMs3"
   },
   "source": [
    "Ключевой момент в LSTM - это **состояние ячейки** - горизонтальная линия сверху диаграммы. Сигнал протекает из ячейки в ячейку с небольшими линейными преобразования.\n",
    "\n",
    "<img src='images/lstm_state.png'>"
   ]
  },
  {
   "cell_type": "markdown",
   "metadata": {
    "id": "snNtXVicsEvt"
   },
   "source": [
    "У LSTM есть способность удалять или добавлять информацию в состояние ячейки с помощью gate'ов.\n",
    "\n",
    "Гейты пропускают информацию по возможности. Они состоят из сигмоиды и перемножения матриц. Выход с сигмоиды от 0 до 1 описывает с какой силой сигнал может пройти дальше. Значения 0 значит \"ничего не пройдет\", а 1 - \"пропускай всё\".\n",
    "\n",
    "У LSTM есть три гейта, чтобы сохранять и контролировать состояние ячейки."
   ]
  },
  {
   "cell_type": "markdown",
   "metadata": {
    "id": "SDZyDDREtgFF"
   },
   "source": [
    "**Forget gate**\n",
    "\n",
    "Первый шаг в LSTM - это решить, от какой информации мы хотим избавиться. Это решение принимает слой с сигмоидой, который называется \"forget gate layer.\" (гейт забывания). Он принимает во внимание $h_{t−1}$ и $x_t$, а на выходе даёт значение между 0 и 1 для каждого числа в состоянии ячейки $C_{t−1}$. 1 значит \"полностью сохрани это\", а 0 - \"полностью забудь это\".\n",
    "\n",
    "Пример забывания - языковая модель пытается предсказать следующее слово базируясь на предыдущих. Здесь модель может запоминать род объекта, чтобы использовать правильное образование слов. Когда мы видим новый объект, то нужно забыть род предыдущего объекта. *(Животное не переходило дорогу, потому что оно устало)*\n",
    "\n",
    "<img src='images/f_gate.png'>"
   ]
  },
  {
   "cell_type": "markdown",
   "metadata": {
    "id": "sg2XTz8Bu2vq"
   },
   "source": [
    "**Input gate**\n",
    "\n",
    "Следующий шаг - решить, какую информацию мы должны хранить в состоянии ячейки. Шаг состоит из двух частей. Первая - слой сигмоиды, называемый \"input gate layer\" (входной гейт), который решает какие значения будут обновляться. Вторая - слой с тангенсом, который создает вектор значений $\\tilde{C}_t$, которые будут добавляться к состоянию ячейки.\n",
    "\n",
    "С примером языковой модели, мы бы хотели добавлять род нового объекта в состояние ячейки, чтобы заменить старый род, который мы забудем. *(Животное не переходило дорогу, потому что оно устало)*\n",
    "\n",
    "<img src='images/i_gate.png'>"
   ]
  },
  {
   "cell_type": "markdown",
   "metadata": {
    "id": "XWAx-0CMwRMP"
   },
   "source": [
    "**Update cell state**\n",
    "\n",
    "Сейчас самое время, чтобы обновить старое состояние $C_{t−1}$ в новое состояние $C_t$. Предыдущие шаги уже решили, что делать, нужно только сделать это.\n",
    "\n",
    "Умножаем старое состояние на $f_t$, тем самым забывая те вещи, которые хотели забыть, затем прибавляем $i_t∗\\tilde{C_t}$. Это новое значение состояния ячейки, которое отмасштабировано в зависимоcти от того, насколько мы хотим обновить новое значение.\n",
    "\n",
    "В языковой модели, это момент, где мы выкидываем информацию о роде старого объекта и добавляем новую информацию о роде нового объекта. *(Животное не переходило дорогу, потому что оно устало)*\n",
    "\n",
    "\n",
    "<img src='images/update_cell_state.png'>"
   ]
  },
  {
   "cell_type": "markdown",
   "metadata": {
    "id": "FuJxpzKLzviM"
   },
   "source": [
    "**Output gate**\n",
    "\n",
    "Наконец-то нам нужно решить, что мы отправим на выход. Выход будет базироваться на состоянии ячейки, но с небольшой фильтрацией. Во-первых, прогоним входной сигнал через сигмоиду, которая решает с какой силой дальше пропускать сигнал, во-вторых, прогоняем состояние ячейки через тангенс и умножаем это на сигмоиду, чтобы пропускать дальше только то, что мы решили пропустить.\n",
    "\n",
    "Для языковой модели, которая видит только объект, здесь можем пропустить информацию, связанную с глаголом. Например, на выходе может быть полезно число множественной или единственное у объекта, чтобы знать в какую форму нужно поставить глагол. *(Животное не переходило дорогу, потому что оно устало)*\n",
    "\n",
    "<img src='images/o_gate.png'>"
   ]
  },
  {
   "cell_type": "code",
   "execution_count": null,
   "metadata": {
    "id": "Ti8Dthf6T-QD"
   },
   "outputs": [],
   "source": [
    "from tensorflow.keras.layers import Input, LSTM, Dense, Flatten, Dropout\n",
    "from tensorflow.keras.models import Model\n",
    "import matplotlib.pyplot as plt\n",
    "import numpy as np"
   ]
  },
  {
   "cell_type": "code",
   "execution_count": null,
   "metadata": {
    "colab": {
     "base_uri": "https://localhost:8080/",
     "height": 265
    },
    "id": "pAOEjITXT3Rh",
    "outputId": "a23bd941-b24a-40c9-d8f9-d12188ac2e16"
   },
   "outputs": [
    {
     "data": {
      "image/png": "[encoded data removed]",
      "text/plain": [
       "<Figure size 432x288 with 1 Axes>"
      ]
     },
     "metadata": {
      "needs_background": "light"
     },
     "output_type": "display_data"
    }
   ],
   "source": [
    "N = 300\n",
    "t = np.linspace(0, 30, N).reshape((N, 1))\n",
    "x_t = np.sin(t) + t * 0.2\n",
    "\n",
    "x_len = 7  # длина истории\n",
    "n = 2  # длина вектора данных\n",
    "\n",
    "plt.plot(t, x_t, '-b');"
   ]
  },
  {
   "cell_type": "code",
   "execution_count": null,
   "metadata": {
    "colab": {
     "base_uri": "https://localhost:8080/"
    },
    "id": "G4NPzVEeT3YB",
    "outputId": "3b8ab7fa-a630-431a-aab4-48528d3ba1b8"
   },
   "outputs": [
    {
     "name": "stdout",
     "output_type": "stream",
     "text": [
      "Model: \"model\"\n",
      "_________________________________________________________________\n",
      " Layer (type)                Output Shape              Param #   \n",
      "=================================================================\n",
      " input_1 (InputLayer)        [(None, 7, 2)]            0         \n",
      "                                                                 \n",
      " lstm (LSTM)                 (None, 128)               67072     \n",
      "                                                                 \n",
      " dense (Dense)               (None, 1)                 129       \n",
      "                                                                 \n",
      "=================================================================\n",
      "Total params: 67,201\n",
      "Trainable params: 67,201\n",
      "Non-trainable params: 0\n",
      "_________________________________________________________________\n"
     ]
    }
   ],
   "source": [
    "input = Input(shape=(x_len, 2))\n",
    "output = LSTM(units=128, dropout=0.0)(input)\n",
    "output = Dense(1, activation='linear')(output)\n",
    "\n",
    "model = Model(input, output)\n",
    "model.compile(optimizer='Adam',\n",
    "              loss='mse',\n",
    "              metrics=['mse'])\n",
    "\n",
    "model.summary()"
   ]
  },
  {
   "cell_type": "code",
   "execution_count": null,
   "metadata": {
    "id": "pSZAbw7rVHFL"
   },
   "outputs": [],
   "source": [
    "X = []\n",
    "y = []\n",
    "\n",
    "for i in range(N - x_len - 1):\n",
    "    X.append(np.concatenate(\n",
    "                (t[i: x_len + i], x_t[i: x_len + i])\n",
    "        ).reshape((2, x_len)).T\n",
    "    )\n",
    "    y.append(x_t[i + x_len])\n",
    "\n",
    "X = np.array(X)\n",
    "y = np.array(y)"
   ]
  },
  {
   "cell_type": "code",
   "execution_count": null,
   "metadata": {
    "colab": {
     "base_uri": "https://localhost:8080/",
     "height": 265
    },
    "id": "CdhS2xgLP6yX",
    "outputId": "3f372dcb-e2a1-4cb5-b645-1ff3bf22b12d"
   },
   "outputs": [
    {
     "data": {
      "image/png": "[encoded data removed]",
      "text/plain": [
       "<Figure size 432x288 with 1 Axes>"
      ]
     },
     "metadata": {
      "needs_background": "light"
     },
     "output_type": "display_data"
    }
   ],
   "source": [
    "plt.plot(X[0][:, 0], X[0][:, 1], '.-b')\n",
    "plt.plot(t[x_len], y[0], '.r');"
   ]
  },
  {
   "cell_type": "code",
   "execution_count": null,
   "metadata": {
    "colab": {
     "base_uri": "https://localhost:8080/"
    },
    "id": "qe-A1Y9OVGz3",
    "outputId": "d64b10c5-ab27-4168-9420-8989271c77b4"
   },
   "outputs": [
    {
     "name": "stdout",
     "output_type": "stream",
     "text": [
      "Epoch 1/20\n",
      "7/7 [==============================] - 5s 79ms/step - loss: 5.7271 - mse: 5.7271 - val_loss: 15.8870 - val_mse: 15.8870\n",
      "Epoch 2/20\n",
      "7/7 [==============================] - 0s 8ms/step - loss: 1.5474 - mse: 1.5474 - val_loss: 6.7048 - val_mse: 6.7048\n",
      "Epoch 3/20\n",
      "7/7 [==============================] - 0s 8ms/step - loss: 1.4215 - mse: 1.4215 - val_loss: 5.2635 - val_mse: 5.2635\n",
      "Epoch 4/20\n",
      "7/7 [==============================] - 0s 8ms/step - loss: 0.7541 - mse: 0.7541 - val_loss: 5.6836 - val_mse: 5.6836\n",
      "Epoch 5/20\n",
      "7/7 [==============================] - 0s 8ms/step - loss: 0.6108 - mse: 0.6108 - val_loss: 4.3453 - val_mse: 4.3453\n",
      "Epoch 6/20\n",
      "7/7 [==============================] - 0s 9ms/step - loss: 0.4500 - mse: 0.4500 - val_loss: 2.7560 - val_mse: 2.7560\n",
      "Epoch 7/20\n",
      "7/7 [==============================] - 0s 8ms/step - loss: 0.3566 - mse: 0.3566 - val_loss: 2.0671 - val_mse: 2.0671\n",
      "Epoch 8/20\n",
      "7/7 [==============================] - 0s 8ms/step - loss: 0.2869 - mse: 0.2869 - val_loss: 1.7885 - val_mse: 1.7885\n",
      "Epoch 9/20\n",
      "7/7 [==============================] - 0s 9ms/step - loss: 0.2218 - mse: 0.2218 - val_loss: 1.3222 - val_mse: 1.3222\n",
      "Epoch 10/20\n",
      "7/7 [==============================] - 0s 8ms/step - loss: 0.1662 - mse: 0.1662 - val_loss: 1.1212 - val_mse: 1.1212\n",
      "Epoch 11/20\n",
      "7/7 [==============================] - 0s 8ms/step - loss: 0.1210 - mse: 0.1210 - val_loss: 0.8452 - val_mse: 0.8452\n",
      "Epoch 12/20\n",
      "7/7 [==============================] - 0s 8ms/step - loss: 0.1020 - mse: 0.1020 - val_loss: 0.7659 - val_mse: 0.7659\n",
      "Epoch 13/20\n",
      "7/7 [==============================] - 0s 8ms/step - loss: 0.0971 - mse: 0.0971 - val_loss: 0.5533 - val_mse: 0.5533\n",
      "Epoch 14/20\n",
      "7/7 [==============================] - 0s 8ms/step - loss: 0.0802 - mse: 0.0802 - val_loss: 0.5101 - val_mse: 0.5101\n",
      "Epoch 15/20\n",
      "7/7 [==============================] - 0s 8ms/step - loss: 0.0767 - mse: 0.0767 - val_loss: 0.4307 - val_mse: 0.4307\n",
      "Epoch 16/20\n",
      "7/7 [==============================] - 0s 8ms/step - loss: 0.0741 - mse: 0.0741 - val_loss: 0.3853 - val_mse: 0.3853\n",
      "Epoch 17/20\n",
      "7/7 [==============================] - 0s 8ms/step - loss: 0.0696 - mse: 0.0696 - val_loss: 0.3625 - val_mse: 0.3625\n",
      "Epoch 18/20\n",
      "7/7 [==============================] - 0s 8ms/step - loss: 0.0630 - mse: 0.0630 - val_loss: 0.3184 - val_mse: 0.3184\n",
      "Epoch 19/20\n",
      "7/7 [==============================] - 0s 8ms/step - loss: 0.0591 - mse: 0.0591 - val_loss: 0.2917 - val_mse: 0.2917\n",
      "Epoch 20/20\n",
      "7/7 [==============================] - 0s 9ms/step - loss: 0.0555 - mse: 0.0555 - val_loss: 0.2663 - val_mse: 0.2663\n",
      "CPU times: user 4.06 s, sys: 456 ms, total: 4.51 s\n",
      "Wall time: 6.79 s\n"
     ]
    },
    {
     "data": {
      "text/plain": [
       "<keras.callbacks.History at 0x7f1105048390>"
      ]
     },
     "execution_count": 34,
     "metadata": {},
     "output_type": "execute_result"
    }
   ],
   "source": [
    "%%time\n",
    "test_n = 200\n",
    "model.fit(X[:test_n], y[:test_n],\n",
    "          epochs=20,\n",
    "          validation_data=(X[test_n:], y[test_n:])\n",
    "          )"
   ]
  },
  {
   "cell_type": "code",
   "execution_count": null,
   "metadata": {
    "colab": {
     "base_uri": "https://localhost:8080/"
    },
    "id": "khe6ufw-E3f6",
    "outputId": "8ab6c582-7856-45bb-9060-438d548f2b79"
   },
   "outputs": [
    {
     "name": "stdout",
     "output_type": "stream",
     "text": [
      "7/7 [==============================] - 0s 3ms/step - loss: 0.0538 - mse: 0.0538\n"
     ]
    },
    {
     "data": {
      "text/plain": [
       "[0.0538252554833889, 0.0538252554833889]"
      ]
     },
     "execution_count": 35,
     "metadata": {},
     "output_type": "execute_result"
    }
   ],
   "source": [
    "model.evaluate(X[:test_n], y[:test_n])"
   ]
  },
  {
   "cell_type": "code",
   "execution_count": null,
   "metadata": {
    "colab": {
     "base_uri": "https://localhost:8080/",
     "height": 282
    },
    "id": "Wh0-FtF-YtmE",
    "outputId": "68ea4c84-9585-44ae-c125-70d0bc72745d"
   },
   "outputs": [
    {
     "name": "stdout",
     "output_type": "stream",
     "text": [
      "7/7 [==============================] - 0s 2ms/step\n"
     ]
    },
    {
     "data": {
      "image/png": "[encoded data removed]",
      "text/plain": [
       "<Figure size 432x288 with 1 Axes>"
      ]
     },
     "metadata": {
      "needs_background": "light"
     },
     "output_type": "display_data"
    }
   ],
   "source": [
    "y_pred = model.predict(X[:test_n])\n",
    "\n",
    "plt.plot(y_pred, '.r', label='predicted')\n",
    "plt.plot(y[:test_n], 'g', label='true')\n",
    "plt.legend();"
   ]
  },
  {
   "cell_type": "code",
   "execution_count": null,
   "metadata": {
    "colab": {
     "base_uri": "https://localhost:8080/",
     "height": 282
    },
    "id": "XV-NsrhLYH0a",
    "outputId": "a6dce743-3de7-48f1-9364-70bbd509971d"
   },
   "outputs": [
    {
     "name": "stdout",
     "output_type": "stream",
     "text": [
      "3/3 [==============================] - 0s 4ms/step\n"
     ]
    },
    {
     "data": {
      "image/png": "[encoded data removed]",
      "text/plain": [
       "<Figure size 432x288 with 1 Axes>"
      ]
     },
     "metadata": {
      "needs_background": "light"
     },
     "output_type": "display_data"
    }
   ],
   "source": [
    "y_pred = model.predict(X[test_n:])\n",
    "\n",
    "plt.plot(y_pred, '.r', label='predicted')\n",
    "plt.plot(y[test_n:], 'g', label='true')\n",
    "plt.legend();"
   ]
  },
  {
   "cell_type": "markdown",
   "metadata": {
    "id": "guYTy52CTEPL"
   },
   "source": [
    "## Gated Recurrent Unit (GRU)\n",
    "\n",
    "Теперь, когда мы знаем как работает LSTM, давайте бегло взглянем на то, как работате GRU. GRU это более новое поколение рекуррентных нейронных сетей и оно во многом похоже на LSTM. Но есть определенная разница. В GRU не используется состояние ячейки и используется скрытое состояние для передачи информации. В GRU также есть два затвора - reset gate и update gate."
   ]
  },
  {
   "cell_type": "markdown",
   "metadata": {
    "id": "hcK7KuHeAS-0"
   },
   "source": [
    "<img src='images/gru1.png' width=700>"
   ]
  },
  {
   "cell_type": "markdown",
   "metadata": {
    "id": "6Nlu3bcUTEPS"
   },
   "source": [
    "Update Gate обновляет затворы действуя подобно forget и input gate, которые используются в LSTM. Он решает какая информация будет отброшена, а какая новая информация будет добавлена. Reset Gate - это другой затвор, использующийся для принятия решения, как много прошлой информации будет забыто. В этих особенностях и заключается архитектура GRU. GRU имеет меньше тензорных операций и соответственно тренеруется быстре, чем LSTM. Однако нельзя сказать точно, какая архитектура лучше. Исследователи и инженеры пытаются определить, что в каждом конкретном случае подойдет больше. Если говорить упрощенно, то GRU может подойти тогда, когда важнее скорость, чем точность, а LSTM тогда, когда важнее точность, чем скорость. \n",
    "\n",
    "<img src='images/gru2.png'>\n",
    "\n",
    "<img src='images/gru3.png' width=400>"
   ]
  },
  {
   "cell_type": "code",
   "execution_count": null,
   "metadata": {
    "colab": {
     "base_uri": "https://localhost:8080/"
    },
    "id": "9XKvuvLiD3_B",
    "outputId": "671676be-ca95-481c-ad27-ac7a01c19d57"
   },
   "outputs": [
    {
     "name": "stdout",
     "output_type": "stream",
     "text": [
      "Model: \"model_4\"\n",
      "_________________________________________________________________\n",
      " Layer (type)                Output Shape              Param #   \n",
      "=================================================================\n",
      " input_5 (InputLayer)        [(None, 7, 2)]            0         \n",
      "                                                                 \n",
      " gru (GRU)                   (None, 128)               50688     \n",
      "                                                                 \n",
      " dense_4 (Dense)             (None, 1)                 129       \n",
      "                                                                 \n",
      "=================================================================\n",
      "Total params: 50,817\n",
      "Trainable params: 50,817\n",
      "Non-trainable params: 0\n",
      "_________________________________________________________________\n"
     ]
    }
   ],
   "source": [
    "from tensorflow.keras.layers import GRU\n",
    "\n",
    "\n",
    "input = Input(shape=(x_len, 2))\n",
    "output = GRU(units=128, dropout=0.0)(input)\n",
    "output = Dense(1, activation='linear')(output)\n",
    "\n",
    "model = Model(input, output)\n",
    "model.compile(optimizer='Adam', loss='mse', metrics=['mse'])\n",
    "\n",
    "model.summary()"
   ]
  },
  {
   "cell_type": "code",
   "execution_count": null,
   "metadata": {
    "colab": {
     "base_uri": "https://localhost:8080/"
    },
    "id": "XYH7T6caEBp5",
    "outputId": "6d18b822-fe93-4ff7-942c-9d21a0d6d5a6"
   },
   "outputs": [
    {
     "name": "stdout",
     "output_type": "stream",
     "text": [
      "Epoch 1/20\n",
      "7/7 [==============================] - 2s 68ms/step - loss: 6.9006 - mse: 6.9006 - val_loss: 10.0925 - val_mse: 10.0925\n",
      "Epoch 2/20\n",
      "7/7 [==============================] - 0s 8ms/step - loss: 1.3182 - mse: 1.3182 - val_loss: 2.4095 - val_mse: 2.4095\n",
      "Epoch 3/20\n",
      "7/7 [==============================] - 0s 9ms/step - loss: 1.5304 - mse: 1.5304 - val_loss: 2.6036 - val_mse: 2.6036\n",
      "Epoch 4/20\n",
      "7/7 [==============================] - 0s 8ms/step - loss: 0.6447 - mse: 0.6447 - val_loss: 3.4826 - val_mse: 3.4826\n",
      "Epoch 5/20\n",
      "7/7 [==============================] - 0s 8ms/step - loss: 0.5711 - mse: 0.5711 - val_loss: 2.6810 - val_mse: 2.6810\n",
      "Epoch 6/20\n",
      "7/7 [==============================] - 0s 7ms/step - loss: 0.4518 - mse: 0.4518 - val_loss: 1.5742 - val_mse: 1.5742\n",
      "Epoch 7/20\n",
      "7/7 [==============================] - 0s 7ms/step - loss: 0.3743 - mse: 0.3743 - val_loss: 1.0876 - val_mse: 1.0876\n",
      "Epoch 8/20\n",
      "7/7 [==============================] - 0s 8ms/step - loss: 0.3551 - mse: 0.3551 - val_loss: 1.0865 - val_mse: 1.0865\n",
      "Epoch 9/20\n",
      "7/7 [==============================] - 0s 9ms/step - loss: 0.3161 - mse: 0.3161 - val_loss: 1.1711 - val_mse: 1.1711\n",
      "Epoch 10/20\n",
      "7/7 [==============================] - 0s 8ms/step - loss: 0.2812 - mse: 0.2812 - val_loss: 1.0187 - val_mse: 1.0187\n",
      "Epoch 11/20\n",
      "7/7 [==============================] - 0s 8ms/step - loss: 0.2484 - mse: 0.2484 - val_loss: 0.8883 - val_mse: 0.8883\n",
      "Epoch 12/20\n",
      "7/7 [==============================] - 0s 9ms/step - loss: 0.2178 - mse: 0.2178 - val_loss: 0.8327 - val_mse: 0.8327\n",
      "Epoch 13/20\n",
      "7/7 [==============================] - 0s 8ms/step - loss: 0.1914 - mse: 0.1914 - val_loss: 0.8401 - val_mse: 0.8401\n",
      "Epoch 14/20\n",
      "7/7 [==============================] - 0s 11ms/step - loss: 0.1664 - mse: 0.1664 - val_loss: 0.6344 - val_mse: 0.6344\n",
      "Epoch 15/20\n",
      "7/7 [==============================] - 0s 8ms/step - loss: 0.1371 - mse: 0.1371 - val_loss: 0.7747 - val_mse: 0.7747\n",
      "Epoch 16/20\n",
      "7/7 [==============================] - 0s 10ms/step - loss: 0.1144 - mse: 0.1144 - val_loss: 0.5529 - val_mse: 0.5529\n",
      "Epoch 17/20\n",
      "7/7 [==============================] - 0s 9ms/step - loss: 0.0974 - mse: 0.0974 - val_loss: 0.5178 - val_mse: 0.5178\n",
      "Epoch 18/20\n",
      "7/7 [==============================] - 0s 8ms/step - loss: 0.0746 - mse: 0.0746 - val_loss: 0.4442 - val_mse: 0.4442\n",
      "Epoch 19/20\n",
      "7/7 [==============================] - 0s 8ms/step - loss: 0.0616 - mse: 0.0616 - val_loss: 0.3625 - val_mse: 0.3625\n",
      "Epoch 20/20\n",
      "7/7 [==============================] - 0s 8ms/step - loss: 0.0549 - mse: 0.0549 - val_loss: 0.2981 - val_mse: 0.2981\n",
      "CPU times: user 3.16 s, sys: 153 ms, total: 3.31 s\n",
      "Wall time: 4.06 s\n"
     ]
    },
    {
     "data": {
      "text/plain": [
       "<keras.callbacks.History at 0x7f995f5cb1d0>"
      ]
     },
     "execution_count": 76,
     "metadata": {},
     "output_type": "execute_result"
    }
   ],
   "source": [
    "%%time\n",
    "test_n = 200\n",
    "model.fit(X[:test_n], y[:test_n],\n",
    "          epochs=20,\n",
    "          validation_data=(X[test_n:], y[test_n:])\n",
    "          )"
   ]
  },
  {
   "cell_type": "code",
   "execution_count": null,
   "metadata": {
    "colab": {
     "base_uri": "https://localhost:8080/"
    },
    "id": "07-A1jQBFGJd",
    "outputId": "1ac34d37-87bf-47cc-ada5-4abb19d93073"
   },
   "outputs": [
    {
     "name": "stdout",
     "output_type": "stream",
     "text": [
      "7/7 [==============================] - 0s 3ms/step - loss: 0.0509 - mse: 0.0509\n"
     ]
    },
    {
     "data": {
      "text/plain": [
       "[0.05089771747589111, 0.05089771747589111]"
      ]
     },
     "execution_count": 77,
     "metadata": {},
     "output_type": "execute_result"
    }
   ],
   "source": [
    "model.evaluate(X[:test_n], y[:test_n])"
   ]
  },
  {
   "cell_type": "code",
   "execution_count": null,
   "metadata": {
    "colab": {
     "base_uri": "https://localhost:8080/",
     "height": 282
    },
    "id": "d1zYi8MTEBjq",
    "outputId": "9f4eaf33-2b97-4f3b-d59b-c1944179b21b"
   },
   "outputs": [
    {
     "name": "stdout",
     "output_type": "stream",
     "text": [
      "7/7 [==============================] - 0s 3ms/step\n"
     ]
    },
    {
     "data": {
      "image/png": "[encoded data removed]",
      "text/plain": [
       "<Figure size 432x288 with 1 Axes>"
      ]
     },
     "metadata": {
      "needs_background": "light"
     },
     "output_type": "display_data"
    }
   ],
   "source": [
    "y_pred = model.predict(X[:test_n])\n",
    "\n",
    "plt.plot(y_pred, '.r', label='predicted')\n",
    "plt.plot(y[:test_n], 'g', label='true')\n",
    "plt.legend();"
   ]
  },
  {
   "cell_type": "code",
   "execution_count": null,
   "metadata": {
    "colab": {
     "base_uri": "https://localhost:8080/",
     "height": 282
    },
    "id": "40tECAywEJOC",
    "outputId": "85cff644-4a48-443a-cff5-bbe267cd5cb0"
   },
   "outputs": [
    {
     "name": "stdout",
     "output_type": "stream",
     "text": [
      "3/3 [==============================] - 0s 4ms/step\n"
     ]
    },
    {
     "data": {
      "image/png": "[encoded data removed]",
      "text/plain": [
       "<Figure size 432x288 with 1 Axes>"
      ]
     },
     "metadata": {
      "needs_background": "light"
     },
     "output_type": "display_data"
    }
   ],
   "source": [
    "y_pred = model.predict(X[test_n:])\n",
    "\n",
    "plt.plot(y_pred, '.r', label='predicted')\n",
    "plt.plot(y[test_n:], 'g', label='true')\n",
    "plt.legend();"
   ]
  },
  {
   "cell_type": "markdown",
   "metadata": {
    "id": "VibWuP0jGt4F"
   },
   "source": [
    "## Attention"
   ]
  },
  {
   "cell_type": "markdown",
   "metadata": {
    "id": "TLDjJ2kkH3iK"
   },
   "source": [
    "С какими проблемами еще можем столкнуться? Снова поговорим про машинный перевод.\n",
    "\n",
    "Примеры из статьи [Google's Neural Machine Translation System: Bridging the Gap between Human and Machine Translation](https://arxiv.org/abs/1609.08144).\n",
    "\n",
    "<!-- <img src='https://drive.google.com/uc?export=view&id=1uOHQX8AnPGKY6HEDOTRJzVxCiKAHLoJy' width=450> -->\n",
    "<img src='images/attention1.png' width=450>\n",
    "\n",
    "Нужно сжать всю информацию о предыдущих словах в один блок, который представляет собой внутренний слой - переходное состояние из кодировщика в декодировщика, что очень сложная задача, которая приводит к недообучению.\n",
    "\n",
    "И одно из возможных решений - это настакать слои LSTM, один слой LSTM создает вход для другого слоя LSTM:\n",
    "\n",
    "<!-- <img src='https://drive.google.com/uc?export=view&id=1yrBxb5DXZA-LNwNWQdmuF4TNNXqTfNpJ' width=450> -->\n",
    "<img src='images/attention2.png' width=450>\n",
    "\n",
    "Но эту вещь очень тяжело обучать, если добавлять всё больше LSTM слоем, то снова встречаемся с проблемой затухающих градиентов, плюсом, всё равно нужно сжимать всю информацию в последние блоки - это наш bottleneck (узкое место, горлышко бутылки) между кодировщик и декодировщиком.\n"
   ]
  },
  {
   "cell_type": "markdown",
   "metadata": {
    "id": "hY_szeB8KpkH"
   },
   "source": [
    "И решение этой проблемы - Attention слой. Вместо того, чтобы сжимать всю информацию из всех временных ячеек в одно скрытое состояние, можно дать доступ декодировщику ко всей истории. Но получаем очень слишком много информации, которую нужно учитывать, поэтому мы будем обращать свое внимание только на подвыборку этих ячеек.\n",
    "\n",
    "Будем учитывать, какая часть предложения на английском языке важна для предсказания слова на французском языке. Подсчет такого распределения достигается получением оценки релевантности каждого слова в предложении для получения нового слова.\n",
    "\n",
    "<!-- <img src='https://drive.google.com/uc?export=view&id=1GAVWyShMSXELaz1f-_e4c9rAeDoJ3QE_' width=450> -->\n",
    "<img src='images/attention3.png' width=450>"
   ]
  },
  {
   "cell_type": "markdown",
   "metadata": {
    "id": "2CKXDdDGOTB2"
   },
   "source": [
    "**Как использовать эти оценки релевантности?**\n",
    "\n",
    "Подсчитываются оценки для каждого скрытого состояния и образуют собой взвешанную сумму внимания. А потом эта сумма передается, как еще один вход в декодировщик.\n",
    "\n",
    "<!-- <img src='https://drive.google.com/uc?export=view&id=1a72Ake6Ai2SdkZ9cQpqmq6-ebjblcQ34' width=450> -->\n",
    "<img src='images/rel1.png' width=450>\n",
    "\n",
    "Можно [провизуализировать](https://distill.pub/2016/augmented-rnns/#attentional-interfaces), какое внимание уделяется каждому слову из предложения:\n",
    "\n",
    "<!-- <img src='https://drive.google.com/uc?export=view&id=1WcRiqQ5fG7kQPTbISHgRYYwbBbLetDOL' width=800> -->\n",
    "<img src='images/rel2.png' width=800>\n",
    "\n",
    "А ещё слои внимания можно добавлять и не только к текстам, но и к картинкам.\n",
    "\n",
    "<!-- <img src='https://drive.google.com/uc?export=view&id=1i48NmZMXUneeUwW339tSgvrGU_VvLh9H'> -->\n",
    "<img src='images/rel3.png'>\n"
   ]
  },
  {
   "cell_type": "markdown",
   "metadata": {
    "id": "YVZ6r22LPCou"
   },
   "source": [
    "## Bidirectional LSTM"
   ]
  },
  {
   "cell_type": "markdown",
   "metadata": {
    "id": "GzYDuSb-G8h3"
   },
   "source": [
    "https://keras.io/examples/nlp/bidirectional_lstm_imdb/\n",
    "\n",
    "Еще одна проблема с LSTM - они учитывают только контекст до слова. Почему это может быть плохо? К примеру, слово \"quick\" может значит очень много вещей и смысл слова будет понятен только после прочтения слов, которые идут после него.\n",
    "\n",
    "Идея решения проблемы - использовать LSTM слой для прямого контекста и еще слой LSTM для обратного контекста - это будет двунаправленный слой LSTM (Bidirectional LSTM).\n",
    "\n",
    "\n",
    "\n",
    "<!-- <img src='https://drive.google.com/uc?export=view&id=1kCGsUWhUjIoIAquvE7FjaAbYjAQdsyW7' width=550> -->\n",
    "<img src='images/bilstm1.png' width=550>\n",
    "\n",
    "А так будет выглядеть сеть, если всё объединить вместе.\n",
    "\n",
    "<!-- <img src='https://drive.google.com/uc?export=view&id=1FdhBWJFQKEpM8lUZ-E2hlTWCmNj361Lg' width=450> -->\n",
    "<img src='images/bilstm2.png' width=450>\n",
    "\n"
   ]
  },
  {
   "cell_type": "markdown",
   "metadata": {
    "id": "D20CRso9TEPU"
   },
   "source": [
    "## Практика"
   ]
  },
  {
   "cell_type": "markdown",
   "metadata": {
    "id": "uWjMmd6SAxdY"
   },
   "source": [
    "### IMDB"
   ]
  },
  {
   "cell_type": "markdown",
   "metadata": {
    "id": "BcavVsOfTEPh"
   },
   "source": [
    "Теперь давайте попробуем с помощью Keras построить LSTM нейронную сеть для оценки настроений отзывов на IMDB."
   ]
  },
  {
   "cell_type": "markdown",
   "metadata": {
    "id": "k5mxcMT2TEPi"
   },
   "source": [
    "Данный датасет слишком мал, чтобы преимущества LSTM проявились, однако в учебных целях он подойдет.\n",
    "\n",
    "В тренировке рекуррентных нейронных сетей важную роль играет размер batch, но еще большую роль играет выбор функций loss и optimizer."
   ]
  },
  {
   "cell_type": "code",
   "execution_count": null,
   "metadata": {
    "id": "wuI6h_TyEhvl"
   },
   "outputs": [],
   "source": [
    "import pandas as pd\n",
    "import numpy as np"
   ]
  },
  {
   "cell_type": "code",
   "execution_count": null,
   "metadata": {
    "colab": {
     "base_uri": "https://localhost:8080/"
    },
    "id": "IM1n34PCTEPk",
    "outputId": "eaf10f3e-3c71-46f7-f521-a52a2a7ac6a4"
   },
   "outputs": [
    {
     "name": "stdout",
     "output_type": "stream",
     "text": [
      "Загрузка данных...\n"
     ]
    }
   ],
   "source": [
    "from tensorflow.keras.preprocessing import sequence\n",
    "from keras.models import Sequential\n",
    "from keras.layers import Dense, Embedding\n",
    "from keras.layers import LSTM\n",
    "from keras.datasets import imdb\n",
    "\n",
    "max_features = 10000\n",
    "\n",
    "# обрезаем тексты после данного количества слов (среди top max_features наиболее используемые слова)\n",
    "maxlen = 80\n",
    "batch_size = 50 # увеличьте значение для ускорения обучения\n",
    "\n",
    "print('Загрузка данных...')\n",
    "(X_train, y_train), (X_test, y_test) = imdb.load_data(num_words=max_features)"
   ]
  },
  {
   "cell_type": "code",
   "execution_count": null,
   "metadata": {
    "colab": {
     "base_uri": "https://localhost:8080/"
    },
    "id": "rnDxxPa1A2vE",
    "outputId": "e4fb2b5c-b7f3-4e85-e1cb-e8032e3dd28e"
   },
   "outputs": [
    {
     "data": {
      "text/plain": [
       "[218, 189, 141, 550, 147]"
      ]
     },
     "execution_count": 87,
     "metadata": {},
     "output_type": "execute_result"
    }
   ],
   "source": [
    "[len(i) for i in X_train[:5]]"
   ]
  },
  {
   "cell_type": "code",
   "execution_count": null,
   "metadata": {
    "colab": {
     "base_uri": "https://localhost:8080/"
    },
    "id": "LRBL0ZDmBIPI",
    "outputId": "e94a4908-0176-417e-f2c4-84f75dbfb7b8"
   },
   "outputs": [
    {
     "data": {
      "text/plain": [
       "array([list([1, 14, 22, 16, 43, 530, 973, 1622, 1385, 65, 458, 4468, 66, 3941, 4, 173, 36, 256, 5, 25, 100, 43, 838, 112, 50, 670, 2, 9, 35, 480, 284, 5, 150, 4, 172, 112, 167, 2, 336, 385, 39, 4, 172, 4536, 1111, 17, 546, 38, 13, 447, 4, 192, 50, 16, 6, 147, 2025, 19, 14, 22, 4, 1920, 4613, 469, 4, 22, 71, 87, 12, 16, 43, 530, 38, 76, 15, 13, 1247, 4, 22, 17, 515, 17, 12, 16, 626, 18, 2, 5, 62, 386, 12, 8, 316, 8, 106, 5, 4, 2223, 5244, 16, 480, 66, 3785, 33, 4, 130, 12, 16, 38, 619, 5, 25, 124, 51, 36, 135, 48, 25, 1415, 33, 6, 22, 12, 215, 28, 77, 52, 5, 14, 407, 16, 82, 2, 8, 4, 107, 117, 5952, 15, 256, 4, 2, 7, 3766, 5, 723, 36, 71, 43, 530, 476, 26, 400, 317, 46, 7, 4, 2, 1029, 13, 104, 88, 4, 381, 15, 297, 98, 32, 2071, 56, 26, 141, 6, 194, 7486, 18, 4, 226, 22, 21, 134, 476, 26, 480, 5, 144, 30, 5535, 18, 51, 36, 28, 224, 92, 25, 104, 4, 226, 65, 16, 38, 1334, 88, 12, 16, 283, 5, 16, 4472, 113, 103, 32, 15, 16, 5345, 19, 178, 32]),\n",
       "       list([1, 194, 1153, 194, 8255, 78, 228, 5, 6, 1463, 4369, 5012, 134, 26, 4, 715, 8, 118, 1634, 14, 394, 20, 13, 119, 954, 189, 102, 5, 207, 110, 3103, 21, 14, 69, 188, 8, 30, 23, 7, 4, 249, 126, 93, 4, 114, 9, 2300, 1523, 5, 647, 4, 116, 9, 35, 8163, 4, 229, 9, 340, 1322, 4, 118, 9, 4, 130, 4901, 19, 4, 1002, 5, 89, 29, 952, 46, 37, 4, 455, 9, 45, 43, 38, 1543, 1905, 398, 4, 1649, 26, 6853, 5, 163, 11, 3215, 2, 4, 1153, 9, 194, 775, 7, 8255, 2, 349, 2637, 148, 605, 2, 8003, 15, 123, 125, 68, 2, 6853, 15, 349, 165, 4362, 98, 5, 4, 228, 9, 43, 2, 1157, 15, 299, 120, 5, 120, 174, 11, 220, 175, 136, 50, 9, 4373, 228, 8255, 5, 2, 656, 245, 2350, 5, 4, 9837, 131, 152, 491, 18, 2, 32, 7464, 1212, 14, 9, 6, 371, 78, 22, 625, 64, 1382, 9, 8, 168, 145, 23, 4, 1690, 15, 16, 4, 1355, 5, 28, 6, 52, 154, 462, 33, 89, 78, 285, 16, 145, 95]),\n",
       "       list([1, 14, 47, 8, 30, 31, 7, 4, 249, 108, 7, 4, 5974, 54, 61, 369, 13, 71, 149, 14, 22, 112, 4, 2401, 311, 12, 16, 3711, 33, 75, 43, 1829, 296, 4, 86, 320, 35, 534, 19, 263, 4821, 1301, 4, 1873, 33, 89, 78, 12, 66, 16, 4, 360, 7, 4, 58, 316, 334, 11, 4, 1716, 43, 645, 662, 8, 257, 85, 1200, 42, 1228, 2578, 83, 68, 3912, 15, 36, 165, 1539, 278, 36, 69, 2, 780, 8, 106, 14, 6905, 1338, 18, 6, 22, 12, 215, 28, 610, 40, 6, 87, 326, 23, 2300, 21, 23, 22, 12, 272, 40, 57, 31, 11, 4, 22, 47, 6, 2307, 51, 9, 170, 23, 595, 116, 595, 1352, 13, 191, 79, 638, 89, 2, 14, 9, 8, 106, 607, 624, 35, 534, 6, 227, 7, 129, 113]),\n",
       "       list([1, 4, 2, 2, 33, 2804, 4, 2040, 432, 111, 153, 103, 4, 1494, 13, 70, 131, 67, 11, 61, 2, 744, 35, 3715, 761, 61, 5766, 452, 9214, 4, 985, 7, 2, 59, 166, 4, 105, 216, 1239, 41, 1797, 9, 15, 7, 35, 744, 2413, 31, 8, 4, 687, 23, 4, 2, 7339, 6, 3693, 42, 38, 39, 121, 59, 456, 10, 10, 7, 265, 12, 575, 111, 153, 159, 59, 16, 1447, 21, 25, 586, 482, 39, 4, 96, 59, 716, 12, 4, 172, 65, 9, 579, 11, 6004, 4, 1615, 5, 2, 7, 5168, 17, 13, 7064, 12, 19, 6, 464, 31, 314, 11, 2, 6, 719, 605, 11, 8, 202, 27, 310, 4, 3772, 3501, 8, 2722, 58, 10, 10, 537, 2116, 180, 40, 14, 413, 173, 7, 263, 112, 37, 152, 377, 4, 537, 263, 846, 579, 178, 54, 75, 71, 476, 36, 413, 263, 2504, 182, 5, 17, 75, 2306, 922, 36, 279, 131, 2895, 17, 2867, 42, 17, 35, 921, 2, 192, 5, 1219, 3890, 19, 2, 217, 4122, 1710, 537, 2, 1236, 5, 736, 10, 10, 61, 403, 9, 2, 40, 61, 4494, 5, 27, 4494, 159, 90, 263, 2311, 4319, 309, 8, 178, 5, 82, 4319, 4, 65, 15, 9225, 145, 143, 5122, 12, 7039, 537, 746, 537, 537, 15, 7979, 4, 2, 594, 7, 5168, 94, 9096, 3987, 2, 11, 2, 4, 538, 7, 1795, 246, 2, 9, 2, 11, 635, 14, 9, 51, 408, 12, 94, 318, 1382, 12, 47, 6, 2683, 936, 5, 6307, 2, 19, 49, 7, 4, 1885, 2, 1118, 25, 80, 126, 842, 10, 10, 2, 2, 4726, 27, 4494, 11, 1550, 3633, 159, 27, 341, 29, 2733, 19, 4185, 173, 7, 90, 2, 8, 30, 11, 4, 1784, 86, 1117, 8, 3261, 46, 11, 2, 21, 29, 9, 2841, 23, 4, 1010, 2, 793, 6, 2, 1386, 1830, 10, 10, 246, 50, 9, 6, 2750, 1944, 746, 90, 29, 2, 8, 124, 4, 882, 4, 882, 496, 27, 2, 2213, 537, 121, 127, 1219, 130, 5, 29, 494, 8, 124, 4, 882, 496, 4, 341, 7, 27, 846, 10, 10, 29, 9, 1906, 8, 97, 6, 236, 2, 1311, 8, 4, 2, 7, 31, 7, 2, 91, 2, 3987, 70, 4, 882, 30, 579, 42, 9, 12, 32, 11, 537, 10, 10, 11, 14, 65, 44, 537, 75, 2, 1775, 3353, 2, 1846, 4, 2, 7, 154, 5, 4, 518, 53, 2, 2, 7, 3211, 882, 11, 399, 38, 75, 257, 3807, 19, 2, 17, 29, 456, 4, 65, 7, 27, 205, 113, 10, 10, 2, 4, 2, 2, 9, 242, 4, 91, 1202, 2, 5, 2070, 307, 22, 7, 5168, 126, 93, 40, 2, 13, 188, 1076, 3222, 19, 4, 2, 7, 2348, 537, 23, 53, 537, 21, 82, 40, 2, 13, 2, 14, 280, 13, 219, 4, 2, 431, 758, 859, 4, 953, 1052, 2, 7, 5991, 5, 94, 40, 25, 238, 60, 2, 4, 2, 804, 2, 7, 4, 9941, 132, 8, 67, 6, 22, 15, 9, 283, 8, 5168, 14, 31, 9, 242, 955, 48, 25, 279, 2, 23, 12, 1685, 195, 25, 238, 60, 796, 2, 4, 671, 7, 2804, 5, 4, 559, 154, 888, 7, 726, 50, 26, 49, 7008, 15, 566, 30, 579, 21, 64, 2574]),\n",
       "       list([1, 249, 1323, 7, 61, 113, 10, 10, 13, 1637, 14, 20, 56, 33, 2401, 18, 457, 88, 13, 2626, 1400, 45, 3171, 13, 70, 79, 49, 706, 919, 13, 16, 355, 340, 355, 1696, 96, 143, 4, 22, 32, 289, 7, 61, 369, 71, 2359, 5, 13, 16, 131, 2073, 249, 114, 249, 229, 249, 20, 13, 28, 126, 110, 13, 473, 8, 569, 61, 419, 56, 429, 6, 1513, 18, 35, 534, 95, 474, 570, 5, 25, 124, 138, 88, 12, 421, 1543, 52, 725, 6397, 61, 419, 11, 13, 1571, 15, 1543, 20, 11, 4, 2, 5, 296, 12, 3524, 5, 15, 421, 128, 74, 233, 334, 207, 126, 224, 12, 562, 298, 2167, 1272, 7, 2601, 5, 516, 988, 43, 8, 79, 120, 15, 595, 13, 784, 25, 3171, 18, 165, 170, 143, 19, 14, 5, 7224, 6, 226, 251, 7, 61, 113])],\n",
       "      dtype=object)"
      ]
     },
     "execution_count": 88,
     "metadata": {},
     "output_type": "execute_result"
    }
   ],
   "source": [
    "X_train[:5]"
   ]
  },
  {
   "cell_type": "code",
   "execution_count": null,
   "metadata": {
    "colab": {
     "base_uri": "https://localhost:8080/"
    },
    "id": "PmA2R0lPn0z7",
    "outputId": "0f7386ff-38f8-4efd-9b08-f1d2b78fa809"
   },
   "outputs": [
    {
     "name": "stdout",
     "output_type": "stream",
     "text": [
      "the as you with out themselves powerful lets loves their becomes reaching had journalist of lot from anyone to have after out atmosphere never more room and it so heart shows to years of every never going and help moments or of every chest visual movie except her was several of enough more with is now current film as you of mine potentially unfortunately of you than him that with out themselves her get for was camp of you movie sometimes movie that with scary but and to story wonderful that in seeing in character to of 70s musicians with heart had shadows they of here that with her serious to have does when from why what have critics they is you that isn't one will very to as itself with other and in of seen over landed for anyone of and br show's to whether from than out themselves history he name half some br of and odd was two most of mean for 1 any an boat she he should is thought frog but of script you not while history he heart to real at barrel but when from one bit then have two of script their with her nobody most that with wasn't to with armed acting watch an for with heartfelt film want an "
     ]
    }
   ],
   "source": [
    "index2word = {v:k for k, v in imdb.get_word_index().items()}\n",
    "\n",
    "for idx_word in X_train[0]:\n",
    "    print(index2word[idx_word], end=' ')"
   ]
  },
  {
   "cell_type": "code",
   "execution_count": null,
   "metadata": {
    "colab": {
     "base_uri": "https://localhost:8080/"
    },
    "id": "E6Nex90C6XPR",
    "outputId": "7f54c28a-9643-4233-8d6f-7ce5925eb11b"
   },
   "outputs": [
    {
     "name": "stdout",
     "output_type": "stream",
     "text": [
      "Pad последовательности (примеров в x единицу времени)\n",
      "X_train shape: (25000, 80)\n",
      "X_test shape: (25000, 80)\n"
     ]
    }
   ],
   "source": [
    "print('Pad последовательности (примеров в x единицу времени)')\n",
    "X_train = sequence.pad_sequences(X_train, maxlen=maxlen)\n",
    "X_test = sequence.pad_sequences(X_test, maxlen=maxlen)\n",
    "print('X_train shape:', X_train.shape)\n",
    "print('X_test shape:', X_test.shape)"
   ]
  },
  {
   "cell_type": "code",
   "execution_count": null,
   "metadata": {
    "colab": {
     "base_uri": "https://localhost:8080/"
    },
    "id": "UD8mp-DbDOf1",
    "outputId": "1729d29d-36f1-4566-c62a-2e24c4b16d37"
   },
   "outputs": [
    {
     "data": {
      "text/plain": [
       "array([  15,  256,    4,    2,    7, 3766,    5,  723,   36,   71,   43,\n",
       "        530,  476,   26,  400,  317,   46,    7,    4,    2, 1029,   13,\n",
       "        104,   88,    4,  381,   15,  297,   98,   32, 2071,   56,   26,\n",
       "        141,    6,  194, 7486,   18,    4,  226,   22,   21,  134,  476,\n",
       "         26,  480,    5,  144,   30, 5535,   18,   51,   36,   28,  224,\n",
       "         92,   25,  104,    4,  226,   65,   16,   38, 1334,   88,   12,\n",
       "         16,  283,    5,   16, 4472,  113,  103,   32,   15,   16, 5345,\n",
       "         19,  178,   32], dtype=int32)"
      ]
     },
     "execution_count": 91,
     "metadata": {},
     "output_type": "execute_result"
    }
   ],
   "source": [
    "X_train[0]"
   ]
  },
  {
   "cell_type": "code",
   "execution_count": null,
   "metadata": {
    "colab": {
     "base_uri": "https://localhost:8080/"
    },
    "id": "v0WLajSLEDOb",
    "outputId": "d20199ad-31e0-444d-de4c-eb137598725f"
   },
   "outputs": [
    {
     "data": {
      "text/plain": [
       "array([   0,    0,    0,    0,    0,    0,    0,    0,    0,    0,    0,\n",
       "          0,    1,  591,  202,   14,   31,    6,  717,   10,   10,    2,\n",
       "          2,    5,    4,  360,    7,    4,  177, 5760,  394,  354,    4,\n",
       "        123,    9, 1035, 1035, 1035,   10,   10,   13,   92,  124,   89,\n",
       "        488, 7944,  100,   28, 1668,   14,   31,   23,   27, 7479,   29,\n",
       "        220,  468,    8,  124,   14,  286,  170,    8,  157,   46,    5,\n",
       "         27,  239,   16,  179,    2,   38,   32,   25, 7944,  451,  202,\n",
       "         14,    6,  717], dtype=int32)"
      ]
     },
     "execution_count": 92,
     "metadata": {},
     "output_type": "execute_result"
    }
   ],
   "source": [
    "X_test[0]"
   ]
  },
  {
   "cell_type": "code",
   "execution_count": null,
   "metadata": {
    "colab": {
     "base_uri": "https://localhost:8080/"
    },
    "id": "uYx53_0gD_ii",
    "outputId": "7b461078-3d58-455d-fea1-55f3abba4146"
   },
   "outputs": [
    {
     "data": {
      "text/plain": [
       "88584"
      ]
     },
     "execution_count": 93,
     "metadata": {},
     "output_type": "execute_result"
    }
   ],
   "source": [
    "index = imdb.get_word_index()\n",
    "len(index)"
   ]
  },
  {
   "cell_type": "code",
   "execution_count": null,
   "metadata": {
    "colab": {
     "base_uri": "https://localhost:8080/"
    },
    "id": "_sKgJlmOEaYo",
    "outputId": "4b22b6f5-5b55-4a21-a0dd-bb12c7b58ce4"
   },
   "outputs": [
    {
     "data": {
      "text/plain": [
       "9999"
      ]
     },
     "execution_count": 94,
     "metadata": {},
     "output_type": "execute_result"
    }
   ],
   "source": [
    "np.max(X_train)"
   ]
  },
  {
   "cell_type": "code",
   "execution_count": null,
   "metadata": {
    "colab": {
     "base_uri": "https://localhost:8080/"
    },
    "id": "C6QQVTyYGDSu",
    "outputId": "4a257328-630f-4aee-bc4e-30152c869940"
   },
   "outputs": [
    {
     "data": {
      "text/plain": [
       "10000"
      ]
     },
     "execution_count": 95,
     "metadata": {},
     "output_type": "execute_result"
    }
   ],
   "source": [
    "max_features"
   ]
  },
  {
   "cell_type": "markdown",
   "metadata": {
    "id": "dK9nZwfEHkZ7"
   },
   "source": [
    "\"Мешок слов\" - Bag of Word (BoW) \n",
    "\n",
    "http://lab314.brsu.by/kmp-lite/kmp2/JOB/CModel/BoW-Q.htm\n",
    "\n",
    "\n",
    "\n"
   ]
  },
  {
   "cell_type": "code",
   "execution_count": null,
   "metadata": {
    "colab": {
     "base_uri": "https://localhost:8080/"
    },
    "id": "gEkWIp-j7YmM",
    "outputId": "730fc58c-83f7-4241-a3b4-40428832b889"
   },
   "outputs": [
    {
     "data": {
      "text/plain": [
       "array([  15,  256,    4,    2,    7, 3766,    5,  723,   36,   71,   43,\n",
       "        530,  476,   26,  400,  317,   46,    7,    4,    2, 1029,   13,\n",
       "        104,   88,    4,  381,   15,  297,   98,   32, 2071,   56,   26,\n",
       "        141,    6,  194, 7486,   18,    4,  226,   22,   21,  134,  476,\n",
       "         26,  480,    5,  144,   30, 5535,   18,   51,   36,   28,  224,\n",
       "         92,   25,  104,    4,  226,   65,   16,   38, 1334,   88,   12,\n",
       "         16,  283,    5,   16, 4472,  113,  103,   32,   15,   16, 5345,\n",
       "         19,  178,   32], dtype=int32)"
      ]
     },
     "execution_count": 96,
     "metadata": {},
     "output_type": "execute_result"
    }
   ],
   "source": [
    "X_train[0]"
   ]
  },
  {
   "cell_type": "code",
   "execution_count": null,
   "metadata": {
    "id": "MAEpc8VBDpa9"
   },
   "outputs": [],
   "source": [
    "def vectorize(sequences, dimension=10000):\n",
    "    results = np.zeros((len(sequences), dimension))\n",
    "    for i, sequence in enumerate(sequences):\n",
    "        results[i, sequence] = 1\n",
    "    return results\n",
    " \n",
    "X_train_bow = vectorize(X_train, dimension=max_features)\n",
    "X_test_bow = vectorize(X_test, dimension=max_features)"
   ]
  },
  {
   "cell_type": "code",
   "execution_count": null,
   "metadata": {
    "colab": {
     "base_uri": "https://localhost:8080/"
    },
    "id": "Rc3N_e9Bk3_7",
    "outputId": "c39020f7-07da-4526-f3a4-64cb7876583e"
   },
   "outputs": [
    {
     "data": {
      "text/plain": [
       "(25000, 10000)"
      ]
     },
     "execution_count": 98,
     "metadata": {},
     "output_type": "execute_result"
    }
   ],
   "source": [
    "X_train_bow.shape"
   ]
  },
  {
   "cell_type": "code",
   "execution_count": null,
   "metadata": {
    "colab": {
     "base_uri": "https://localhost:8080/"
    },
    "id": "3WvBYi2V7sFi",
    "outputId": "a296008b-f43c-4832-cd7b-b119608004aa"
   },
   "outputs": [
    {
     "data": {
      "text/plain": [
       "array([0., 0., 1., 0., 1., 1., 1., 1., 0., 0.])"
      ]
     },
     "execution_count": 99,
     "metadata": {},
     "output_type": "execute_result"
    }
   ],
   "source": [
    "X_train_bow[0, :10]"
   ]
  },
  {
   "cell_type": "code",
   "execution_count": null,
   "metadata": {
    "colab": {
     "base_uri": "https://localhost:8080/"
    },
    "id": "dGP_LHw5Ialo",
    "outputId": "0a87de7e-d520-426d-8ab5-c190ea13026c"
   },
   "outputs": [
    {
     "name": "stdout",
     "output_type": "stream",
     "text": [
      "Построение модели...\n",
      "Model: \"sequential_15\"\n",
      "_________________________________________________________________\n",
      " Layer (type)                Output Shape              Param #   \n",
      "=================================================================\n",
      " dense_5 (Dense)             (None, 128)               1280128   \n",
      "                                                                 \n",
      " dense_6 (Dense)             (None, 1)                 129       \n",
      "                                                                 \n",
      "=================================================================\n",
      "Total params: 1,280,257\n",
      "Trainable params: 1,280,257\n",
      "Non-trainable params: 0\n",
      "_________________________________________________________________\n"
     ]
    }
   ],
   "source": [
    "print('Построение модели...')\n",
    "model_bow = Sequential()\n",
    "\n",
    "model_bow.add(Dense(128, activation='relu', input_shape=(max_features, )))\n",
    "model_bow.add(Dense(1, activation='sigmoid'))\n",
    "\n",
    "# стоит попробовать использовать другие оптимизаторы и другие конфигурации\n",
    "model_bow.compile(loss='binary_crossentropy',\n",
    "                  optimizer='adam',\n",
    "                  metrics=['accuracy'])\n",
    "model_bow.summary()"
   ]
  },
  {
   "cell_type": "code",
   "execution_count": null,
   "metadata": {
    "colab": {
     "base_uri": "https://localhost:8080/"
    },
    "id": "fy0kwNGFIsU-",
    "outputId": "282b21cf-cedd-4387-b5db-667cd87a9153"
   },
   "outputs": [
    {
     "name": "stdout",
     "output_type": "stream",
     "text": [
      "Процесс обучения...\n",
      "Epoch 1/3\n",
      "500/500 [==============================] - 4s 8ms/step - loss: 0.4017 - accuracy: 0.8155 - val_loss: 0.3655 - val_accuracy: 0.8364\n",
      "Epoch 2/3\n",
      "500/500 [==============================] - 3s 5ms/step - loss: 0.2555 - accuracy: 0.8955 - val_loss: 0.3973 - val_accuracy: 0.8251\n",
      "Epoch 3/3\n",
      "500/500 [==============================] - 3s 6ms/step - loss: 0.1722 - accuracy: 0.9326 - val_loss: 0.4777 - val_accuracy: 0.8201\n"
     ]
    },
    {
     "data": {
      "text/plain": [
       "<keras.callbacks.History at 0x7f98fe8c0690>"
      ]
     },
     "execution_count": 101,
     "metadata": {},
     "output_type": "execute_result"
    }
   ],
   "source": [
    "print('Процесс обучения...')\n",
    "model_bow.fit(X_train_bow[:], y_train[:],\n",
    "              batch_size=batch_size,\n",
    "              epochs=3,\n",
    "              validation_data=(X_test_bow, y_test))"
   ]
  },
  {
   "cell_type": "code",
   "execution_count": null,
   "metadata": {
    "colab": {
     "base_uri": "https://localhost:8080/"
    },
    "id": "F2mSR1hKE8kP",
    "outputId": "c880eeaa-585c-48b9-e188-5b43802d3cbf"
   },
   "outputs": [
    {
     "name": "stdout",
     "output_type": "stream",
     "text": [
      "Валидация модели\n",
      "500/500 [==============================] - 1s 3ms/step - loss: 0.4777 - accuracy: 0.8201\n"
     ]
    }
   ],
   "source": [
    "print('Валидация модели')\n",
    "score, acc = model_bow.evaluate(X_test_bow, y_test, batch_size=batch_size)"
   ]
  },
  {
   "cell_type": "markdown",
   "metadata": {
    "id": "oTfbQ6OBRp1l"
   },
   "source": [
    "Обучение на последовательности"
   ]
  },
  {
   "cell_type": "code",
   "execution_count": null,
   "metadata": {
    "id": "GstuABaVM0tv"
   },
   "outputs": [],
   "source": [
    "def vectorize_seq(sequences, xLen=100):\n",
    "    results = np.zeros((len(sequences), xLen, 1))\n",
    "    for i, sequence in enumerate(sequences):\n",
    "        for j in range(xLen):\n",
    "            results[i, j,:] = sequence[j]\n",
    "    return results\n",
    " \n",
    "X_train_seq = vectorize_seq(X_train, xLen=maxlen)\n",
    "X_test_seq = vectorize_seq(X_test, xLen=maxlen)"
   ]
  },
  {
   "cell_type": "code",
   "execution_count": null,
   "metadata": {
    "colab": {
     "base_uri": "https://localhost:8080/"
    },
    "id": "SsmzCJY8Odhx",
    "outputId": "e672b7d2-5e8c-45a3-a3ea-c65f8c67d3f2"
   },
   "outputs": [
    {
     "data": {
      "text/plain": [
       "((25000, 80), (25000, 80, 1))"
      ]
     },
     "execution_count": 104,
     "metadata": {},
     "output_type": "execute_result"
    }
   ],
   "source": [
    "X_test.shape, X_test_seq.shape"
   ]
  },
  {
   "cell_type": "code",
   "execution_count": null,
   "metadata": {
    "colab": {
     "base_uri": "https://localhost:8080/",
     "height": 225
    },
    "id": "C294q3_rGSQa",
    "outputId": "8fd2e906-c2bd-47ce-e629-0bcc5877a626"
   },
   "outputs": [
    {
     "data": {
      "text/plain": [
       "array([  15,  256,    4,    2,    7, 3766,    5,  723,   36,   71],\n",
       "      dtype=int32)"
      ]
     },
     "metadata": {},
     "output_type": "display_data"
    },
    {
     "data": {
      "text/plain": [
       "array([[1.500e+01],\n",
       "       [2.560e+02],\n",
       "       [4.000e+00],\n",
       "       [2.000e+00],\n",
       "       [7.000e+00],\n",
       "       [3.766e+03],\n",
       "       [5.000e+00],\n",
       "       [7.230e+02],\n",
       "       [3.600e+01],\n",
       "       [7.100e+01]])"
      ]
     },
     "metadata": {},
     "output_type": "display_data"
    }
   ],
   "source": [
    "display(X_train[0, :10], X_train_seq[0, :10])"
   ]
  },
  {
   "cell_type": "code",
   "execution_count": null,
   "metadata": {
    "colab": {
     "base_uri": "https://localhost:8080/"
    },
    "id": "-5WgurStDH7r",
    "outputId": "f393c99a-20b0-4f06-a69e-071861ccd3da"
   },
   "outputs": [
    {
     "name": "stdout",
     "output_type": "stream",
     "text": [
      "Построение модели...\n",
      "Model: \"sequential_21\"\n",
      "_________________________________________________________________\n",
      " Layer (type)                Output Shape              Param #   \n",
      "=================================================================\n",
      " lstm_9 (LSTM)               (None, 128)               66560     \n",
      "                                                                 \n",
      " dense_16 (Dense)            (None, 1)                 129       \n",
      "                                                                 \n",
      "=================================================================\n",
      "Total params: 66,689\n",
      "Trainable params: 66,689\n",
      "Non-trainable params: 0\n",
      "_________________________________________________________________\n"
     ]
    }
   ],
   "source": [
    "print('Построение модели...')\n",
    "model = Sequential()\n",
    "model.add(LSTM(128, input_shape=(maxlen, 1)))\n",
    "model.add(Dense(1, activation='sigmoid'))\n",
    "\n",
    "# стоит попробовать использовать другие оптимизаторы и другие конфигурации\n",
    "model.compile(loss='binary_crossentropy',\n",
    "              optimizer='adam',\n",
    "              metrics=['accuracy'])\n",
    "model.summary()"
   ]
  },
  {
   "cell_type": "code",
   "execution_count": null,
   "metadata": {
    "colab": {
     "base_uri": "https://localhost:8080/"
    },
    "id": "RB_jXARMPB09",
    "outputId": "c31c06a5-060f-4045-e7e3-e1c1bda2638c"
   },
   "outputs": [
    {
     "name": "stdout",
     "output_type": "stream",
     "text": [
      "Процесс обучения...\n",
      "Epoch 1/5\n",
      "25/25 [==============================] - 3s 72ms/step - loss: 0.6963 - accuracy: 0.5129 - val_loss: 0.6919 - val_accuracy: 0.5246\n",
      "Epoch 2/5\n",
      "25/25 [==============================] - 1s 34ms/step - loss: 0.6900 - accuracy: 0.5333 - val_loss: 0.6892 - val_accuracy: 0.5359\n",
      "Epoch 3/5\n",
      "25/25 [==============================] - 1s 34ms/step - loss: 0.6862 - accuracy: 0.5463 - val_loss: 0.6844 - val_accuracy: 0.5532\n",
      "Epoch 4/5\n",
      "25/25 [==============================] - 1s 29ms/step - loss: 0.6844 - accuracy: 0.5560 - val_loss: 0.6842 - val_accuracy: 0.5538\n",
      "Epoch 5/5\n",
      "25/25 [==============================] - 1s 34ms/step - loss: 0.6831 - accuracy: 0.5589 - val_loss: 0.6830 - val_accuracy: 0.5570\n"
     ]
    },
    {
     "data": {
      "text/plain": [
       "<keras.callbacks.History at 0x7f9900a72b10>"
      ]
     },
     "execution_count": 119,
     "metadata": {},
     "output_type": "execute_result"
    }
   ],
   "source": [
    "print('Процесс обучения...')\n",
    "model.fit(X_train_seq, y_train,\n",
    "          batch_size=1000,\n",
    "          epochs=5,\n",
    "          validation_data=(X_test_seq, y_test))"
   ]
  },
  {
   "cell_type": "code",
   "execution_count": null,
   "metadata": {
    "colab": {
     "base_uri": "https://localhost:8080/"
    },
    "id": "ZWi9KWCIR_pp",
    "outputId": "118434f8-1653-4276-eff9-17c56e385696"
   },
   "outputs": [
    {
     "name": "stdout",
     "output_type": "stream",
     "text": [
      "Валидация модели\n",
      "500/500 [==============================] - 3s 5ms/step - loss: 0.6830 - accuracy: 0.5570\n"
     ]
    }
   ],
   "source": [
    "print('Валидация модели')\n",
    "score, acc = model.evaluate(X_test_seq, y_test, batch_size=batch_size)"
   ]
  },
  {
   "cell_type": "markdown",
   "metadata": {
    "id": "ywmxlc13SNsa"
   },
   "source": [
    "Сеть обучилась не очень хорошо, можно сделать её посложнее или просто пообучать подольше, но на самом деле так не делают, передавать индексы слов не самая лучшая затея. Это решается по-другому, с помощью **эмбеддингов**.\n",
    "\n",
    "**Эмбэддинг - векторное представление слов.**\n",
    "\n",
    "<!-- <img src='https://drive.google.com/uc?export=view&id=13DNqtvToTyJritI3oRbyanrnTo1I-H60'> -->\n",
    "<img src='images/embedding.png'>"
   ]
  },
  {
   "cell_type": "code",
   "execution_count": null,
   "metadata": {
    "id": "v9XNCUefmPAK"
   },
   "outputs": [],
   "source": [
    "model = Sequential()\n",
    "model.add(Embedding(max_features, 128))"
   ]
  },
  {
   "cell_type": "code",
   "execution_count": null,
   "metadata": {
    "colab": {
     "base_uri": "https://localhost:8080/"
    },
    "id": "_-clQfu2mP9e",
    "outputId": "ed75a6e2-d8b0-4af3-8d60-2918d11cbe0f"
   },
   "outputs": [
    {
     "name": "stdout",
     "output_type": "stream",
     "text": [
      "1/1 [==============================] - 0s 112ms/step\n"
     ]
    },
    {
     "data": {
      "text/plain": [
       "array([[[-0.0459896 , -0.02829106,  0.00875155, ...,  0.01925715,\n",
       "         -0.0198624 , -0.04819277],\n",
       "        [ 0.01905606, -0.03895915, -0.00296197, ...,  0.03643168,\n",
       "         -0.04094205, -0.03865347],\n",
       "        [ 0.01836314,  0.01272709,  0.0295775 , ..., -0.00967499,\n",
       "         -0.00779078,  0.0493308 ],\n",
       "        ...,\n",
       "        [ 0.04818854,  0.00422738, -0.0090765 , ...,  0.03554029,\n",
       "         -0.02746317, -0.03679756],\n",
       "        [ 0.04751227,  0.03957209, -0.00309707, ...,  0.00604331,\n",
       "          0.03852249,  0.03015116],\n",
       "        [ 0.02436737,  0.04087094,  0.01339928, ...,  0.03511328,\n",
       "          0.01468431, -0.04836633]]], dtype=float32)"
      ]
     },
     "execution_count": 122,
     "metadata": {},
     "output_type": "execute_result"
    }
   ],
   "source": [
    "model.predict(X_train[:1])"
   ]
  },
  {
   "cell_type": "code",
   "execution_count": null,
   "metadata": {
    "colab": {
     "base_uri": "https://localhost:8080/"
    },
    "id": "zEkujpzjmVo2",
    "outputId": "7ca2a194-3dcc-44d1-93bb-d33eafcaed42"
   },
   "outputs": [
    {
     "name": "stdout",
     "output_type": "stream",
     "text": [
      "1/1 [==============================] - 0s 26ms/step\n"
     ]
    },
    {
     "data": {
      "text/plain": [
       "(1, 80, 128)"
      ]
     },
     "execution_count": 123,
     "metadata": {},
     "output_type": "execute_result"
    }
   ],
   "source": [
    "model.predict(X_train[:1]).shape"
   ]
  },
  {
   "cell_type": "code",
   "execution_count": null,
   "metadata": {
    "colab": {
     "base_uri": "https://localhost:8080/"
    },
    "id": "R22U-vONRiX9",
    "outputId": "e751227f-d2d1-4e65-acb3-0fbe0827bdca"
   },
   "outputs": [
    {
     "name": "stdout",
     "output_type": "stream",
     "text": [
      "Построение модели...\n",
      "Model: \"sequential_30\"\n",
      "_________________________________________________________________\n",
      " Layer (type)                Output Shape              Param #   \n",
      "=================================================================\n",
      " embedding_8 (Embedding)     (None, None, 128)         1280000   \n",
      "                                                                 \n",
      " dropout_5 (Dropout)         (None, None, 128)         0         \n",
      "                                                                 \n",
      " lstm_16 (LSTM)              (None, 128)               131584    \n",
      "                                                                 \n",
      " dense_23 (Dense)            (None, 1)                 129       \n",
      "                                                                 \n",
      "=================================================================\n",
      "Total params: 1,411,713\n",
      "Trainable params: 1,411,713\n",
      "Non-trainable params: 0\n",
      "_________________________________________________________________\n"
     ]
    }
   ],
   "source": [
    "print('Построение модели...')\n",
    "model = Sequential()\n",
    "model.add(Embedding(max_features, 128))\n",
    "model.add(Dropout(0.3))\n",
    "model.add(LSTM(128, dropout=0.2))\n",
    "model.add(Dense(1, activation='sigmoid'))\n",
    "\n",
    "model.compile(loss='binary_crossentropy',\n",
    "              optimizer='adam',\n",
    "              metrics=['accuracy'])\n",
    "model.summary()"
   ]
  },
  {
   "cell_type": "code",
   "execution_count": null,
   "metadata": {
    "colab": {
     "base_uri": "https://localhost:8080/"
    },
    "id": "g6GFt6iHDK71",
    "outputId": "85efad1b-7690-44db-ec50-e74483738942"
   },
   "outputs": [
    {
     "name": "stdout",
     "output_type": "stream",
     "text": [
      "Процесс обучения...\n",
      "Epoch 1/3\n",
      "196/196 [==============================] - 5s 16ms/step - loss: 0.4560 - accuracy: 0.7756 - val_loss: 0.3722 - val_accuracy: 0.8415\n",
      "Epoch 2/3\n",
      "196/196 [==============================] - 3s 14ms/step - loss: 0.2928 - accuracy: 0.8801 - val_loss: 0.3632 - val_accuracy: 0.8385\n",
      "Epoch 3/3\n",
      "196/196 [==============================] - 3s 13ms/step - loss: 0.2385 - accuracy: 0.9029 - val_loss: 0.4015 - val_accuracy: 0.8350\n"
     ]
    },
    {
     "data": {
      "text/plain": [
       "<keras.callbacks.History at 0x7f98ff9c0450>"
      ]
     },
     "execution_count": 145,
     "metadata": {},
     "output_type": "execute_result"
    }
   ],
   "source": [
    "print('Процесс обучения...')\n",
    "model.fit(X_train, y_train,\n",
    "          batch_size=128,\n",
    "          epochs=3,\n",
    "          validation_data=(X_test, y_test))"
   ]
  },
  {
   "cell_type": "code",
   "execution_count": null,
   "metadata": {
    "colab": {
     "base_uri": "https://localhost:8080/"
    },
    "id": "hdKjQavlS_gO",
    "outputId": "ce4106d2-68a2-4884-894a-5b36e3afd2b9"
   },
   "outputs": [
    {
     "name": "stdout",
     "output_type": "stream",
     "text": [
      "Валидация модели\n",
      "500/500 [==============================] - 2s 5ms/step - loss: 0.4015 - accuracy: 0.8350\n"
     ]
    }
   ],
   "source": [
    "print('Валидация модели')\n",
    "score, acc = model.evaluate(X_test, y_test, batch_size=batch_size)"
   ]
  },
  {
   "cell_type": "markdown",
   "metadata": {
    "id": "EAwCogDbAs7S"
   },
   "source": [
    "### Временной ряд"
   ]
  },
  {
   "cell_type": "markdown",
   "metadata": {
    "id": "q0_pkjh10ZDv"
   },
   "source": [
    "Давайте посмотрим пример, в котором будут использоваться временные ряды. Читаем данные из файла со значениями цены нефти марки BRENT"
   ]
  },
  {
   "cell_type": "code",
   "execution_count": null,
   "metadata": {
    "id": "1a14WfZxn4tN"
   },
   "outputs": [],
   "source": [
    "from sklearn.preprocessing import StandardScaler\n",
    "import matplotlib.pyplot as plt\n",
    "from keras.layers import Flatten"
   ]
  },
  {
   "cell_type": "code",
   "execution_count": null,
   "metadata": {
    "colab": {
     "base_uri": "https://localhost:8080/",
     "height": 206
    },
    "id": "Tq912y310niv",
    "outputId": "c877c11d-217b-45b3-b9fa-b859f2c5ca59"
   },
   "outputs": [
    {
     "data": {
      "text/html": [
       "\n",
       "  <div id=\"df-27ecaf2d-b050-4e96-aeaa-15744c31cc60\">\n",
       "    <div class=\"colab-df-container\">\n",
       "      <div>\n",
       "<style scoped>\n",
       "    .dataframe tbody tr th:only-of-type {\n",
       "        vertical-align: middle;\n",
       "    }\n",
       "\n",
       "    .dataframe tbody tr th {\n",
       "        vertical-align: top;\n",
       "    }\n",
       "\n",
       "    .dataframe thead th {\n",
       "        text-align: right;\n",
       "    }\n",
       "</style>\n",
       "<table border=\"1\" class=\"dataframe\">\n",
       "  <thead>\n",
       "    <tr style=\"text-align: right;\">\n",
       "      <th></th>\n",
       "      <th>Дата</th>\n",
       "      <th>Значение</th>\n",
       "      <th>year</th>\n",
       "      <th>month</th>\n",
       "      <th>dayofmonth</th>\n",
       "      <th>quarter</th>\n",
       "      <th>dayofyear</th>\n",
       "      <th>weekofyear</th>\n",
       "      <th>dayofweek</th>\n",
       "      <th>is_holiday</th>\n",
       "      <th>is_prev_holiday</th>\n",
       "      <th>is_next_holiday</th>\n",
       "    </tr>\n",
       "  </thead>\n",
       "  <tbody>\n",
       "    <tr>\n",
       "      <th>0</th>\n",
       "      <td>2010-09-01</td>\n",
       "      <td>76.37</td>\n",
       "      <td>2010</td>\n",
       "      <td>9</td>\n",
       "      <td>1</td>\n",
       "      <td>3</td>\n",
       "      <td>244</td>\n",
       "      <td>35</td>\n",
       "      <td>2</td>\n",
       "      <td>0</td>\n",
       "      <td>0</td>\n",
       "      <td>0</td>\n",
       "    </tr>\n",
       "    <tr>\n",
       "      <th>1</th>\n",
       "      <td>2010-09-02</td>\n",
       "      <td>76.89</td>\n",
       "      <td>2010</td>\n",
       "      <td>9</td>\n",
       "      <td>2</td>\n",
       "      <td>3</td>\n",
       "      <td>245</td>\n",
       "      <td>35</td>\n",
       "      <td>3</td>\n",
       "      <td>0</td>\n",
       "      <td>0</td>\n",
       "      <td>0</td>\n",
       "    </tr>\n",
       "    <tr>\n",
       "      <th>2</th>\n",
       "      <td>2010-09-03</td>\n",
       "      <td>76.57</td>\n",
       "      <td>2010</td>\n",
       "      <td>9</td>\n",
       "      <td>3</td>\n",
       "      <td>3</td>\n",
       "      <td>246</td>\n",
       "      <td>35</td>\n",
       "      <td>4</td>\n",
       "      <td>0</td>\n",
       "      <td>0</td>\n",
       "      <td>0</td>\n",
       "    </tr>\n",
       "    <tr>\n",
       "      <th>3</th>\n",
       "      <td>2010-09-04</td>\n",
       "      <td>76.62</td>\n",
       "      <td>2010</td>\n",
       "      <td>9</td>\n",
       "      <td>4</td>\n",
       "      <td>3</td>\n",
       "      <td>247</td>\n",
       "      <td>35</td>\n",
       "      <td>5</td>\n",
       "      <td>0</td>\n",
       "      <td>0</td>\n",
       "      <td>0</td>\n",
       "    </tr>\n",
       "    <tr>\n",
       "      <th>4</th>\n",
       "      <td>2010-09-05</td>\n",
       "      <td>76.63</td>\n",
       "      <td>2010</td>\n",
       "      <td>9</td>\n",
       "      <td>5</td>\n",
       "      <td>3</td>\n",
       "      <td>248</td>\n",
       "      <td>35</td>\n",
       "      <td>6</td>\n",
       "      <td>0</td>\n",
       "      <td>1</td>\n",
       "      <td>0</td>\n",
       "    </tr>\n",
       "  </tbody>\n",
       "</table>\n",
       "</div>\n",
       "      <button class=\"colab-df-convert\" onclick=\"convertToInteractive('df-27ecaf2d-b050-4e96-aeaa-15744c31cc60')\"\n",
       "              title=\"Convert this dataframe to an interactive table.\"\n",
       "              style=\"display:none;\">\n",
       "        \n",
       "  <svg xmlns=\"http://www.w3.org/2000/svg\" height=\"24px\"viewBox=\"0 0 24 24\"\n",
       "       width=\"24px\">\n",
       "    <path d=\"M0 0h24v24H0V0z\" fill=\"none\"/>\n",
       "    <path d=\"M18.56 5.44l.94 2.06.94-2.06 2.06-.94-2.06-.94-.94-2.06-.94 2.06-2.06.94zm-11 1L8.5 8.5l.94-2.06 2.06-.94-2.06-.94L8.5 2.5l-.94 2.06-2.06.94zm10 10l.94 2.06.94-2.06 2.06-.94-2.06-.94-.94-2.06-.94 2.06-2.06.94z\"/><path d=\"M17.41 7.96l-1.37-1.37c-.4-.4-.92-.59-1.43-.59-.52 0-1.04.2-1.43.59L10.3 9.45l-7.72 7.72c-.78.78-.78 2.05 0 2.83L4 21.41c.39.39.9.59 1.41.59.51 0 1.02-.2 1.41-.59l7.78-7.78 2.81-2.81c.8-.78.8-2.07 0-2.86zM5.41 20L4 18.59l7.72-7.72 1.47 1.35L5.41 20z\"/>\n",
       "  </svg>\n",
       "      </button>\n",
       "      \n",
       "  <style>\n",
       "    .colab-df-container {\n",
       "      display:flex;\n",
       "      flex-wrap:wrap;\n",
       "      gap: 12px;\n",
       "    }\n",
       "\n",
       "    .colab-df-convert {\n",
       "      background-color: #E8F0FE;\n",
       "      border: none;\n",
       "      border-radius: 50%;\n",
       "      cursor: pointer;\n",
       "      display: none;\n",
       "      fill: #1967D2;\n",
       "      height: 32px;\n",
       "      padding: 0 0 0 0;\n",
       "      width: 32px;\n",
       "    }\n",
       "\n",
       "    .colab-df-convert:hover {\n",
       "      background-color: #E2EBFA;\n",
       "      box-shadow: 0px 1px 2px rgba(60, 64, 67, 0.3), 0px 1px 3px 1px rgba(60, 64, 67, 0.15);\n",
       "      fill: #174EA6;\n",
       "    }\n",
       "\n",
       "    [theme=dark] .colab-df-convert {\n",
       "      background-color: #3B4455;\n",
       "      fill: #D2E3FC;\n",
       "    }\n",
       "\n",
       "    [theme=dark] .colab-df-convert:hover {\n",
       "      background-color: #434B5C;\n",
       "      box-shadow: 0px 1px 3px 1px rgba(0, 0, 0, 0.15);\n",
       "      filter: drop-shadow(0px 1px 2px rgba(0, 0, 0, 0.3));\n",
       "      fill: #FFFFFF;\n",
       "    }\n",
       "  </style>\n",
       "\n",
       "      <script>\n",
       "        const buttonEl =\n",
       "          document.querySelector('#df-27ecaf2d-b050-4e96-aeaa-15744c31cc60 button.colab-df-convert');\n",
       "        buttonEl.style.display =\n",
       "          google.colab.kernel.accessAllowed ? 'block' : 'none';\n",
       "\n",
       "        async function convertToInteractive(key) {\n",
       "          const element = document.querySelector('#df-27ecaf2d-b050-4e96-aeaa-15744c31cc60');\n",
       "          const dataTable =\n",
       "            await google.colab.kernel.invokeFunction('convertToInteractive',\n",
       "                                                     [key], {});\n",
       "          if (!dataTable) return;\n",
       "\n",
       "          const docLinkHtml = 'Like what you see? Visit the ' +\n",
       "            '<a target=\"_blank\" href=https://colab.research.google.com/notebooks/data_table.ipynb>data table notebook</a>'\n",
       "            + ' to learn more about interactive tables.';\n",
       "          element.innerHTML = '';\n",
       "          dataTable['output_type'] = 'display_data';\n",
       "          await google.colab.output.renderOutput(dataTable, element);\n",
       "          const docLink = document.createElement('div');\n",
       "          docLink.innerHTML = docLinkHtml;\n",
       "          element.appendChild(docLink);\n",
       "        }\n",
       "      </script>\n",
       "    </div>\n",
       "  </div>\n",
       "  "
      ],
      "text/plain": [
       "         Дата  Значение  year  month  dayofmonth  quarter  dayofyear  \\\n",
       "0  2010-09-01     76.37  2010      9           1        3        244   \n",
       "1  2010-09-02     76.89  2010      9           2        3        245   \n",
       "2  2010-09-03     76.57  2010      9           3        3        246   \n",
       "3  2010-09-04     76.62  2010      9           4        3        247   \n",
       "4  2010-09-05     76.63  2010      9           5        3        248   \n",
       "\n",
       "   weekofyear  dayofweek  is_holiday  is_prev_holiday  is_next_holiday  \n",
       "0          35          2           0                0                0  \n",
       "1          35          3           0                0                0  \n",
       "2          35          4           0                0                0  \n",
       "3          35          5           0                0                0  \n",
       "4          35          6           0                1                0  "
      ]
     },
     "execution_count": 42,
     "metadata": {},
     "output_type": "execute_result"
    }
   ],
   "source": [
    "df = pd.read_csv('data/BRENT2019.csv')\n",
    "df.head()"
   ]
  },
  {
   "cell_type": "code",
   "execution_count": null,
   "metadata": {
    "colab": {
     "base_uri": "https://localhost:8080/"
    },
    "id": "YzldyB8Z1WdG",
    "outputId": "5c31427d-61d4-40e4-f2e7-734a94b70023"
   },
   "outputs": [
    {
     "data": {
      "text/plain": [
       "(2667, 12)"
      ]
     },
     "execution_count": 43,
     "metadata": {},
     "output_type": "execute_result"
    }
   ],
   "source": [
    "df.shape"
   ]
  },
  {
   "cell_type": "markdown",
   "metadata": {
    "id": "WPf7IJSK0wak"
   },
   "source": [
    "Отбросим первый столбец, т.к. признаки [year,\tmonth,\tdayofmonth,\tquarter,\tdayofyear,\tweekofyear,\tdayofweek,\tis_holiday,\tis_prev_holiday,\tis_next_holiday] его представляют."
   ]
  },
  {
   "cell_type": "code",
   "execution_count": null,
   "metadata": {
    "colab": {
     "base_uri": "https://localhost:8080/",
     "height": 206
    },
    "id": "1xz-ULQA0nej",
    "outputId": "e7a26141-fd0b-4566-bdbc-95e726c926e3"
   },
   "outputs": [
    {
     "data": {
      "text/html": [
       "\n",
       "  <div id=\"df-75ad4862-56e4-4197-a307-f014b2d5b669\">\n",
       "    <div class=\"colab-df-container\">\n",
       "      <div>\n",
       "<style scoped>\n",
       "    .dataframe tbody tr th:only-of-type {\n",
       "        vertical-align: middle;\n",
       "    }\n",
       "\n",
       "    .dataframe tbody tr th {\n",
       "        vertical-align: top;\n",
       "    }\n",
       "\n",
       "    .dataframe thead th {\n",
       "        text-align: right;\n",
       "    }\n",
       "</style>\n",
       "<table border=\"1\" class=\"dataframe\">\n",
       "  <thead>\n",
       "    <tr style=\"text-align: right;\">\n",
       "      <th></th>\n",
       "      <th>Значение</th>\n",
       "      <th>year</th>\n",
       "      <th>month</th>\n",
       "      <th>dayofmonth</th>\n",
       "      <th>quarter</th>\n",
       "      <th>dayofyear</th>\n",
       "      <th>weekofyear</th>\n",
       "      <th>dayofweek</th>\n",
       "      <th>is_holiday</th>\n",
       "      <th>is_prev_holiday</th>\n",
       "      <th>is_next_holiday</th>\n",
       "    </tr>\n",
       "  </thead>\n",
       "  <tbody>\n",
       "    <tr>\n",
       "      <th>0</th>\n",
       "      <td>76.37</td>\n",
       "      <td>2010</td>\n",
       "      <td>9</td>\n",
       "      <td>1</td>\n",
       "      <td>3</td>\n",
       "      <td>244</td>\n",
       "      <td>35</td>\n",
       "      <td>2</td>\n",
       "      <td>0</td>\n",
       "      <td>0</td>\n",
       "      <td>0</td>\n",
       "    </tr>\n",
       "    <tr>\n",
       "      <th>1</th>\n",
       "      <td>76.89</td>\n",
       "      <td>2010</td>\n",
       "      <td>9</td>\n",
       "      <td>2</td>\n",
       "      <td>3</td>\n",
       "      <td>245</td>\n",
       "      <td>35</td>\n",
       "      <td>3</td>\n",
       "      <td>0</td>\n",
       "      <td>0</td>\n",
       "      <td>0</td>\n",
       "    </tr>\n",
       "    <tr>\n",
       "      <th>2</th>\n",
       "      <td>76.57</td>\n",
       "      <td>2010</td>\n",
       "      <td>9</td>\n",
       "      <td>3</td>\n",
       "      <td>3</td>\n",
       "      <td>246</td>\n",
       "      <td>35</td>\n",
       "      <td>4</td>\n",
       "      <td>0</td>\n",
       "      <td>0</td>\n",
       "      <td>0</td>\n",
       "    </tr>\n",
       "    <tr>\n",
       "      <th>3</th>\n",
       "      <td>76.62</td>\n",
       "      <td>2010</td>\n",
       "      <td>9</td>\n",
       "      <td>4</td>\n",
       "      <td>3</td>\n",
       "      <td>247</td>\n",
       "      <td>35</td>\n",
       "      <td>5</td>\n",
       "      <td>0</td>\n",
       "      <td>0</td>\n",
       "      <td>0</td>\n",
       "    </tr>\n",
       "    <tr>\n",
       "      <th>4</th>\n",
       "      <td>76.63</td>\n",
       "      <td>2010</td>\n",
       "      <td>9</td>\n",
       "      <td>5</td>\n",
       "      <td>3</td>\n",
       "      <td>248</td>\n",
       "      <td>35</td>\n",
       "      <td>6</td>\n",
       "      <td>0</td>\n",
       "      <td>1</td>\n",
       "      <td>0</td>\n",
       "    </tr>\n",
       "  </tbody>\n",
       "</table>\n",
       "</div>\n",
       "      <button class=\"colab-df-convert\" onclick=\"convertToInteractive('df-75ad4862-56e4-4197-a307-f014b2d5b669')\"\n",
       "              title=\"Convert this dataframe to an interactive table.\"\n",
       "              style=\"display:none;\">\n",
       "        \n",
       "  <svg xmlns=\"http://www.w3.org/2000/svg\" height=\"24px\"viewBox=\"0 0 24 24\"\n",
       "       width=\"24px\">\n",
       "    <path d=\"M0 0h24v24H0V0z\" fill=\"none\"/>\n",
       "    <path d=\"M18.56 5.44l.94 2.06.94-2.06 2.06-.94-2.06-.94-.94-2.06-.94 2.06-2.06.94zm-11 1L8.5 8.5l.94-2.06 2.06-.94-2.06-.94L8.5 2.5l-.94 2.06-2.06.94zm10 10l.94 2.06.94-2.06 2.06-.94-2.06-.94-.94-2.06-.94 2.06-2.06.94z\"/><path d=\"M17.41 7.96l-1.37-1.37c-.4-.4-.92-.59-1.43-.59-.52 0-1.04.2-1.43.59L10.3 9.45l-7.72 7.72c-.78.78-.78 2.05 0 2.83L4 21.41c.39.39.9.59 1.41.59.51 0 1.02-.2 1.41-.59l7.78-7.78 2.81-2.81c.8-.78.8-2.07 0-2.86zM5.41 20L4 18.59l7.72-7.72 1.47 1.35L5.41 20z\"/>\n",
       "  </svg>\n",
       "      </button>\n",
       "      \n",
       "  <style>\n",
       "    .colab-df-container {\n",
       "      display:flex;\n",
       "      flex-wrap:wrap;\n",
       "      gap: 12px;\n",
       "    }\n",
       "\n",
       "    .colab-df-convert {\n",
       "      background-color: #E8F0FE;\n",
       "      border: none;\n",
       "      border-radius: 50%;\n",
       "      cursor: pointer;\n",
       "      display: none;\n",
       "      fill: #1967D2;\n",
       "      height: 32px;\n",
       "      padding: 0 0 0 0;\n",
       "      width: 32px;\n",
       "    }\n",
       "\n",
       "    .colab-df-convert:hover {\n",
       "      background-color: #E2EBFA;\n",
       "      box-shadow: 0px 1px 2px rgba(60, 64, 67, 0.3), 0px 1px 3px 1px rgba(60, 64, 67, 0.15);\n",
       "      fill: #174EA6;\n",
       "    }\n",
       "\n",
       "    [theme=dark] .colab-df-convert {\n",
       "      background-color: #3B4455;\n",
       "      fill: #D2E3FC;\n",
       "    }\n",
       "\n",
       "    [theme=dark] .colab-df-convert:hover {\n",
       "      background-color: #434B5C;\n",
       "      box-shadow: 0px 1px 3px 1px rgba(0, 0, 0, 0.15);\n",
       "      filter: drop-shadow(0px 1px 2px rgba(0, 0, 0, 0.3));\n",
       "      fill: #FFFFFF;\n",
       "    }\n",
       "  </style>\n",
       "\n",
       "      <script>\n",
       "        const buttonEl =\n",
       "          document.querySelector('#df-75ad4862-56e4-4197-a307-f014b2d5b669 button.colab-df-convert');\n",
       "        buttonEl.style.display =\n",
       "          google.colab.kernel.accessAllowed ? 'block' : 'none';\n",
       "\n",
       "        async function convertToInteractive(key) {\n",
       "          const element = document.querySelector('#df-75ad4862-56e4-4197-a307-f014b2d5b669');\n",
       "          const dataTable =\n",
       "            await google.colab.kernel.invokeFunction('convertToInteractive',\n",
       "                                                     [key], {});\n",
       "          if (!dataTable) return;\n",
       "\n",
       "          const docLinkHtml = 'Like what you see? Visit the ' +\n",
       "            '<a target=\"_blank\" href=https://colab.research.google.com/notebooks/data_table.ipynb>data table notebook</a>'\n",
       "            + ' to learn more about interactive tables.';\n",
       "          element.innerHTML = '';\n",
       "          dataTable['output_type'] = 'display_data';\n",
       "          await google.colab.output.renderOutput(dataTable, element);\n",
       "          const docLink = document.createElement('div');\n",
       "          docLink.innerHTML = docLinkHtml;\n",
       "          element.appendChild(docLink);\n",
       "        }\n",
       "      </script>\n",
       "    </div>\n",
       "  </div>\n",
       "  "
      ],
      "text/plain": [
       "   Значение  year  month  dayofmonth  quarter  dayofyear  weekofyear  \\\n",
       "0     76.37  2010      9           1        3        244          35   \n",
       "1     76.89  2010      9           2        3        245          35   \n",
       "2     76.57  2010      9           3        3        246          35   \n",
       "3     76.62  2010      9           4        3        247          35   \n",
       "4     76.63  2010      9           5        3        248          35   \n",
       "\n",
       "   dayofweek  is_holiday  is_prev_holiday  is_next_holiday  \n",
       "0          2           0                0                0  \n",
       "1          3           0                0                0  \n",
       "2          4           0                0                0  \n",
       "3          5           0                0                0  \n",
       "4          6           0                1                0  "
      ]
     },
     "execution_count": 44,
     "metadata": {},
     "output_type": "execute_result"
    }
   ],
   "source": [
    "data = df.iloc[:, 1:]\n",
    "data.head()"
   ]
  },
  {
   "cell_type": "markdown",
   "metadata": {
    "id": "Swf4ctRx1QHa"
   },
   "source": [
    "Разбиваем выборку на обучение и на тест."
   ]
  },
  {
   "cell_type": "code",
   "execution_count": null,
   "metadata": {
    "colab": {
     "base_uri": "https://localhost:8080/"
    },
    "id": "6FphmtOu1TS3",
    "outputId": "dbd35fe6-ecfa-4c51-a2d6-634d68afe8b5"
   },
   "outputs": [
    {
     "data": {
      "text/plain": [
       "((2000, 11), (657, 11))"
      ]
     },
     "execution_count": 45,
     "metadata": {},
     "output_type": "execute_result"
    }
   ],
   "source": [
    "train_size = 2000\n",
    "\n",
    "\n",
    "# список признаков, по которым будем учить\n",
    "features = ['Значение', 'year', 'month', \n",
    "            'dayofmonth',\n",
    "            'quarter', 'dayofyear', 'weekofyear', 'dayofweek',\n",
    "            'is_holiday', 'is_prev_holiday', 'is_next_holiday'\n",
    "            ]\n",
    "\n",
    "\n",
    "# отступ теста от тренировки\n",
    "bias = 10\n",
    "\n",
    "\n",
    "# делим\n",
    "train_data = data.iloc[:train_size][features]\n",
    "val_data = data.iloc[train_size + bias:][features]\n",
    "\n",
    "train_data.shape, val_data.shape"
   ]
  },
  {
   "cell_type": "markdown",
   "metadata": {
    "id": "pwOCwCuu1O7R"
   },
   "source": [
    "Создаем данные для обучения"
   ]
  },
  {
   "cell_type": "code",
   "execution_count": null,
   "metadata": {
    "id": "bV29ZVEI3bNs"
   },
   "outputs": [],
   "source": [
    "features = train_data.columns[1:]\n",
    "target = train_data.columns[0]"
   ]
  },
  {
   "cell_type": "code",
   "execution_count": null,
   "metadata": {
    "colab": {
     "base_uri": "https://localhost:8080/",
     "height": 206
    },
    "id": "YKuo-KbW0naa",
    "outputId": "6b8dede9-7588-4102-fd35-c4bf8934d767"
   },
   "outputs": [
    {
     "data": {
      "text/html": [
       "\n",
       "  <div id=\"df-8c4fb65a-7cd2-408e-90b2-91fad2aaac53\">\n",
       "    <div class=\"colab-df-container\">\n",
       "      <div>\n",
       "<style scoped>\n",
       "    .dataframe tbody tr th:only-of-type {\n",
       "        vertical-align: middle;\n",
       "    }\n",
       "\n",
       "    .dataframe tbody tr th {\n",
       "        vertical-align: top;\n",
       "    }\n",
       "\n",
       "    .dataframe thead th {\n",
       "        text-align: right;\n",
       "    }\n",
       "</style>\n",
       "<table border=\"1\" class=\"dataframe\">\n",
       "  <thead>\n",
       "    <tr style=\"text-align: right;\">\n",
       "      <th></th>\n",
       "      <th>Значение</th>\n",
       "      <th>year</th>\n",
       "      <th>month</th>\n",
       "      <th>dayofmonth</th>\n",
       "      <th>quarter</th>\n",
       "      <th>dayofyear</th>\n",
       "      <th>weekofyear</th>\n",
       "      <th>dayofweek</th>\n",
       "      <th>is_holiday</th>\n",
       "      <th>is_prev_holiday</th>\n",
       "      <th>is_next_holiday</th>\n",
       "    </tr>\n",
       "  </thead>\n",
       "  <tbody>\n",
       "    <tr>\n",
       "      <th>0</th>\n",
       "      <td>76.37</td>\n",
       "      <td>-1.745239</td>\n",
       "      <td>0.722603</td>\n",
       "      <td>-1.671876</td>\n",
       "      <td>0.452662</td>\n",
       "      <td>0.583075</td>\n",
       "      <td>0.570751</td>\n",
       "      <td>-0.263439</td>\n",
       "      <td>-0.172818</td>\n",
       "      <td>-0.164989</td>\n",
       "      <td>-0.175863</td>\n",
       "    </tr>\n",
       "    <tr>\n",
       "      <th>1</th>\n",
       "      <td>76.89</td>\n",
       "      <td>-1.745239</td>\n",
       "      <td>0.722603</td>\n",
       "      <td>-1.558131</td>\n",
       "      <td>0.452662</td>\n",
       "      <td>0.592515</td>\n",
       "      <td>0.570751</td>\n",
       "      <td>0.272007</td>\n",
       "      <td>-0.172818</td>\n",
       "      <td>-0.164989</td>\n",
       "      <td>-0.175863</td>\n",
       "    </tr>\n",
       "    <tr>\n",
       "      <th>2</th>\n",
       "      <td>76.57</td>\n",
       "      <td>-1.745239</td>\n",
       "      <td>0.722603</td>\n",
       "      <td>-1.444387</td>\n",
       "      <td>0.452662</td>\n",
       "      <td>0.601956</td>\n",
       "      <td>0.570751</td>\n",
       "      <td>0.807453</td>\n",
       "      <td>-0.172818</td>\n",
       "      <td>-0.164989</td>\n",
       "      <td>-0.175863</td>\n",
       "    </tr>\n",
       "    <tr>\n",
       "      <th>3</th>\n",
       "      <td>76.62</td>\n",
       "      <td>-1.745239</td>\n",
       "      <td>0.722603</td>\n",
       "      <td>-1.330642</td>\n",
       "      <td>0.452662</td>\n",
       "      <td>0.611396</td>\n",
       "      <td>0.570751</td>\n",
       "      <td>1.342899</td>\n",
       "      <td>-0.172818</td>\n",
       "      <td>-0.164989</td>\n",
       "      <td>-0.175863</td>\n",
       "    </tr>\n",
       "    <tr>\n",
       "      <th>4</th>\n",
       "      <td>76.63</td>\n",
       "      <td>-1.745239</td>\n",
       "      <td>0.722603</td>\n",
       "      <td>-1.216897</td>\n",
       "      <td>0.452662</td>\n",
       "      <td>0.620837</td>\n",
       "      <td>0.570751</td>\n",
       "      <td>1.878345</td>\n",
       "      <td>-0.172818</td>\n",
       "      <td>6.061011</td>\n",
       "      <td>-0.175863</td>\n",
       "    </tr>\n",
       "  </tbody>\n",
       "</table>\n",
       "</div>\n",
       "      <button class=\"colab-df-convert\" onclick=\"convertToInteractive('df-8c4fb65a-7cd2-408e-90b2-91fad2aaac53')\"\n",
       "              title=\"Convert this dataframe to an interactive table.\"\n",
       "              style=\"display:none;\">\n",
       "        \n",
       "  <svg xmlns=\"http://www.w3.org/2000/svg\" height=\"24px\"viewBox=\"0 0 24 24\"\n",
       "       width=\"24px\">\n",
       "    <path d=\"M0 0h24v24H0V0z\" fill=\"none\"/>\n",
       "    <path d=\"M18.56 5.44l.94 2.06.94-2.06 2.06-.94-2.06-.94-.94-2.06-.94 2.06-2.06.94zm-11 1L8.5 8.5l.94-2.06 2.06-.94-2.06-.94L8.5 2.5l-.94 2.06-2.06.94zm10 10l.94 2.06.94-2.06 2.06-.94-2.06-.94-.94-2.06-.94 2.06-2.06.94z\"/><path d=\"M17.41 7.96l-1.37-1.37c-.4-.4-.92-.59-1.43-.59-.52 0-1.04.2-1.43.59L10.3 9.45l-7.72 7.72c-.78.78-.78 2.05 0 2.83L4 21.41c.39.39.9.59 1.41.59.51 0 1.02-.2 1.41-.59l7.78-7.78 2.81-2.81c.8-.78.8-2.07 0-2.86zM5.41 20L4 18.59l7.72-7.72 1.47 1.35L5.41 20z\"/>\n",
       "  </svg>\n",
       "      </button>\n",
       "      \n",
       "  <style>\n",
       "    .colab-df-container {\n",
       "      display:flex;\n",
       "      flex-wrap:wrap;\n",
       "      gap: 12px;\n",
       "    }\n",
       "\n",
       "    .colab-df-convert {\n",
       "      background-color: #E8F0FE;\n",
       "      border: none;\n",
       "      border-radius: 50%;\n",
       "      cursor: pointer;\n",
       "      display: none;\n",
       "      fill: #1967D2;\n",
       "      height: 32px;\n",
       "      padding: 0 0 0 0;\n",
       "      width: 32px;\n",
       "    }\n",
       "\n",
       "    .colab-df-convert:hover {\n",
       "      background-color: #E2EBFA;\n",
       "      box-shadow: 0px 1px 2px rgba(60, 64, 67, 0.3), 0px 1px 3px 1px rgba(60, 64, 67, 0.15);\n",
       "      fill: #174EA6;\n",
       "    }\n",
       "\n",
       "    [theme=dark] .colab-df-convert {\n",
       "      background-color: #3B4455;\n",
       "      fill: #D2E3FC;\n",
       "    }\n",
       "\n",
       "    [theme=dark] .colab-df-convert:hover {\n",
       "      background-color: #434B5C;\n",
       "      box-shadow: 0px 1px 3px 1px rgba(0, 0, 0, 0.15);\n",
       "      filter: drop-shadow(0px 1px 2px rgba(0, 0, 0, 0.3));\n",
       "      fill: #FFFFFF;\n",
       "    }\n",
       "  </style>\n",
       "\n",
       "      <script>\n",
       "        const buttonEl =\n",
       "          document.querySelector('#df-8c4fb65a-7cd2-408e-90b2-91fad2aaac53 button.colab-df-convert');\n",
       "        buttonEl.style.display =\n",
       "          google.colab.kernel.accessAllowed ? 'block' : 'none';\n",
       "\n",
       "        async function convertToInteractive(key) {\n",
       "          const element = document.querySelector('#df-8c4fb65a-7cd2-408e-90b2-91fad2aaac53');\n",
       "          const dataTable =\n",
       "            await google.colab.kernel.invokeFunction('convertToInteractive',\n",
       "                                                     [key], {});\n",
       "          if (!dataTable) return;\n",
       "\n",
       "          const docLinkHtml = 'Like what you see? Visit the ' +\n",
       "            '<a target=\"_blank\" href=https://colab.research.google.com/notebooks/data_table.ipynb>data table notebook</a>'\n",
       "            + ' to learn more about interactive tables.';\n",
       "          element.innerHTML = '';\n",
       "          dataTable['output_type'] = 'display_data';\n",
       "          await google.colab.output.renderOutput(dataTable, element);\n",
       "          const docLink = document.createElement('div');\n",
       "          docLink.innerHTML = docLinkHtml;\n",
       "          element.appendChild(docLink);\n",
       "        }\n",
       "      </script>\n",
       "    </div>\n",
       "  </div>\n",
       "  "
      ],
      "text/plain": [
       "   Значение      year     month  dayofmonth   quarter  dayofyear  weekofyear  \\\n",
       "0     76.37 -1.745239  0.722603   -1.671876  0.452662   0.583075    0.570751   \n",
       "1     76.89 -1.745239  0.722603   -1.558131  0.452662   0.592515    0.570751   \n",
       "2     76.57 -1.745239  0.722603   -1.444387  0.452662   0.601956    0.570751   \n",
       "3     76.62 -1.745239  0.722603   -1.330642  0.452662   0.611396    0.570751   \n",
       "4     76.63 -1.745239  0.722603   -1.216897  0.452662   0.620837    0.570751   \n",
       "\n",
       "   dayofweek  is_holiday  is_prev_holiday  is_next_holiday  \n",
       "0  -0.263439   -0.172818        -0.164989        -0.175863  \n",
       "1   0.272007   -0.172818        -0.164989        -0.175863  \n",
       "2   0.807453   -0.172818        -0.164989        -0.175863  \n",
       "3   1.342899   -0.172818        -0.164989        -0.175863  \n",
       "4   1.878345   -0.172818         6.061011        -0.175863  "
      ]
     },
     "execution_count": 47,
     "metadata": {},
     "output_type": "execute_result"
    }
   ],
   "source": [
    "scaler = StandardScaler()\n",
    "\n",
    "train_data[features] = scaler.fit_transform(train_data[features])\n",
    "val_data[features] = scaler.transform(val_data[features])\n",
    "\n",
    "train_data.head()"
   ]
  },
  {
   "cell_type": "markdown",
   "metadata": {
    "id": "fVy67FYq3M8A"
   },
   "source": [
    "Формируем параметры для генерации выборки"
   ]
  },
  {
   "cell_type": "code",
   "execution_count": null,
   "metadata": {
    "id": "iBna7eOq3EtQ"
   },
   "outputs": [],
   "source": [
    "# длина истории\n",
    "x_len = 7\n",
    "\n",
    "# горизонт предсказания\n",
    "future = 1\n",
    "\n",
    "# параметры модели для обучения\n",
    "learning_rate = 0.001\n",
    "batch_size = 32\n",
    "epochs = 10"
   ]
  },
  {
   "cell_type": "code",
   "execution_count": null,
   "metadata": {
    "colab": {
     "base_uri": "https://localhost:8080/"
    },
    "id": "u5ayHrMs3jjh",
    "outputId": "127db9d4-ad00-4be9-8429-d1fa1fb56ee4"
   },
   "outputs": [
    {
     "name": "stdout",
     "output_type": "stream",
     "text": [
      "8 2008\n",
      "649 2018\n"
     ]
    }
   ],
   "source": [
    "start = x_len + future\n",
    "end = start + train_size\n",
    "\n",
    "print(start, end)\n",
    "\n",
    "X_train = train_data[features].values\n",
    "y_train = data.iloc[start:end][target].values\n",
    "\n",
    "\n",
    "x_end = len(val_data) - x_len - future\n",
    "label_start = len(train_data) + bias + x_len + future\n",
    "print(x_end, label_start)\n",
    "\n",
    "X_val = val_data.iloc[:x_end][features].values\n",
    "y_val = data.iloc[label_start:][target].values"
   ]
  },
  {
   "cell_type": "code",
   "execution_count": null,
   "metadata": {
    "colab": {
     "base_uri": "https://localhost:8080/"
    },
    "id": "OSGd4jrX4htT",
    "outputId": "2ceac6b4-61c1-4984-d25c-6597bc60e832"
   },
   "outputs": [
    {
     "data": {
      "text/plain": [
       "((2000, 10), (2000,), (649, 10), (649,))"
      ]
     },
     "execution_count": 159,
     "metadata": {},
     "output_type": "execute_result"
    }
   ],
   "source": [
    "X_train.shape, y_train.shape, X_val.shape, y_val.shape"
   ]
  },
  {
   "cell_type": "code",
   "execution_count": null,
   "metadata": {
    "colab": {
     "base_uri": "https://localhost:8080/",
     "height": 350
    },
    "id": "S7HedvU350TW",
    "outputId": "75640e14-aeea-4cfd-a0bb-dea78196a2e0"
   },
   "outputs": [
    {
     "data": {
      "image/png": "[encoded data removed]",
      "text/plain": [
       "<Figure size 720x360 with 1 Axes>"
      ]
     },
     "metadata": {
      "needs_background": "light"
     },
     "output_type": "display_data"
    }
   ],
   "source": [
    "plt.figure(figsize=(10, 5))\n",
    "plt.plot(data.index[x_len:y_train.shape[0]+x_len],y_train[:])\n",
    "plt.plot(data.index[y_train.shape[0]+x_len+bias+future:],y_val[:])\n",
    "plt.grid('on')\n",
    "plt.xlabel('t, дни')\n",
    "plt.ylabel('$')\n",
    "plt.title('стоимость BRENT в 2015-2018')\n",
    "plt.show()"
   ]
  },
  {
   "cell_type": "code",
   "execution_count": null,
   "metadata": {
    "id": "5e__Gvgo50Jj"
   },
   "outputs": [],
   "source": [
    "from tensorflow.keras.preprocessing import timeseries_dataset_from_array\n",
    "\n",
    "dataset_train = timeseries_dataset_from_array(\n",
    "    X_train,\n",
    "    y_train,\n",
    "    sequence_length=x_len,\n",
    "    sampling_rate=1,\n",
    "    batch_size=batch_size,\n",
    ")\n",
    "\n",
    "dataset_val = timeseries_dataset_from_array(\n",
    "    X_val,\n",
    "    y_val,\n",
    "    sequence_length=x_len,\n",
    "    sampling_rate=1,\n",
    "    batch_size=batch_size,\n",
    ")"
   ]
  },
  {
   "cell_type": "code",
   "execution_count": null,
   "metadata": {
    "colab": {
     "base_uri": "https://localhost:8080/"
    },
    "id": "Aglum2UP50Fn",
    "outputId": "0b4f8e65-0864-4758-d278-b5a70b546636"
   },
   "outputs": [
    {
     "name": "stdout",
     "output_type": "stream",
     "text": [
      "Input shape: (32, 7, 10)\n",
      "tf.Tensor(\n",
      "[[-1.7452388   0.72260267 -1.55813134  0.45266166  0.5925154   0.5707507\n",
      "   0.27200661 -0.17281816 -0.16498899 -0.17586311]\n",
      " [-1.7452388   0.72260267 -1.44438667  0.45266166  0.60195592  0.5707507\n",
      "   0.80745269 -0.17281816 -0.16498899 -0.17586311]\n",
      " [-1.7452388   0.72260267 -1.330642    0.45266166  0.61139644  0.5707507\n",
      "   1.34289878 -0.17281816 -0.16498899 -0.17586311]\n",
      " [-1.7452388   0.72260267 -1.21689733  0.45266166  0.62083696  0.5707507\n",
      "   1.87834486 -0.17281816  6.06101056 -0.17586311]\n",
      " [-1.7452388   0.72260267 -1.10315266  0.45266166  0.63027748  0.63692085\n",
      "  -1.33433164  5.78642883 -0.16498899 -0.17586311]\n",
      " [-1.7452388   0.72260267 -0.989408    0.45266166  0.63971801  0.63692085\n",
      "  -0.79888556 -0.17281816 -0.16498899  5.6862407 ]\n",
      " [-1.7452388   0.72260267 -0.87566333  0.45266166  0.64915853  0.63692085\n",
      "  -0.26343947 -0.17281816 -0.16498899 -0.17586311]], shape=(7, 10), dtype=float64)\n",
      "Target shape: (32,)\n",
      "tf.Tensor(78.41, shape=(), dtype=float64)\n"
     ]
    }
   ],
   "source": [
    "for batch in dataset_train:\n",
    "    inputs, targets = batch\n",
    "    print(\"Input shape:\", inputs.shape)\n",
    "    print(inputs[1])\n",
    "    print(\"Target shape:\", targets.shape)\n",
    "    print(targets[1])\n",
    "    break"
   ]
  },
  {
   "cell_type": "markdown",
   "metadata": {
    "id": "7EXWdamM6vVb"
   },
   "source": [
    "**сеть:  LSTM слои + Conv1D + Dense слой**"
   ]
  },
  {
   "cell_type": "code",
   "execution_count": null,
   "metadata": {
    "colab": {
     "base_uri": "https://localhost:8080/"
    },
    "id": "zhuaijth6REN",
    "outputId": "6fd095c1-abcd-4824-e212-5e97c6c00871"
   },
   "outputs": [
    {
     "name": "stdout",
     "output_type": "stream",
     "text": [
      "Model: \"sequential_32\"\n",
      "_________________________________________________________________\n",
      " Layer (type)                Output Shape              Param #   \n",
      "=================================================================\n",
      " lstm_19 (LSTM)              (None, 7, 32)             5504      \n",
      "                                                                 \n",
      " lstm_20 (LSTM)              (None, 7, 32)             8320      \n",
      "                                                                 \n",
      " conv1d_2 (Conv1D)           (None, 5, 64)             6208      \n",
      "                                                                 \n",
      " conv1d_3 (Conv1D)           (None, 5, 64)             4160      \n",
      "                                                                 \n",
      " flatten_1 (Flatten)         (None, 320)               0         \n",
      "                                                                 \n",
      " dense_26 (Dense)            (None, 3)                 963       \n",
      "                                                                 \n",
      " dense_27 (Dense)            (None, 1)                 4         \n",
      "                                                                 \n",
      "=================================================================\n",
      "Total params: 25,159\n",
      "Trainable params: 25,159\n",
      "Non-trainable params: 0\n",
      "_________________________________________________________________\n"
     ]
    }
   ],
   "source": [
    "from keras.callbacks import EarlyStopping\n",
    "from keras.layers import Conv1D\n",
    "\n",
    "early_stop = EarlyStopping(monitor='val_mae', patience=5)\n",
    "\n",
    "\n",
    "model = Sequential()\n",
    "\n",
    "model.add(LSTM(32, input_shape=(inputs.shape[1], inputs.shape[2]),\n",
    "               return_sequences=True))\n",
    "model.add(LSTM(32, return_sequences=True))\n",
    "model.add(Conv1D(64, 3, activation='linear'))\n",
    "model.add(Conv1D(64, 1, activation='linear'))\n",
    "model.add(Flatten())\n",
    "model.add(Dense(3, activation='linear'))\n",
    "model.add(Dense(1, activation='linear'))\n",
    "\n",
    "\n",
    "model.compile(loss='mse', optimizer='adam', metrics=['mae'])\n",
    "model.summary()"
   ]
  },
  {
   "cell_type": "code",
   "execution_count": null,
   "metadata": {
    "colab": {
     "base_uri": "https://localhost:8080/"
    },
    "id": "VoStz-Z66RAi",
    "outputId": "64a3eea4-297c-4d1a-86d6-9e93b3fdb9d6"
   },
   "outputs": [
    {
     "name": "stdout",
     "output_type": "stream",
     "text": [
      "Epoch 1/10\n",
      "63/63 [==============================] - 5s 24ms/step - loss: 6694.6855 - mae: 72.5727 - val_loss: 2773.1558 - val_mae: 47.0938\n",
      "Epoch 2/10\n",
      "63/63 [==============================] - 1s 12ms/step - loss: 1852.1105 - mae: 33.7936 - val_loss: 1964.3822 - val_mae: 42.0182\n",
      "Epoch 3/10\n",
      "63/63 [==============================] - 1s 12ms/step - loss: 379.9069 - mae: 15.7532 - val_loss: 2155.8596 - val_mae: 44.5097\n",
      "Epoch 4/10\n",
      "63/63 [==============================] - 1s 12ms/step - loss: 350.3526 - mae: 15.2015 - val_loss: 2098.4026 - val_mae: 44.1897\n",
      "Epoch 5/10\n",
      "63/63 [==============================] - 1s 12ms/step - loss: 333.4243 - mae: 14.9091 - val_loss: 2000.8412 - val_mae: 43.3138\n",
      "Epoch 6/10\n",
      "63/63 [==============================] - 1s 12ms/step - loss: 332.1011 - mae: 14.9579 - val_loss: 1893.3433 - val_mae: 42.2321\n",
      "Epoch 7/10\n",
      "63/63 [==============================] - 1s 12ms/step - loss: 341.3814 - mae: 15.2089 - val_loss: 1783.0206 - val_mae: 41.0346\n",
      "Epoch 8/10\n",
      "63/63 [==============================] - 1s 12ms/step - loss: 361.3040 - mae: 15.6249 - val_loss: 1674.9873 - val_mae: 39.7910\n",
      "Epoch 9/10\n",
      "63/63 [==============================] - 1s 12ms/step - loss: 391.1473 - mae: 16.1676 - val_loss: 1571.8828 - val_mae: 38.5431\n",
      "Epoch 10/10\n",
      "63/63 [==============================] - 1s 12ms/step - loss: 430.2478 - mae: 16.8221 - val_loss: 1473.5419 - val_mae: 37.2977\n"
     ]
    }
   ],
   "source": [
    "history = model.fit(dataset_train,\n",
    "                    epochs=epochs,\n",
    "                    validation_data=dataset_val,\n",
    "                    callbacks=[early_stop])"
   ]
  },
  {
   "cell_type": "code",
   "execution_count": null,
   "metadata": {
    "colab": {
     "base_uri": "https://localhost:8080/",
     "height": 265
    },
    "id": "npS0O4Od6Q9C",
    "outputId": "ab9f45d3-8544-4214-9d56-7162eec544d1"
   },
   "outputs": [
    {
     "data": {
      "image/png": "[encoded data removed]",
      "text/plain": [
       "<Figure size 432x288 with 1 Axes>"
      ]
     },
     "metadata": {
      "needs_background": "light"
     },
     "output_type": "display_data"
    }
   ],
   "source": [
    "plt.plot(history.history['mae'][:], \n",
    "         label='MAE на обучающем наборе')\n",
    "plt.plot(history.history['val_mae'][:], \n",
    "         label='MAE на проверочном наборе')\n",
    "\n",
    "plt.ylabel('Средняя ошибка')\n",
    "plt.legend()\n",
    "plt.show()"
   ]
  },
  {
   "cell_type": "code",
   "execution_count": null,
   "metadata": {
    "id": "TpJFVrCy7grh"
   },
   "outputs": [],
   "source": [
    "hist_val = history.history['val_mae']\n",
    "hist_train = history.history['mae']"
   ]
  },
  {
   "cell_type": "code",
   "execution_count": null,
   "metadata": {
    "colab": {
     "base_uri": "https://localhost:8080/",
     "height": 612
    },
    "id": "MYbgEbIa7gm9",
    "outputId": "56a9b763-be68-4109-cf66-cd44d7d428c2"
   },
   "outputs": [
    {
     "name": "stdout",
     "output_type": "stream",
     "text": [
      "Epoch 1/10\n",
      "63/63 [==============================] - 1s 12ms/step - loss: 478.3189 - mae: 17.5874 - val_loss: 1376.4736 - val_mae: 36.0141\n",
      "Epoch 2/10\n",
      "63/63 [==============================] - 1s 12ms/step - loss: 536.4901 - mae: 18.4852 - val_loss: 1274.2079 - val_mae: 34.6007\n",
      "Epoch 3/10\n",
      "63/63 [==============================] - 1s 12ms/step - loss: 607.3398 - mae: 19.5366 - val_loss: 1158.5336 - val_mae: 32.9209\n",
      "Epoch 4/10\n",
      "63/63 [==============================] - 1s 12ms/step - loss: 692.0950 - mae: 20.7994 - val_loss: 1021.8655 - val_mae: 30.8131\n",
      "Epoch 5/10\n",
      "63/63 [==============================] - 1s 12ms/step - loss: 782.8024 - mae: 22.2003 - val_loss: 861.6918 - val_mae: 28.1406\n",
      "Epoch 6/10\n",
      "63/63 [==============================] - 1s 12ms/step - loss: 849.5865 - mae: 23.0252 - val_loss: 689.2744 - val_mae: 24.9465\n",
      "Epoch 7/10\n",
      "63/63 [==============================] - 1s 12ms/step - loss: 845.9973 - mae: 22.4109 - val_loss: 539.2248 - val_mae: 21.7857\n",
      "Epoch 8/10\n",
      "63/63 [==============================] - 1s 12ms/step - loss: 746.7961 - mae: 20.2328 - val_loss: 438.2059 - val_mae: 19.3583\n",
      "Epoch 9/10\n",
      "63/63 [==============================] - 1s 12ms/step - loss: 557.7443 - mae: 17.0444 - val_loss: 383.1529 - val_mae: 17.9044\n",
      "Epoch 10/10\n",
      "63/63 [==============================] - 1s 12ms/step - loss: 379.6539 - mae: 13.9181 - val_loss: 345.9537 - val_mae: 16.8579\n"
     ]
    },
    {
     "data": {
      "image/png": "[encoded data removed]",
      "text/plain": [
       "<Figure size 432x288 with 1 Axes>"
      ]
     },
     "metadata": {
      "needs_background": "light"
     },
     "output_type": "display_data"
    }
   ],
   "source": [
    "history = model.fit(dataset_train,\n",
    "                    epochs=epochs,\n",
    "                    validation_data=dataset_val,\n",
    "                    callbacks=[early_stop])\n",
    "\n",
    "hist_val.extend(history.history['val_mae'][:])\n",
    "hist_train.extend(history.history['mae'][:])\n",
    "\n",
    "\n",
    "plt.plot(hist_train, \n",
    "         label='MAE на обучающем наборе')\n",
    "plt.plot(hist_val, \n",
    "         label='MAE на проверочном наборе')\n",
    "\n",
    "plt.ylabel('Средняя ошибка')\n",
    "plt.legend()\n",
    "plt.show()"
   ]
  },
  {
   "cell_type": "markdown",
   "metadata": {
    "id": "sTVYH8bynCXK"
   },
   "source": [
    "Проверяем результаты:\n",
    "\n",
    "- строим предсказание\n",
    "- рисуем прогноз для тестовой части \n",
    "- рисуем прогноз по тренировочной части"
   ]
  },
  {
   "cell_type": "code",
   "execution_count": null,
   "metadata": {
    "colab": {
     "base_uri": "https://localhost:8080/"
    },
    "id": "wuKT4O2WjZiQ",
    "outputId": "4e61e6e0-1878-4872-a6bb-ebbbd0ef6c3a"
   },
   "outputs": [
    {
     "name": "stdout",
     "output_type": "stream",
     "text": [
      "63/63 [==============================] - 1s 6ms/step\n",
      "21/21 [==============================] - 0s 6ms/step\n"
     ]
    }
   ],
   "source": [
    "pred = model.predict(dataset_train).flatten()\n",
    "pred_val = model.predict(dataset_val).flatten()"
   ]
  },
  {
   "cell_type": "code",
   "execution_count": null,
   "metadata": {
    "colab": {
     "base_uri": "https://localhost:8080/",
     "height": 334
    },
    "id": "-zt0cYfzllLW",
    "outputId": "86d65cf7-6036-498d-fb4f-ec897bd09320"
   },
   "outputs": [
    {
     "data": {
      "image/png": "[encoded data removed]",
      "text/plain": [
       "<Figure size 720x360 with 1 Axes>"
      ]
     },
     "metadata": {
      "needs_background": "light"
     },
     "output_type": "display_data"
    }
   ],
   "source": [
    "start = 0\n",
    "step = 50\n",
    "plt.figure(figsize=(10, 5))\n",
    "plt.grid('on')\n",
    "plt.plot(pred_val[future + start: future + start + step], \n",
    "         label='Прогноз')\n",
    "plt.plot(y_val.flatten()[start: start+step], \n",
    "         label='Базовый ряд')\n",
    "plt.xlabel('Время')\n",
    "plt.ylabel('Значение ')\n",
    "\n",
    "plt.legend()\n",
    "plt.show()"
   ]
  },
  {
   "cell_type": "code",
   "execution_count": null,
   "metadata": {
    "colab": {
     "base_uri": "https://localhost:8080/",
     "height": 334
    },
    "id": "aEqy8GdQ8ZSq",
    "outputId": "6934f3a1-ad4a-41d5-f5f8-9aa8e660d602"
   },
   "outputs": [
    {
     "data": {
      "image/png": "[encoded data removed]",
      "text/plain": [
       "<Figure size 720x360 with 1 Axes>"
      ]
     },
     "metadata": {
      "needs_background": "light"
     },
     "output_type": "display_data"
    }
   ],
   "source": [
    "start = 0\n",
    "\n",
    "plt.figure(figsize=(10, 5))\n",
    "plt.grid('on')\n",
    "plt.plot(pred[future + start: future + train_size], \n",
    "         label='Прогноз')\n",
    "plt.plot(y_train.flatten()[start: train_size], \n",
    "         label='Базовый ряд')\n",
    "plt.xlabel('Время')\n",
    "plt.ylabel('Значение')\n",
    "plt.legend()\n",
    "plt.show()"
   ]
  },
  {
   "cell_type": "markdown",
   "metadata": {
    "id": "QzIyXj4sA5I1"
   },
   "source": [
    "### Генерация текста"
   ]
  },
  {
   "cell_type": "markdown",
   "metadata": {
    "id": "mS8eVmgRGbK5"
   },
   "source": [
    "#### Cонеты Шекспира"
   ]
  },
  {
   "cell_type": "code",
   "execution_count": null,
   "metadata": {
    "colab": {
     "base_uri": "https://localhost:8080/"
    },
    "id": "eEFXxlcaGoNO",
    "outputId": "21725ae0-9a04-42e7-abd8-f1bfc0f576f0"
   },
   "outputs": [
    {
     "data": {
      "text/plain": [
       "['from fairest creatures we desire increase,',\n",
       " \"that thereby beauty's rose might never die,\",\n",
       " 'but as the riper should by time decease,',\n",
       " 'his tender heir might bear his memory:',\n",
       " 'but thou, contracted to thine own bright eyes,',\n",
       " \"feed'st thy light'st flame with self-substantial fuel,\",\n",
       " 'making a famine where abundance lies,',\n",
       " 'thyself thy foe, to thy sweet self too cruel.',\n",
       " \"thou that art now the world's fresh ornament\",\n",
       " 'and only herald to the gaudy spring,']"
      ]
     },
     "execution_count": 178,
     "metadata": {},
     "output_type": "execute_result"
    }
   ],
   "source": [
    "# Читаем текст\n",
    "data = open('data/sonnets.txt').read()\n",
    "corpus = data.lower().split(\"\\n\")\n",
    "corpus[:10]"
   ]
  },
  {
   "cell_type": "code",
   "execution_count": null,
   "metadata": {
    "id": "NcpcXWWWGeg-"
   },
   "outputs": [],
   "source": [
    "from keras.preprocessing.text import Tokenizer\n",
    "from tensorflow.keras.preprocessing.sequence import pad_sequences\n",
    "from tensorflow.keras.utils import to_categorical\n",
    "\n",
    "\n",
    "# Создаем объект для токенизации\n",
    "total_words = 1000\n",
    "tokenizer = Tokenizer(num_words=total_words)\n",
    "tokenizer.fit_on_texts(corpus)\n",
    "\n",
    "# tokenizer.index_word"
   ]
  },
  {
   "cell_type": "markdown",
   "metadata": {
    "id": "kvj2zIe-jF2D"
   },
   "source": [
    "Исполним токенизацию и кодирование"
   ]
  },
  {
   "cell_type": "code",
   "execution_count": null,
   "metadata": {
    "colab": {
     "base_uri": "https://localhost:8080/"
    },
    "id": "03d474JpHaDF",
    "outputId": "4a58ef6d-dcc0-4475-8f99-68013cc5c37b"
   },
   "outputs": [
    {
     "name": "stdout",
     "output_type": "stream",
     "text": [
      "from fairest creatures we desire increase,\n",
      "[[34, 417, 877, 166, 213, 517]]\n",
      "34 417\n"
     ]
    }
   ],
   "source": [
    "print(corpus[0])\n",
    "print(tokenizer.texts_to_sequences([corpus[0]]))\n",
    "print(tokenizer.word_index['from'], tokenizer.word_index['fairest'])"
   ]
  },
  {
   "cell_type": "code",
   "execution_count": null,
   "metadata": {
    "colab": {
     "base_uri": "https://localhost:8080/"
    },
    "id": "MFZYgPT5IIk1",
    "outputId": "11e9d867-2fa3-435c-ae97-eb60567013c3"
   },
   "outputs": [
    {
     "data": {
      "text/plain": [
       "[[34, 417],\n",
       " [34, 417, 877],\n",
       " [34, 417, 877, 166],\n",
       " [34, 417, 877, 166, 213],\n",
       " [34, 417, 877, 166, 213, 517],\n",
       " [8, 878],\n",
       " [8, 878, 134],\n",
       " [8, 878, 134, 351],\n",
       " [8, 878, 134, 351, 102],\n",
       " [8, 878, 134, 351, 102, 156]]"
      ]
     },
     "execution_count": 184,
     "metadata": {},
     "output_type": "execute_result"
    }
   ],
   "source": [
    "# создадим последовательность токенов\n",
    "input_sequences = []\n",
    "for line in corpus:\n",
    "\ttoken_list = tokenizer.texts_to_sequences([line])[0]\n",
    "\tfor i in range(1, len(token_list)):\n",
    "\t\tsequence = token_list[:i+1]\n",
    "\t\tinput_sequences.append(sequence)\n",
    "input_sequences[:10]"
   ]
  },
  {
   "cell_type": "code",
   "execution_count": null,
   "metadata": {
    "colab": {
     "base_uri": "https://localhost:8080/"
    },
    "id": "DwerIGL3IlEl",
    "outputId": "85dee48e-6ffa-4480-bdd3-33f70ae0a355"
   },
   "outputs": [
    {
     "name": "stdout",
     "output_type": "stream",
     "text": [
      "11\n"
     ]
    },
    {
     "data": {
      "text/plain": [
       "array([[  0,   0,   0,   0,   0,   0,   0,   0,   0,  34, 417],\n",
       "       [  0,   0,   0,   0,   0,   0,   0,   0,  34, 417, 877],\n",
       "       [  0,   0,   0,   0,   0,   0,   0,  34, 417, 877, 166],\n",
       "       [  0,   0,   0,   0,   0,   0,  34, 417, 877, 166, 213],\n",
       "       [  0,   0,   0,   0,   0,  34, 417, 877, 166, 213, 517],\n",
       "       [  0,   0,   0,   0,   0,   0,   0,   0,   0,   8, 878],\n",
       "       [  0,   0,   0,   0,   0,   0,   0,   0,   8, 878, 134],\n",
       "       [  0,   0,   0,   0,   0,   0,   0,   8, 878, 134, 351],\n",
       "       [  0,   0,   0,   0,   0,   0,   8, 878, 134, 351, 102],\n",
       "       [  0,   0,   0,   0,   0,   8, 878, 134, 351, 102, 156]],\n",
       "      dtype=int32)"
      ]
     },
     "execution_count": 185,
     "metadata": {},
     "output_type": "execute_result"
    }
   ],
   "source": [
    "# pad sequences \n",
    "max_sequence_len = max([len(x) for x in input_sequences])\n",
    "print(max_sequence_len)\n",
    "input_sequences = np.array(pad_sequences(input_sequences, maxlen=max_sequence_len, padding='pre'))\n",
    "input_sequences[:10]"
   ]
  },
  {
   "cell_type": "code",
   "execution_count": null,
   "metadata": {
    "colab": {
     "base_uri": "https://localhost:8080/"
    },
    "id": "PRnDnCW-Z7qv",
    "outputId": "25dd7830-9df6-456d-e780-5645583271da"
   },
   "outputs": [
    {
     "data": {
      "text/plain": [
       "(12880, 1000)"
      ]
     },
     "execution_count": 186,
     "metadata": {},
     "output_type": "execute_result"
    }
   ],
   "source": [
    "predictors, label = input_sequences[:,:-1], input_sequences[:,-1]\n",
    "\n",
    "label = to_categorical(label, num_classes=total_words)\n",
    "label.shape"
   ]
  },
  {
   "cell_type": "code",
   "execution_count": null,
   "metadata": {
    "colab": {
     "base_uri": "https://localhost:8080/"
    },
    "id": "fyWwtXSlyeCL",
    "outputId": "d57ae3f2-8f3c-4147-f4a2-b9c9db67eb3f"
   },
   "outputs": [
    {
     "data": {
      "text/plain": [
       "(array([ 0,  0,  0,  0,  0,  0,  0,  0,  0, 34], dtype=int32), 417)"
      ]
     },
     "execution_count": 187,
     "metadata": {},
     "output_type": "execute_result"
    }
   ],
   "source": [
    "predictors[0], np.argmax(label[0])"
   ]
  },
  {
   "cell_type": "markdown",
   "metadata": {
    "id": "0ZMOORKCjpUU"
   },
   "source": [
    "Создаем сеть"
   ]
  },
  {
   "cell_type": "code",
   "execution_count": null,
   "metadata": {
    "colab": {
     "base_uri": "https://localhost:8080/"
    },
    "id": "w9vH8Y59ajYL",
    "outputId": "0a1f5d57-3d02-46a0-96cf-4448b1681c46"
   },
   "outputs": [
    {
     "name": "stdout",
     "output_type": "stream",
     "text": [
      "Model: \"sequential_35\"\n",
      "_________________________________________________________________\n",
      " Layer (type)                Output Shape              Param #   \n",
      "=================================================================\n",
      " embedding_11 (Embedding)    (None, 10, 512)           512000    \n",
      "                                                                 \n",
      " bidirectional_4 (Bidirectio  (None, 10, 512)          1574912   \n",
      " nal)                                                            \n",
      "                                                                 \n",
      " bidirectional_5 (Bidirectio  (None, 10, 1024)         4198400   \n",
      " nal)                                                            \n",
      "                                                                 \n",
      " lstm_29 (LSTM)              (None, 1024)              8392704   \n",
      "                                                                 \n",
      " dropout_8 (Dropout)         (None, 1024)              0         \n",
      "                                                                 \n",
      " dense_32 (Dense)            (None, 2000)              2050000   \n",
      "                                                                 \n",
      " dense_33 (Dense)            (None, 1000)              2001000   \n",
      "                                                                 \n",
      "=================================================================\n",
      "Total params: 18,729,016\n",
      "Trainable params: 18,729,016\n",
      "Non-trainable params: 0\n",
      "_________________________________________________________________\n"
     ]
    }
   ],
   "source": [
    "from keras.layers import Dropout, Bidirectional\n",
    "from keras import regularizers\n",
    "from tensorflow.keras.optimizers import Adam\n",
    "\n",
    "\n",
    "early_stop = EarlyStopping(monitor='val_loss', patience=10)\n",
    "\n",
    "model = Sequential()\n",
    "model.add(Embedding(input_dim=total_words,\n",
    "                    output_dim=512,\n",
    "                    input_length=max_sequence_len-1))\n",
    "\n",
    "model.add(Bidirectional(LSTM(256, return_sequences=True)))\n",
    "model.add(Bidirectional(LSTM(512, return_sequences=True)))\n",
    "model.add(LSTM(1024))\n",
    "model.add(Dropout(0.2))\n",
    "model.add(Dense(total_words * 2 , activation='relu'))\n",
    "model.add(Dense(total_words, activation='softmax'))\n",
    "\n",
    "model.compile(loss='categorical_crossentropy',\n",
    "              optimizer=Adam(0.001),\n",
    "              metrics=['accuracy'])\n",
    "model.summary()"
   ]
  },
  {
   "cell_type": "code",
   "execution_count": null,
   "metadata": {
    "colab": {
     "base_uri": "https://localhost:8080/"
    },
    "id": "AIg2f1HBxqof",
    "outputId": "e6cc1431-2a2a-491c-bea2-a1d27f220535"
   },
   "outputs": [
    {
     "name": "stdout",
     "output_type": "stream",
     "text": [
      "Epoch 1/100\n",
      "322/322 [==============================] - 14s 28ms/step - loss: 5.9983 - accuracy: 0.0289 - val_loss: 5.9107 - val_accuracy: 0.0326\n",
      "Epoch 2/100\n",
      "322/322 [==============================] - 7s 23ms/step - loss: 5.7399 - accuracy: 0.0355 - val_loss: 5.8840 - val_accuracy: 0.0280\n",
      "Epoch 3/100\n",
      "322/322 [==============================] - 7s 23ms/step - loss: 5.6189 - accuracy: 0.0414 - val_loss: 5.8708 - val_accuracy: 0.0404\n",
      "Epoch 4/100\n",
      "322/322 [==============================] - 7s 23ms/step - loss: 5.4983 - accuracy: 0.0455 - val_loss: 5.8924 - val_accuracy: 0.0384\n",
      "Epoch 5/100\n",
      "322/322 [==============================] - 7s 23ms/step - loss: 5.3537 - accuracy: 0.0557 - val_loss: 5.9324 - val_accuracy: 0.0435\n",
      "Epoch 6/100\n",
      "322/322 [==============================] - 7s 23ms/step - loss: 5.2187 - accuracy: 0.0661 - val_loss: 6.0445 - val_accuracy: 0.0404\n",
      "Epoch 7/100\n",
      "322/322 [==============================] - 7s 23ms/step - loss: 5.0610 - accuracy: 0.0719 - val_loss: 6.1438 - val_accuracy: 0.0501\n",
      "Epoch 8/100\n",
      "322/322 [==============================] - 8s 24ms/step - loss: 4.8941 - accuracy: 0.0842 - val_loss: 6.2751 - val_accuracy: 0.0559\n",
      "Epoch 9/100\n",
      "322/322 [==============================] - 7s 23ms/step - loss: 4.7134 - accuracy: 0.0914 - val_loss: 6.4074 - val_accuracy: 0.0575\n",
      "Epoch 10/100\n",
      "322/322 [==============================] - 7s 23ms/step - loss: 4.5074 - accuracy: 0.1020 - val_loss: 6.6810 - val_accuracy: 0.0485\n",
      "Epoch 11/100\n",
      "322/322 [==============================] - 7s 23ms/step - loss: 4.2876 - accuracy: 0.1164 - val_loss: 7.0685 - val_accuracy: 0.0594\n",
      "Epoch 12/100\n",
      "322/322 [==============================] - 7s 23ms/step - loss: 4.0223 - accuracy: 0.1377 - val_loss: 7.4409 - val_accuracy: 0.0516\n",
      "Epoch 13/100\n",
      "322/322 [==============================] - 7s 23ms/step - loss: 3.7042 - accuracy: 0.1733 - val_loss: 8.2112 - val_accuracy: 0.0466\n"
     ]
    }
   ],
   "source": [
    "history = model.fit(predictors, label,\n",
    "                    epochs=100,\n",
    "                    validation_split=0.2,\n",
    "                    callbacks=[early_stop],\n",
    "                    verbose=1)"
   ]
  },
  {
   "cell_type": "markdown",
   "metadata": {
    "id": "qdhjEfBElNMC"
   },
   "source": [
    "Тест\n"
   ]
  },
  {
   "cell_type": "code",
   "execution_count": null,
   "metadata": {
    "colab": {
     "base_uri": "https://localhost:8080/",
     "height": 545
    },
    "id": "1fXTEO3GJ282",
    "outputId": "668929af-037c-4600-ed6b-c72618b7a894"
   },
   "outputs": [
    {
     "data": {
      "image/png": "[encoded data removed]",
      "text/plain": [
       "<Figure size 432x288 with 1 Axes>"
      ]
     },
     "metadata": {
      "needs_background": "light"
     },
     "output_type": "display_data"
    },
    {
     "data": {
      "image/png": "[encoded data removed]",
      "text/plain": [
       "<Figure size 432x288 with 1 Axes>"
      ]
     },
     "metadata": {
      "needs_background": "light"
     },
     "output_type": "display_data"
    }
   ],
   "source": [
    "acc = history.history['accuracy']\n",
    "acc_v = history.history['val_accuracy']\n",
    "loss = history.history['loss']\n",
    "loss_v = history.history['val_loss']\n",
    "\n",
    "epochs = range(len(acc))\n",
    "\n",
    "plt.plot(epochs, acc, label='Train')\n",
    "plt.plot(epochs, acc_v, label='Test')\n",
    "plt.legend()\n",
    "plt.title('accuracy')\n",
    "\n",
    "plt.figure()\n",
    "\n",
    "plt.plot(epochs, loss, label='Train')\n",
    "plt.plot(epochs, loss_v, label='Test')\n",
    "plt.title('loss')\n",
    "plt.legend()\n",
    "\n",
    "plt.show()"
   ]
  },
  {
   "cell_type": "markdown",
   "metadata": {
    "id": "RxYwdExpNgLW"
   },
   "source": [
    "Строим тест генератора"
   ]
  },
  {
   "cell_type": "code",
   "execution_count": null,
   "metadata": {
    "colab": {
     "base_uri": "https://localhost:8080/"
    },
    "id": "6Vc6PHgxa6Hm",
    "outputId": "e4f7f38e-f61f-4f61-ed95-33ebdcb86284"
   },
   "outputs": [
    {
     "name": "stdout",
     "output_type": "stream",
     "text": [
      "[591, 18, 5, 352, 393]\n",
      "[591, 18, 5, 352, 393, 5]\n",
      "[591, 18, 5, 352, 393, 5, 14]\n",
      "[591, 18, 5, 352, 393, 5, 14, 1]\n",
      "[591, 18, 5, 352, 393, 5, 14, 1, 813]\n",
      "[591, 18, 5, 352, 393, 5, 14, 1, 813, 11]\n",
      "[591, 18, 5, 352, 393, 5, 14, 1, 813, 11, 18]\n",
      "[591, 18, 5, 352, 393, 5, 14, 1, 813, 11, 18, 131]\n",
      "[591, 18, 5, 352, 393, 5, 14, 1, 813, 11, 18, 131, 4]\n",
      "[591, 18, 5, 352, 393, 5, 14, 1, 813, 11, 18, 131, 4, 18]\n",
      "Help me Obi Wan Kenobi, you're my only hope my love and crown'd with me alone of me so\n"
     ]
    }
   ],
   "source": [
    "seed_text = \"Help me Obi Wan Kenobi, you're my only hope\"\n",
    "# seed_text = \"She is my girl, I see in my hend\"\n",
    "next_words = 10\n",
    "  \n",
    "for _ in range(next_words):\n",
    "    token_list = tokenizer.texts_to_sequences([seed_text])[0]\n",
    "    print(token_list)\n",
    "    token_list = pad_sequences([token_list], maxlen=max_sequence_len-1, padding='pre')\n",
    "    predicted_proba = model.predict(token_list, verbose=0)\n",
    "    predicted_classes = np.argmax(predicted_proba, axis=1)\n",
    "\n",
    "    output_word = tokenizer.index_word[predicted_classes[0]]\n",
    "    seed_text += \" \" + output_word\n",
    "    \n",
    "print(seed_text)"
   ]
  },
  {
   "cell_type": "code",
   "execution_count": null,
   "metadata": {
    "colab": {
     "base_uri": "https://localhost:8080/"
    },
    "id": "y-39KR00WhSR",
    "outputId": "353955d1-d968-4d41-a345-de6f675af5fb"
   },
   "outputs": [
    {
     "data": {
      "text/plain": [
       "array([[1.58684090e-11, 1.11942856e-04, 4.87285201e-03, 1.52559939e-03,\n",
       "        7.43244076e-04, 3.61876038e-04, 2.90796197e-05, 6.52365910e-04,\n",
       "        1.30900298e-04, 9.06720350e-04, 1.02528161e-03, 2.76098988e-04,\n",
       "        3.33710428e-04, 9.65977786e-04, 1.08184793e-03, 2.13109073e-03,\n",
       "        2.07965821e-03, 4.73590195e-03, 1.48139894e-04, 1.05479546e-03,\n",
       "        3.51283103e-01, 1.04580866e-03, 1.14458526e-05, 9.27869914e-05,\n",
       "        1.00968464e-03, 9.61493515e-06, 1.83114048e-06, 1.51784807e-05,\n",
       "        9.13460087e-03, 2.14667052e-05, 2.18128139e-06, 2.54214887e-04,\n",
       "        3.27540038e-04, 4.34627844e-04, 5.15058200e-05, 1.64419785e-03,\n",
       "        1.59157818e-04, 1.21887308e-03, 3.50664021e-04, 7.16671348e-05,\n",
       "        2.36803862e-06, 5.96547907e-04, 3.89085093e-04, 8.61632545e-03,\n",
       "        4.15223232e-03, 1.02223639e-05, 3.65991233e-04, 8.26352916e-05,\n",
       "        1.64504472e-05, 2.91149736e-05, 3.24193068e-04, 7.14968053e-07,\n",
       "        4.78412444e-03, 3.72402137e-05, 1.01500947e-04, 2.48889817e-04,\n",
       "        1.20272807e-05, 1.35672252e-07, 2.46298433e-11, 1.84668806e-05,\n",
       "        7.42018383e-05, 2.16419925e-04, 1.24479807e-03, 1.26458763e-03,\n",
       "        3.36335461e-06, 2.46184133e-03, 7.64047843e-04, 3.95256393e-06,\n",
       "        1.36546021e-06, 3.53528549e-06, 3.18771781e-04, 8.59843276e-05,\n",
       "        1.49302621e-04, 1.90669976e-04, 1.60463927e-08, 4.53570567e-04,\n",
       "        5.62764362e-05, 9.38252779e-04, 1.67056862e-06, 8.95755875e-06,\n",
       "        1.88152308e-06, 2.85304977e-05, 1.66640857e-05, 1.73763601e-05,\n",
       "        4.64425422e-04, 3.63556283e-05, 7.58102260e-07, 3.64011794e-05,\n",
       "        8.60454286e-09, 2.79192282e-05, 1.37550369e-05, 2.01060338e-05,\n",
       "        7.06898931e-08, 1.14698944e-08, 6.56562227e-09, 4.65419493e-04,\n",
       "        5.29982935e-06, 1.41287128e-05, 1.00211194e-03, 4.59817820e-04,\n",
       "        1.11296877e-05, 1.56087310e-06, 7.38962353e-06, 7.75447907e-03,\n",
       "        4.82763926e-06, 7.09771663e-02, 4.55416966e-06, 4.78007145e-08,\n",
       "        1.38037429e-10, 4.17112744e-09, 4.12383451e-05, 9.45322154e-06,\n",
       "        1.49247661e-01, 8.74510661e-05, 8.94991739e-04, 5.70709801e-07,\n",
       "        1.16953510e-04, 1.55212783e-05, 1.25402799e-08, 9.99544795e-07,\n",
       "        8.17366526e-06, 2.72108949e-08, 1.74187604e-04, 1.87145881e-04,\n",
       "        3.06797847e-06, 1.06517041e-06, 4.68293620e-05, 3.69726185e-05,\n",
       "        2.07854591e-05, 3.15584501e-08, 1.12780863e-05, 5.52929984e-03,\n",
       "        7.94684092e-06, 2.10443943e-07, 3.01263100e-07, 3.21402295e-05,\n",
       "        3.76093813e-04, 1.49576806e-06, 6.28505063e-07, 9.54432471e-04,\n",
       "        8.21725056e-02, 1.32788114e-09, 6.92735330e-06, 7.59066666e-07,\n",
       "        2.66032281e-08, 9.61178594e-05, 6.73856789e-07, 1.75900175e-04,\n",
       "        3.39386111e-06, 5.40426051e-08, 1.32360844e-06, 7.37425535e-06,\n",
       "        4.33886540e-04, 2.46703036e-09, 1.46602497e-06, 2.36742309e-07,\n",
       "        7.98589826e-06, 2.31735285e-07, 1.41426781e-07, 1.64469966e-05,\n",
       "        2.63319234e-05, 5.99717197e-04, 5.29130466e-06, 1.16291856e-04,\n",
       "        7.42793276e-08, 1.13049801e-02, 5.86517288e-08, 9.01026433e-05,\n",
       "        1.19916206e-06, 8.97955701e-08, 1.43748025e-06, 8.16285983e-03,\n",
       "        4.28697094e-04, 8.06016942e-06, 2.34946356e-07, 1.86419800e-06,\n",
       "        3.94448871e-05, 1.41717408e-06, 5.91573901e-09, 5.08091624e-10,\n",
       "        2.00980503e-06, 3.43004740e-06, 2.59227448e-07, 1.20349384e-08,\n",
       "        1.06280359e-05, 2.56759063e-06, 2.56117323e-06, 1.15648675e-07,\n",
       "        2.01119237e-05, 4.82924634e-06, 1.08630134e-04, 2.59078405e-07,\n",
       "        6.85407826e-07, 3.49411152e-06, 2.29051283e-12, 1.58915922e-04,\n",
       "        1.14036811e-04, 3.38770212e-09, 3.78368213e-06, 1.80130955e-04,\n",
       "        6.82513019e-07, 3.03258986e-07, 3.06656432e-07, 4.88205671e-07,\n",
       "        4.81437668e-11, 4.38718969e-04, 1.82591641e-04, 7.30959130e-07,\n",
       "        3.05042704e-06, 7.63843364e-11, 3.02688772e-04, 1.10526475e-04,\n",
       "        2.03073523e-05, 3.04584296e-06, 1.19960234e-02, 1.27543407e-08,\n",
       "        1.72399541e-05, 6.66841471e-10, 3.12226089e-09, 4.01620946e-06,\n",
       "        2.06947888e-07, 1.00171337e-05, 6.61410184e-07, 3.14435091e-08,\n",
       "        4.77365575e-05, 1.01785591e-09, 8.00160649e-07, 1.28501583e-08,\n",
       "        5.86315610e-13, 2.80897689e-06, 6.97519908e-07, 6.36341110e-06,\n",
       "        5.01536624e-06, 3.57029052e-07, 1.98512316e-06, 9.17862915e-03,\n",
       "        3.29876239e-05, 5.98909233e-09, 3.54924268e-05, 5.76268212e-05,\n",
       "        2.85632183e-07, 2.36862819e-04, 1.16629456e-03, 1.61838194e-04,\n",
       "        5.07457253e-06, 5.12437437e-05, 2.48742793e-07, 8.15750245e-05,\n",
       "        1.60202684e-09, 1.83202280e-06, 2.49982235e-09, 4.98550435e-06,\n",
       "        1.33130740e-09, 9.54485646e-09, 1.22301973e-08, 2.44813609e-08,\n",
       "        1.01870292e-12, 6.87167662e-13, 3.49528796e-06, 1.06811625e-04,\n",
       "        1.41533979e-10, 1.31978780e-01, 5.90673096e-07, 1.91725160e-08,\n",
       "        7.30170768e-06, 9.19878516e-07, 5.97320016e-09, 1.14308079e-07,\n",
       "        7.32871631e-05, 1.09171721e-08, 4.42538476e-05, 8.12590497e-06,\n",
       "        7.30199972e-08, 4.20914002e-04, 2.91437230e-09, 5.64971160e-11,\n",
       "        5.14479623e-08, 1.68183967e-12, 8.63093362e-07, 2.15952241e-07,\n",
       "        1.23114887e-07, 2.48842085e-08, 4.33703171e-08, 1.40419779e-05,\n",
       "        4.13085615e-07, 3.34204997e-10, 2.91259239e-10, 1.32980688e-06,\n",
       "        1.16404476e-06, 3.26142049e-06, 8.64983633e-07, 1.70636793e-06,\n",
       "        2.22983715e-11, 7.44682848e-06, 1.57112845e-06, 2.62457288e-05,\n",
       "        7.66054953e-08, 7.78376830e-08, 8.70761960e-06, 5.19006733e-07,\n",
       "        4.11853864e-04, 4.56510179e-06, 2.26167330e-07, 2.56729186e-06,\n",
       "        2.05898822e-11, 3.87883983e-06, 4.09022018e-11, 3.77440468e-10,\n",
       "        9.94177628e-03, 4.98550579e-09, 5.82155227e-11, 1.64713761e-12,\n",
       "        1.99647521e-09, 5.55487709e-08, 5.03377109e-08, 2.72170723e-06,\n",
       "        1.69095623e-11, 5.13461055e-06, 2.17671587e-08, 2.24275391e-06,\n",
       "        4.20893315e-07, 3.41373679e-10, 2.83671808e-10, 5.51425774e-06,\n",
       "        6.77321393e-12, 7.02880716e-05, 4.04520778e-10, 3.80878706e-09,\n",
       "        8.98318859e-08, 2.41915217e-07, 8.15558343e-10, 7.57819640e-11,\n",
       "        4.93331020e-09, 1.72277059e-09, 1.86592408e-09, 5.96383165e-09,\n",
       "        8.38491943e-08, 4.72459831e-08, 8.65827242e-05, 6.88585688e-10,\n",
       "        5.96309562e-08, 2.55657422e-11, 7.46443675e-07, 1.11723250e-06,\n",
       "        1.34193240e-10, 1.50889249e-11, 2.63819811e-06, 5.63321964e-06,\n",
       "        1.07179916e-11, 5.03679365e-09, 2.46907546e-11, 1.24003748e-12,\n",
       "        2.65261747e-07, 2.20166366e-05, 1.50106398e-08, 6.56969035e-10,\n",
       "        8.97403788e-13, 6.17355386e-12, 7.56754753e-06, 2.00841496e-05,\n",
       "        2.01621589e-07, 5.23581475e-05, 6.54989040e-12, 3.10267190e-08,\n",
       "        3.13869097e-10, 8.46583970e-10, 3.41172993e-11, 1.59735858e-09,\n",
       "        1.39044346e-06, 8.50464921e-10, 3.89692758e-07, 1.64520608e-09,\n",
       "        3.51911076e-05, 1.55566422e-08, 2.06636018e-04, 3.14402896e-05,\n",
       "        1.27844380e-09, 1.28463296e-09, 3.44568751e-09, 3.50660621e-08,\n",
       "        9.32265664e-07, 1.59669082e-06, 1.89596619e-07, 2.42788262e-10,\n",
       "        6.04311836e-08, 5.87460119e-04, 1.32309113e-04, 2.62489834e-07,\n",
       "        1.76248525e-03, 1.33750727e-02, 9.14568500e-06, 2.53120058e-09,\n",
       "        1.53609725e-09, 1.41720577e-07, 3.60778629e-09, 8.11666780e-07,\n",
       "        3.21438165e-09, 2.23730590e-10, 3.08271572e-12, 1.36798602e-12,\n",
       "        9.29197554e-08, 9.07844966e-10, 5.17028639e-07, 4.07162665e-10,\n",
       "        6.77711354e-09, 3.09261668e-04, 1.16453985e-10, 5.62146452e-05,\n",
       "        6.72277110e-07, 1.98001771e-12, 4.61644078e-07, 3.12976976e-04,\n",
       "        1.17672289e-12, 3.77564854e-11, 5.78721836e-12, 4.01687329e-11,\n",
       "        4.00286956e-11, 8.55646370e-12, 5.41029081e-13, 1.57994076e-10,\n",
       "        1.27795005e-11, 9.78141543e-07, 1.98565697e-08, 3.35933903e-09,\n",
       "        1.07272915e-12, 1.23129622e-08, 1.87667180e-08, 7.13404370e-05,\n",
       "        3.40118369e-08, 6.01298609e-07, 7.45134230e-07, 3.26791145e-08,\n",
       "        1.29431507e-10, 1.83234590e-06, 8.29021130e-10, 4.27621155e-04,\n",
       "        1.12502698e-06, 6.04304932e-06, 1.30206912e-08, 2.59893778e-13,\n",
       "        1.29867868e-08, 9.72320777e-06, 1.46243821e-07, 1.01731780e-06,\n",
       "        2.87048074e-09, 6.94119623e-11, 6.91074433e-08, 4.25092003e-06,\n",
       "        4.34920958e-06, 9.80405757e-10, 5.84789575e-07, 1.12476235e-11,\n",
       "        5.20112131e-09, 1.61597893e-06, 2.34183867e-10, 6.92278945e-08,\n",
       "        3.02913528e-11, 9.72105667e-08, 5.37333381e-06, 3.96478579e-11,\n",
       "        2.08123634e-08, 1.12814426e-07, 8.02485689e-10, 9.26820339e-12,\n",
       "        1.01482624e-12, 3.17703730e-08, 3.53209471e-04, 1.47650189e-06,\n",
       "        1.15571947e-05, 1.21780795e-06, 6.26704377e-06, 1.62887429e-11,\n",
       "        1.96309125e-09, 1.03399463e-10, 2.45549040e-06, 6.95388590e-05,\n",
       "        1.16268790e-08, 9.64563152e-11, 1.31084425e-06, 1.77643127e-08,\n",
       "        1.71566472e-09, 7.09661117e-13, 5.67399600e-12, 2.50105978e-11,\n",
       "        2.01973351e-11, 8.88198670e-08, 2.79173473e-12, 2.60863112e-06,\n",
       "        1.47745050e-05, 1.95242572e-10, 1.43188128e-10, 2.78035968e-05,\n",
       "        5.55461233e-12, 5.18948873e-05, 3.45086848e-10, 2.61558162e-04,\n",
       "        5.52845014e-09, 1.41841272e-04, 1.44501880e-12, 5.57537482e-04,\n",
       "        8.98561758e-09, 4.11537585e-05, 4.01010058e-10, 3.80818642e-06,\n",
       "        5.17083947e-07, 1.66515501e-09, 1.07941567e-09, 3.72135482e-11,\n",
       "        6.80432644e-09, 3.04397986e-07, 6.18972484e-10, 1.08688419e-05,\n",
       "        2.25733408e-12, 7.55259055e-09, 3.68389694e-11, 2.63681819e-11,\n",
       "        2.88569463e-11, 3.31237925e-06, 1.29040251e-11, 4.50367243e-11,\n",
       "        2.96816669e-08, 5.72584327e-08, 3.67814937e-04, 1.74360775e-08,\n",
       "        2.21750840e-10, 5.35810286e-05, 3.40295507e-08, 2.35754584e-07,\n",
       "        2.25646062e-08, 6.94178937e-08, 1.80772943e-07, 2.41789277e-09,\n",
       "        3.59772763e-08, 1.83752735e-10, 2.17676962e-12, 2.43686460e-10,\n",
       "        1.29793270e-05, 2.35060409e-11, 9.61383317e-12, 5.14032935e-13,\n",
       "        9.52421909e-12, 2.69076539e-10, 9.98387404e-05, 3.38417635e-07,\n",
       "        4.01270029e-07, 2.99309422e-09, 1.85855118e-08, 1.02285593e-08,\n",
       "        8.85269705e-11, 5.18843406e-11, 1.26710318e-11, 2.40837322e-10,\n",
       "        4.74103928e-07, 7.13919410e-11, 3.14955950e-09, 1.38236047e-07,\n",
       "        1.61154784e-10, 7.97703805e-08, 9.35454921e-07, 3.74539522e-05,\n",
       "        9.72618430e-10, 2.58038693e-08, 1.13016220e-11, 1.95980014e-08,\n",
       "        7.77950794e-12, 9.52233084e-12, 3.88563492e-09, 4.24062702e-10,\n",
       "        2.58837041e-04, 1.07358133e-07, 8.83198584e-11, 4.29027693e-07,\n",
       "        2.80437118e-09, 2.06342669e-11, 3.55746654e-09, 8.53529331e-11,\n",
       "        9.05856794e-08, 1.94624658e-06, 6.13905038e-10, 2.42760265e-08,\n",
       "        2.21202945e-10, 2.80621612e-06, 1.89729274e-10, 3.25452998e-09,\n",
       "        1.20073881e-10, 1.52351673e-11, 4.00725286e-04, 3.42349995e-05,\n",
       "        6.56179408e-12, 3.24050831e-08, 1.98325623e-07, 3.84584517e-11,\n",
       "        7.43843813e-08, 2.04627764e-13, 7.81712473e-08, 6.65848557e-11,\n",
       "        1.21149020e-08, 1.47098746e-07, 5.14645652e-11, 2.14192681e-08,\n",
       "        1.14265932e-12, 1.43317308e-07, 3.71938622e-05, 3.67452769e-04,\n",
       "        6.15427848e-14, 6.78446854e-10, 8.56325144e-09, 5.62589586e-10,\n",
       "        1.06941261e-10, 3.76764370e-10, 4.45809221e-08, 1.11212794e-04,\n",
       "        1.72998716e-05, 3.53544721e-10, 2.92772140e-09, 5.52614843e-10,\n",
       "        1.99180661e-07, 5.64187030e-06, 3.83729750e-13, 1.33366636e-12,\n",
       "        3.18540951e-05, 1.90392413e-09, 1.42433089e-06, 1.24589150e-11,\n",
       "        2.62210340e-11, 3.68384456e-09, 2.55306328e-13, 1.89129771e-11,\n",
       "        2.04165786e-13, 2.88364818e-11, 5.40544831e-11, 1.18960038e-07,\n",
       "        3.19425215e-11, 2.81387882e-11, 1.55406440e-06, 1.56348706e-05,\n",
       "        5.97003653e-12, 4.36754669e-12, 1.64667213e-07, 1.82481391e-10,\n",
       "        8.56782645e-09, 2.99060921e-05, 3.32035370e-07, 7.22246308e-12,\n",
       "        9.76485293e-09, 2.37652554e-11, 5.56642772e-06, 1.27956059e-06,\n",
       "        3.58210572e-10, 2.57782897e-08, 1.71119410e-07, 4.30747271e-10,\n",
       "        5.10949540e-05, 1.49263657e-11, 6.03334342e-07, 8.27308611e-07,\n",
       "        4.73763077e-11, 4.62284586e-11, 5.48346812e-10, 1.77879689e-09,\n",
       "        2.52782598e-07, 5.35773148e-10, 6.98859156e-12, 3.76084962e-11,\n",
       "        5.58837710e-05, 2.65695140e-11, 1.51003053e-06, 4.81089113e-10,\n",
       "        1.39858916e-10, 1.01785380e-09, 5.35225642e-10, 4.98029257e-11,\n",
       "        2.00018387e-13, 6.66525295e-07, 4.47926185e-09, 4.48130595e-12,\n",
       "        1.37256775e-08, 1.20875114e-07, 2.78996648e-09, 1.15025806e-12,\n",
       "        6.51024012e-10, 1.64181202e-08, 2.26107553e-11, 1.58289076e-10,\n",
       "        3.82993655e-08, 4.05594043e-13, 9.01800856e-11, 3.83031473e-09,\n",
       "        3.56416147e-10, 1.44105911e-07, 2.61457899e-04, 6.65036526e-10,\n",
       "        3.11320001e-08, 1.29237385e-10, 2.14546276e-07, 3.45587933e-11,\n",
       "        1.58234457e-06, 2.48533150e-09, 4.03886872e-07, 3.15118336e-06,\n",
       "        1.43687437e-10, 1.70242931e-10, 1.61201608e-09, 8.43548495e-11,\n",
       "        5.38928102e-09, 1.26824614e-12, 5.82878965e-06, 2.56160666e-11,\n",
       "        4.06788168e-08, 2.81013364e-12, 3.25141638e-03, 6.89839366e-11,\n",
       "        1.07815898e-08, 1.38507803e-12, 3.03712893e-12, 1.63432687e-05,\n",
       "        3.13654027e-06, 1.67523524e-08, 1.76848067e-11, 1.00460049e-07,\n",
       "        4.94705214e-11, 1.32247761e-12, 3.54834228e-05, 1.35383425e-12,\n",
       "        1.08128261e-05, 2.50911680e-10, 2.83704544e-08, 3.81317672e-13,\n",
       "        2.82863297e-08, 1.47851961e-06, 1.10311009e-06, 1.84344749e-12,\n",
       "        4.75186383e-12, 2.28141808e-08, 4.15282011e-06, 6.52129392e-12,\n",
       "        2.34518811e-05, 3.90539157e-07, 1.36321634e-02, 4.08755287e-11,\n",
       "        1.30252675e-11, 9.88863852e-11, 3.00035066e-11, 1.55370692e-12,\n",
       "        5.65588375e-13, 3.84260090e-09, 1.20156868e-13, 3.34778250e-08,\n",
       "        1.63794276e-08, 2.51557976e-11, 1.62451823e-11, 2.02927640e-06,\n",
       "        2.57783985e-11, 2.28278463e-08, 2.18683947e-02, 2.40873313e-03,\n",
       "        1.20368441e-06, 2.00862612e-12, 1.15856470e-10, 1.18603474e-10,\n",
       "        5.58715791e-12, 1.41517506e-10, 1.10014409e-14, 3.10774958e-05,\n",
       "        4.46509774e-11, 2.51105288e-03, 1.07158360e-09, 4.59321612e-08,\n",
       "        1.69110767e-11, 1.61496580e-11, 4.07454365e-12, 1.12890762e-12,\n",
       "        3.04028234e-08, 1.69746928e-09, 3.93568025e-11, 1.37982624e-07,\n",
       "        4.98996981e-12, 9.17580337e-07, 1.84798964e-11, 4.50974119e-11,\n",
       "        1.93975652e-07, 1.31794011e-12, 4.67142748e-11, 7.29216310e-07,\n",
       "        1.17923280e-08, 4.42193296e-11, 2.68003481e-10, 1.48703592e-07,\n",
       "        1.24915331e-08, 1.96490919e-06, 1.64696139e-05, 1.14057401e-11,\n",
       "        2.26862285e-05, 1.39683610e-12, 6.50003276e-05, 1.44151482e-08,\n",
       "        2.06227213e-09, 8.87690442e-12, 2.59483679e-09, 1.56732870e-06,\n",
       "        1.01351683e-08, 6.53414989e-10, 1.22918180e-12, 6.89068464e-12,\n",
       "        2.71345489e-12, 3.07413296e-11, 1.57816295e-11, 9.88126885e-07,\n",
       "        9.65804547e-10, 7.27008785e-13, 2.32342501e-07, 1.88037674e-08,\n",
       "        2.43671337e-12, 6.32482568e-07, 2.09596888e-11, 8.49765343e-08,\n",
       "        1.49017165e-13, 1.24475646e-05, 8.21426330e-11, 1.30594167e-08,\n",
       "        2.52709637e-12, 2.45528997e-09, 1.33007372e-09, 3.41956451e-07,\n",
       "        5.93104721e-13, 4.61108755e-12, 6.84069164e-07, 1.82171278e-09,\n",
       "        3.44911105e-14, 3.30883931e-10, 1.92947481e-12, 2.77772760e-09,\n",
       "        2.45669249e-11, 1.27785512e-07, 2.70980578e-14, 7.33213056e-12,\n",
       "        1.52033746e-12, 3.82992233e-08, 2.24839241e-08, 2.19018736e-09,\n",
       "        2.33040393e-11, 2.97144069e-08, 3.84827956e-08, 2.15262363e-09,\n",
       "        7.28196045e-11, 3.77829634e-09, 2.02673295e-12, 1.65009297e-07,\n",
       "        1.26594603e-11, 2.84832162e-13, 1.77655474e-10, 6.40504880e-12,\n",
       "        2.94480422e-08, 1.42404417e-08, 7.36665232e-13, 1.44162731e-12,\n",
       "        6.34598649e-08, 1.14687267e-04, 4.30028790e-11, 1.05775021e-10,\n",
       "        2.15914109e-09, 1.31859274e-10, 2.53236920e-09, 1.27200897e-11,\n",
       "        6.81803192e-09, 2.80195991e-07, 2.93129479e-11, 1.44963658e-13,\n",
       "        3.60840906e-11, 3.38283672e-11, 3.59849130e-11, 3.95051908e-11,\n",
       "        2.75787518e-11, 2.78125543e-11, 2.82400874e-11, 1.78428296e-11,\n",
       "        4.38340579e-11, 3.74360536e-13, 6.22809804e-09, 8.53763414e-12,\n",
       "        5.10618792e-09, 3.92774632e-11, 9.28556537e-11, 4.76631159e-13,\n",
       "        7.81898418e-13, 1.27205997e-11, 1.24090165e-11, 5.91286593e-08,\n",
       "        9.59753834e-06, 3.11033332e-08, 4.89379512e-03, 1.07221378e-08,\n",
       "        3.95815380e-10, 3.62446705e-11, 3.69089703e-10, 4.54028308e-12,\n",
       "        7.86441902e-14, 2.36932470e-11, 3.16769631e-11, 4.84857480e-07,\n",
       "        9.79538939e-09, 3.81285190e-08, 3.21394265e-11, 7.07795073e-11,\n",
       "        4.85133276e-14, 3.55876418e-12, 6.62481051e-12, 6.06456274e-11,\n",
       "        7.87803295e-11, 4.97904193e-06, 2.35182185e-09, 1.28073935e-07,\n",
       "        1.55598555e-05, 2.65925337e-11, 1.01530795e-09, 3.17821289e-08,\n",
       "        1.85670489e-12, 5.84924470e-11, 8.29463651e-11, 5.22990007e-09,\n",
       "        1.01474024e-10, 1.79783976e-13, 2.28884245e-10, 3.61605676e-11,\n",
       "        1.06834443e-06, 7.20299363e-13, 6.08457817e-09, 6.20236218e-09,\n",
       "        2.91831012e-13, 3.67347056e-11, 3.38278849e-09, 3.21604062e-07,\n",
       "        5.44689072e-10, 2.91494021e-12, 2.56713606e-09, 9.92223109e-11,\n",
       "        5.16915044e-08, 5.97338498e-12, 1.65997130e-06, 8.95497825e-12,\n",
       "        9.67361444e-08, 5.59140956e-09, 6.07584859e-12, 1.14141576e-08,\n",
       "        4.54957643e-12, 6.57353610e-07, 7.72921851e-07, 9.47009901e-11,\n",
       "        1.17220242e-12, 4.72581661e-11, 8.88978682e-11, 3.40370161e-06,\n",
       "        1.83003467e-05, 1.24175187e-07, 9.12734413e-06, 9.35104399e-05,\n",
       "        1.98822249e-06, 1.78949314e-12, 1.51840470e-06, 5.10398635e-13,\n",
       "        4.50750548e-11, 5.91748317e-11, 3.31637387e-12, 1.70755188e-13,\n",
       "        4.90522943e-12, 6.42495002e-10, 3.00462849e-11, 3.00315274e-13,\n",
       "        4.18104218e-10, 3.54633567e-09, 1.15245866e-08, 5.21854539e-11,\n",
       "        3.21924362e-11, 1.63948789e-05, 4.40339404e-10, 5.50611119e-12,\n",
       "        6.81054497e-13, 1.46493960e-07, 1.00871089e-08, 4.44835391e-10,\n",
       "        7.86933782e-11, 2.16579327e-04, 1.78301054e-11, 2.02333497e-11,\n",
       "        1.27539096e-07, 5.96505788e-06, 8.93770908e-12, 1.54523627e-09,\n",
       "        3.88109059e-11, 5.88515613e-05, 6.30597019e-10, 8.36553700e-13,\n",
       "        2.57652891e-06, 3.35794259e-09, 4.23525187e-10, 4.25460883e-07,\n",
       "        2.80685573e-08, 1.60522295e-09, 6.50129639e-09, 1.05418829e-08]],\n",
       "      dtype=float32)"
      ]
     },
     "execution_count": 195,
     "metadata": {},
     "output_type": "execute_result"
    }
   ],
   "source": [
    "predicted_proba"
   ]
  },
  {
   "cell_type": "markdown",
   "metadata": {
    "id": "zjQWWYJpTEPy"
   },
   "source": [
    "## Практическое задание\n",
    "1. Попробуйте обучить нейронную сеть RNN/LSTM/GRU на любом другом датасете (любимый временной ряд, текст на русском (другом языке) как генератор или классификатор, или прилагаемый набор airline-passengers - пасажиропоток для авиалиний). \n",
    "\n",
    "2. Опишите, какой результат вы получили? Что помогло вам улучшить ее точность?"
   ]
  },
  {
   "cell_type": "markdown",
   "metadata": {
    "id": "wdG-ZbOpXa1S"
   },
   "source": [
    "https://drive.google.com/file/d/1xwXieDVy1RKdfiJ6am_nNWp6XhAYdhNb"
   ]
  },
  {
   "cell_type": "code",
   "execution_count": null,
   "metadata": {
    "colab": {
     "base_uri": "https://localhost:8080/",
     "height": 424
    },
    "id": "7Ao45XmO90II",
    "outputId": "9db870e1-bfe1-4157-d0c6-88386bf87343"
   },
   "outputs": [
    {
     "data": {
      "text/html": [
       "\n",
       "  <div id=\"df-6dd32836-8db3-4c72-ada9-da78909da665\">\n",
       "    <div class=\"colab-df-container\">\n",
       "      <div>\n",
       "<style scoped>\n",
       "    .dataframe tbody tr th:only-of-type {\n",
       "        vertical-align: middle;\n",
       "    }\n",
       "\n",
       "    .dataframe tbody tr th {\n",
       "        vertical-align: top;\n",
       "    }\n",
       "\n",
       "    .dataframe thead th {\n",
       "        text-align: right;\n",
       "    }\n",
       "</style>\n",
       "<table border=\"1\" class=\"dataframe\">\n",
       "  <thead>\n",
       "    <tr style=\"text-align: right;\">\n",
       "      <th></th>\n",
       "      <th>Month</th>\n",
       "      <th>Passengers</th>\n",
       "    </tr>\n",
       "  </thead>\n",
       "  <tbody>\n",
       "    <tr>\n",
       "      <th>0</th>\n",
       "      <td>1949-01</td>\n",
       "      <td>112</td>\n",
       "    </tr>\n",
       "    <tr>\n",
       "      <th>1</th>\n",
       "      <td>1949-02</td>\n",
       "      <td>118</td>\n",
       "    </tr>\n",
       "    <tr>\n",
       "      <th>2</th>\n",
       "      <td>1949-03</td>\n",
       "      <td>132</td>\n",
       "    </tr>\n",
       "    <tr>\n",
       "      <th>3</th>\n",
       "      <td>1949-04</td>\n",
       "      <td>129</td>\n",
       "    </tr>\n",
       "    <tr>\n",
       "      <th>4</th>\n",
       "      <td>1949-05</td>\n",
       "      <td>121</td>\n",
       "    </tr>\n",
       "    <tr>\n",
       "      <th>...</th>\n",
       "      <td>...</td>\n",
       "      <td>...</td>\n",
       "    </tr>\n",
       "    <tr>\n",
       "      <th>139</th>\n",
       "      <td>1960-08</td>\n",
       "      <td>606</td>\n",
       "    </tr>\n",
       "    <tr>\n",
       "      <th>140</th>\n",
       "      <td>1960-09</td>\n",
       "      <td>508</td>\n",
       "    </tr>\n",
       "    <tr>\n",
       "      <th>141</th>\n",
       "      <td>1960-10</td>\n",
       "      <td>461</td>\n",
       "    </tr>\n",
       "    <tr>\n",
       "      <th>142</th>\n",
       "      <td>1960-11</td>\n",
       "      <td>390</td>\n",
       "    </tr>\n",
       "    <tr>\n",
       "      <th>143</th>\n",
       "      <td>1960-12</td>\n",
       "      <td>432</td>\n",
       "    </tr>\n",
       "  </tbody>\n",
       "</table>\n",
       "<p>144 rows × 2 columns</p>\n",
       "</div>\n",
       "      <button class=\"colab-df-convert\" onclick=\"convertToInteractive('df-6dd32836-8db3-4c72-ada9-da78909da665')\"\n",
       "              title=\"Convert this dataframe to an interactive table.\"\n",
       "              style=\"display:none;\">\n",
       "        \n",
       "  <svg xmlns=\"http://www.w3.org/2000/svg\" height=\"24px\"viewBox=\"0 0 24 24\"\n",
       "       width=\"24px\">\n",
       "    <path d=\"M0 0h24v24H0V0z\" fill=\"none\"/>\n",
       "    <path d=\"M18.56 5.44l.94 2.06.94-2.06 2.06-.94-2.06-.94-.94-2.06-.94 2.06-2.06.94zm-11 1L8.5 8.5l.94-2.06 2.06-.94-2.06-.94L8.5 2.5l-.94 2.06-2.06.94zm10 10l.94 2.06.94-2.06 2.06-.94-2.06-.94-.94-2.06-.94 2.06-2.06.94z\"/><path d=\"M17.41 7.96l-1.37-1.37c-.4-.4-.92-.59-1.43-.59-.52 0-1.04.2-1.43.59L10.3 9.45l-7.72 7.72c-.78.78-.78 2.05 0 2.83L4 21.41c.39.39.9.59 1.41.59.51 0 1.02-.2 1.41-.59l7.78-7.78 2.81-2.81c.8-.78.8-2.07 0-2.86zM5.41 20L4 18.59l7.72-7.72 1.47 1.35L5.41 20z\"/>\n",
       "  </svg>\n",
       "      </button>\n",
       "      \n",
       "  <style>\n",
       "    .colab-df-container {\n",
       "      display:flex;\n",
       "      flex-wrap:wrap;\n",
       "      gap: 12px;\n",
       "    }\n",
       "\n",
       "    .colab-df-convert {\n",
       "      background-color: #E8F0FE;\n",
       "      border: none;\n",
       "      border-radius: 50%;\n",
       "      cursor: pointer;\n",
       "      display: none;\n",
       "      fill: #1967D2;\n",
       "      height: 32px;\n",
       "      padding: 0 0 0 0;\n",
       "      width: 32px;\n",
       "    }\n",
       "\n",
       "    .colab-df-convert:hover {\n",
       "      background-color: #E2EBFA;\n",
       "      box-shadow: 0px 1px 2px rgba(60, 64, 67, 0.3), 0px 1px 3px 1px rgba(60, 64, 67, 0.15);\n",
       "      fill: #174EA6;\n",
       "    }\n",
       "\n",
       "    [theme=dark] .colab-df-convert {\n",
       "      background-color: #3B4455;\n",
       "      fill: #D2E3FC;\n",
       "    }\n",
       "\n",
       "    [theme=dark] .colab-df-convert:hover {\n",
       "      background-color: #434B5C;\n",
       "      box-shadow: 0px 1px 3px 1px rgba(0, 0, 0, 0.15);\n",
       "      filter: drop-shadow(0px 1px 2px rgba(0, 0, 0, 0.3));\n",
       "      fill: #FFFFFF;\n",
       "    }\n",
       "  </style>\n",
       "\n",
       "      <script>\n",
       "        const buttonEl =\n",
       "          document.querySelector('#df-6dd32836-8db3-4c72-ada9-da78909da665 button.colab-df-convert');\n",
       "        buttonEl.style.display =\n",
       "          google.colab.kernel.accessAllowed ? 'block' : 'none';\n",
       "\n",
       "        async function convertToInteractive(key) {\n",
       "          const element = document.querySelector('#df-6dd32836-8db3-4c72-ada9-da78909da665');\n",
       "          const dataTable =\n",
       "            await google.colab.kernel.invokeFunction('convertToInteractive',\n",
       "                                                     [key], {});\n",
       "          if (!dataTable) return;\n",
       "\n",
       "          const docLinkHtml = 'Like what you see? Visit the ' +\n",
       "            '<a target=\"_blank\" href=https://colab.research.google.com/notebooks/data_table.ipynb>data table notebook</a>'\n",
       "            + ' to learn more about interactive tables.';\n",
       "          element.innerHTML = '';\n",
       "          dataTable['output_type'] = 'display_data';\n",
       "          await google.colab.output.renderOutput(dataTable, element);\n",
       "          const docLink = document.createElement('div');\n",
       "          docLink.innerHTML = docLinkHtml;\n",
       "          element.appendChild(docLink);\n",
       "        }\n",
       "      </script>\n",
       "    </div>\n",
       "  </div>\n",
       "  "
      ],
      "text/plain": [
       "       Month  Passengers\n",
       "0    1949-01         112\n",
       "1    1949-02         118\n",
       "2    1949-03         132\n",
       "3    1949-04         129\n",
       "4    1949-05         121\n",
       "..       ...         ...\n",
       "139  1960-08         606\n",
       "140  1960-09         508\n",
       "141  1960-10         461\n",
       "142  1960-11         390\n",
       "143  1960-12         432\n",
       "\n",
       "[144 rows x 2 columns]"
      ]
     },
     "execution_count": 103,
     "metadata": {},
     "output_type": "execute_result"
    }
   ],
   "source": [
    "pd.read_csv('data/airline-passengers.csv')"
   ]
  },
  {
   "cell_type": "markdown",
   "metadata": {
    "id": "0G9qw7eUTEP0"
   },
   "source": [
    "## Дополнительные материалы\n",
    "\n",
    "1. [Оригинальная научная статья по LSTM](https://www.bioinf.jku.at/publications/older/2604.pdf)\n",
    "2. [Оригинальная научная статья по GRU](https://arxiv.org/abs/1406.1078)\n",
    "3. [Введение в RNN Рекуррентные Нейронные Сети для начинающих](https://python-scripts.com/recurrent-neural-network)\n",
    "4. [Введение в RNN](https://youtu.be/EBP3pqPeN8I)\n",
    "5. [Simple LSTM](https://nicodjimenez.github.io/2014/08/08/lstm.html)\n",
    "6. [Understanding LSTM Networks](http://colah.github.io/posts/2015-08-Understanding-LSTMs/)\n",
    "7. [Illustrated Guide to LSTM's and GRU's: A step by step explanation](https://youtu.be/8HyCNIVRbSU)\n"
   ]
  },
  {
   "cell_type": "markdown",
   "metadata": {
    "id": "EPk_b3MqTEP2"
   },
   "source": [
    "## Используемая литература \n",
    "\n",
    "Для подготовки данного методического пособия были использованы следующие ресурсы:\n",
    "<ol>\n",
    "    <li>https://www.kaggle.com/thebrownviking20/intro-to-recurrent-neural-networks-lstm-gru</li>\n",
    "    <li>Шакла Н. — Машинное обучение и TensorFlow 2019</li>\n",
    "    <li>Николенко, Кадурин, Архангельская: Глубокое обучение. Погружение в мир нейронных сетей 2018</li>\n",
    "    <li>Aurélien Géron - Hands-On Machine Learning with Scikit-Learn, Keras, and TensorFlow: Concepts, Tools, and Techniques to Build Intelligent Systems 2019</li>\n",
    "    <li>https://towardsdatascience.com/illustrated-guide-to-lstms-and-gru-s-a-step-by-step-explanation-44e9eb85bf21</li>\n",
    "    <li>https://github.com/llSourcell/recurrent_neural_net_demo</li>\n",
    "    \n",
    "</ol>"
   ]
  },
  {
   "cell_type": "markdown",
   "metadata": {
    "id": "dhprYcolWfMp"
   },
   "source": [
    "## Определения\n",
    "\n",
    "**Рекуррентные нейронные сети (Recurrent neural network, RNN)** — вид нейронных сетей, где связи между элементами образуют направленную последовательность. Благодаря этому появляется возможность обрабатывать серии событий во времени или последовательные пространственные цепочки.\n",
    "\n",
    "**Долгая краткосрочная память (Long short-term memory, LSTM)** — разновидность архитектуры рекуррентных нейронных сетей, предложенная в 1997 году Зеппом Хохрайтером и Юргеном Шмидхубером. В отличие от традиционных рекуррентных нейронных сетей, LSTM-сеть хорошо приспособлена к обучению на задачах классификации, обработки и прогнозирования временных рядов в случаях, когда важные события разделены временными лагами с неопределённой продолжительностью и границами.\n",
    "\n",
    "**Управляемые рекуррентные блоки (Gated Recurrent Units, GRU)** — механизм gate'ов для рекуррентных нейронных сетей, представленный в 2014 году. Было установлено, что его эффективность при решении задач моделирования музыкальных и речевых сигналов сопоставима с использованием долгой краткосрочной памяти (LSTM). По сравнению с LSTM у данного механизма меньше параметров, т.к. отсутствует выходной gate.\n",
    "\n",
    "**RNN, LSTM, GRU**\n",
    "<!-- <img src='https://www.mdpi.com/energies/energies-13-00147/article_deploy/html/images/energies-13-00147-g008.png'> -->\n",
    "<img src='images/rnnlstmgru.png' width=500>\n",
    "\n",
    "\n",
    "**Механизм внимания (Attention)** — техника используемая в рекуррентных нейронных сетях (сокр. RNN) и сверточных нейронных сетях (сокр. CNN) для поиска взаимосвязей между различными частями входных и выходных данных.\n",
    "\n",
    "<!-- <img src='https://drive.google.com/uc?export=view&id=1a72Ake6Ai2SdkZ9cQpqmq6-ebjblcQ34' width=450> -->\n",
    "<img src='images/rel1.png' width=450>\n",
    "\n",
    "**Bidirectional LSTM**\n",
    "\n",
    "Двунаправленные рекуррентные нейронные сети (BRNN) соединяют два скрытых слоя противоположных направлений с одним и тем же выходом. При такой форме генеративного глубокого обучения выходной слой может получать информацию из прошлого (назад) и будущего (вперед) состояний одновременно.\n",
    "\n",
    "\n",
    "<!-- <img src='https://drive.google.com/uc?export=view&id=1kCGsUWhUjIoIAquvE7FjaAbYjAQdsyW7' width=550> -->\n",
    "<img src='images/bilstm1.png' width=550>\n",
    "\n",
    "**Эмбэддинг** - векторное представление слов!"
   ]
  },
  {
   "cell_type": "markdown",
   "metadata": {},
   "source": [
    "---"
   ]
  }
 ],
 "metadata": {
  "accelerator": "GPU",
  "colab": {
   "provenance": [],
   "toc_visible": true
  },
  "kernelspec": {
   "display_name": "Python 3 (ipykernel)",
   "language": "python",
   "name": "python3"
  },
  "language_info": {
   "codemirror_mode": {
    "name": "ipython",
    "version": 3
   },
   "file_extension": ".py",
   "mimetype": "text/x-python",
   "name": "python",
   "nbconvert_exporter": "python",
   "pygments_lexer": "ipython3",
   "version": "3.9.16"
  }
 },
 "nbformat": 4,
 "nbformat_minor": 1
}
