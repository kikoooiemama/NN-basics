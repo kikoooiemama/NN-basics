{
 "cells": [
  {
   "cell_type": "markdown",
   "id": "28bf3c4e",
   "metadata": {},
   "source": [
    "# Введение в искусственные нейронные сети\n",
    "# Часть 2. Keras"
   ]
  },
  {
   "cell_type": "markdown",
   "id": "b5afa18e",
   "metadata": {},
   "source": [
    "https://www.tensorflow.org/api_docs/python/tf"
   ]
  },
  {
   "cell_type": "markdown",
   "id": "7fdb11d1",
   "metadata": {},
   "source": [
    "---\n",
    "\n",
    "* Средство для решения задачи моделирования нейронных сетей.\n",
    "\n",
    "* Сейчас входит в состав Tensorflow (c 2019 г.)\n",
    "\n",
    "* Models: контейнер, поддерживающий ту схему, которую мы хотим создать в нейронной сети. Это все структура - граф вычислений. Слои - элементы графа. (Sequntial и Functional API)\n",
    "* Layers: слои (элементы Models), бывают сверточные, рекурентные, полносвязные и служебные.\n",
    "* Preprocessing: utils, обрабобка изображений, обработка текстов.\n",
    "\n",
    "* Слой не содержит активационную функцию. Слой нейронов это чисто веса оказывается!!!!!!!!! Активация - это доп. слои!!!\n",
    "\n",
    "* batch_size - размер пакета, который мы будет использовать при обучении. Данные могут быть большие и сделать обратное распространение ошибки это очень сложная и дорогая операция. Поэтому мы делим данные на блоки (батчи) и просматриваем адаптацию по каждому отдельному батчу (минипакетная обработка - стохастический метод :) )\n",
    "\n",
    "* Validation_split - задается как пропорция относительно того какую часть мы будет использовать для валидации.\n",
    "\n",
    "---"
   ]
  },
  {
   "cell_type": "markdown",
   "id": "4752f055",
   "metadata": {},
   "source": [
    "Оптимизаторы:\n",
    "\n",
    "- SGD - стохастический Градиентный спуск, но сходимость не крутая у него. Надо балансировать скорость обучения и ресурсы\n",
    "- SGD + Momentum - позволяет не дергаться (как в обычном SGD), а сохранять направление. Направление скорости + градиент, типо сглаживание направления и нет такого что мы пойдем обратно. Надо загуглить Nesterov Momentum.\n",
    "\n",
    "Momentum вводит новый параметр: память\n",
    "\n",
    "\n",
    "- RMSProp \n",
    "- Adam - метод адаптивных моментов, когда мы выбираем не только НАПРАВЛЕНИЕ, но и скорость обучения изменяем в зависимости от того как у нас были обучены предыдущие шаги (память)\n",
    "- Nesterov Adam\n",
    "- Еще есть алгоритмы высоких порядков: BFGS (использует 2ые частные производные) - нужно хорошее железо"
   ]
  },
  {
   "cell_type": "markdown",
   "id": "2c44e12f",
   "metadata": {},
   "source": [
    "---\n",
    "\n",
    "Резюме:\n",
    "* Универсального алгоритма нет\n",
    "* Параметры нужно подбирать \n",
    "* Делаем несколько экспериментов в каждой конфигурации\n",
    "\n",
    "---"
   ]
  },
  {
   "cell_type": "markdown",
   "id": "10d91bf9",
   "metadata": {},
   "source": [
    "## Содержание:\n",
    "\n",
    "\n",
    "<ol>\n",
    "<li>Способы создания нейросетей</li>\n",
    "<li>Что такое Keras</li>\n",
    "<li>Основы синтаксиса</li>\n",
    "<li>Простая нейросеть на Keras</li>\n",
    "</ol>"
   ]
  },
  {
   "cell_type": "markdown",
   "id": "81d6ee9f",
   "metadata": {},
   "source": [
    "## Способы создания нейросетей\n",
    "\n",
    "Нейросети это математические модели. Программирую на любом языке можно решать задачи связанные с математикой. Однако встает вопрос какой язык подойдет для этого больше? Не считая учебных нейросетей, нейросети как правило работают с большим количеством данных. Поэтому, чтобы обучение нейросетей происходило с приемлимой скоростью нужно использовать быстрый язык. Например Си. Но так как язык Си это язык с низким уровнем абстракции то программировать и модифицировать на нем нейросети было бы крайне затруднительно. \n",
    "\n",
    "Хорошо может подойти для этих целей язык Python. Так как он с одной стороны имеет высокий уровень абстракции с другой стороны операции с массивами данных могут сделать его библиотеки написанные на Си. Таким способом мы пользовались на первых 2 уроках. Однако если писать нейросети таким образом то будет много повторяющегося кода поскольку архитектуры нейросетей остаются одинаковыми и зачастую у них только меняются параметры. Кроме этого нам может понадобиться хорошо знать архитектуры самых разных нейронных сетей чтобы реализовать их вручную. Работа таким образом затруднительна для людей не имеющих достаточной подготовки, а для имеющих может быть нааборот рутиной.\n",
    "\n",
    "Существуют фреймворки для созданий нейронных сетей. Они являются, пожалуй основным рабочим способом создания нейронных сетей. Вот их неполный перечень:\n",
    "\n",
    "1. TensorFlow\n",
    "2. PyTorch\n",
    "3. Keras\n",
    "4. Microsoft Cognitive Toolkit (CNTK)\n",
    "5. Caffe\n",
    "6. Apache MXNet\n",
    "\n",
    "Упрощение создания нейронных сетей не заканчивается на этих фреймворках. Существуют инструменты которые позволяют создавать нейронные сети без навыков программирования, строя нейросети графически. Примеры: Neural Designer, Deep Learning Studio.\n",
    "\n",
    "Но и на этом не заканчиваются способы создания нейросетей. Существуют инструменты самостоятельно создающие нейронные сети. Это так называемые AutoML инструменты. Вот примеры популярных из них:\n",
    "1. MLBox\n",
    "2. TPOT\n",
    "3. Autokeras\n",
    "\n",
    "Как вы возможно заметили что все эти инструменты отранжированы походы изложения в порядке возрастания уровня абстракции. Соответсвенно говоря о плюсах минусах того или иного инструмента мы должны понимать в принципе плюсы минусы повышения уровня абстракции. Чем он выше тем меньше производительность и тем меньше его гибкость и набоорот.\n",
    "\n",
    "Как уже было сказано наиболее востребованных в рабочих целях является тот уровень абстракции, который дают фреймворки. Будем изучать дальше и пользовать ими. Остается сделать выбор среди них. Самый популярный фреймворк для создания нейросетей TensorFlow. Самый популярный для обучения - Keras. На этом уроке мы изучим с вами Keras, а на следующим TensorFlow. Также стоит отметить, что эти фреймворки взаимосвязаны - Keras как правило работает поверх TensorFlow, а сам TensorFlow позволяет пользовать средствами Keras при необходимости.\n"
   ]
  },
  {
   "cell_type": "markdown",
   "id": "aa7be176",
   "metadata": {},
   "source": [
    "## Что такое Keras\n",
    "\n",
    "Keras появился относительно недавно - в 2015 г. Но за это время стал одним из самых популярных фреймоворков для создания нейросетей и фактически стандартом для использования его начинающими.\n",
    "\n",
    "В чем причина его популярности? Keras позволяет создовать на высоком уровне абстракции. Т.е. на не нужно вручную реализовать с помощью математикаподобного кода те или иные элементы нейронной сети. Мы можем оперировать слоями, количеством нейронов в них, выбором функции активации и т.д. В тоже время keras содержит инструментарий для всего того, что может понадобиться для работы - например ряд встроенных датасетов, возможность обрабатывать изображения.\n",
    "\n",
    "В техническом плане Keras это оболочка над инструментами меньшей степени абстракции. На выбор он может работать поверх TensorFlow, Microsoft Cognitive Toolkit, R, Theano, PlaidML.\n",
    "\n",
    "Keras пользуется также на соревнованиях Kaggle.\n",
    "\n",
    "Однако стоит отметить, что в реальных проектах чаще используется TensorFlow, который мы будем изучать в след. уроках.\n",
    "\n",
    "Keras как и любой высокобастрактный инструмент имеет изъяны в качестве меньшей гибкостью и производительснотью чем тот же tensorflow.\n",
    "\n",
    "Стоит также отметить, что Google официально поддерживает Keras, его автор François Chollet, является сотрудником Google. TensorFlow сам в свою очередь позволяет использовать возможности Keras, т.е. в нем заложена возможность переходить на более высокой уровень абстракции.\n",
    "\n",
    "В данном уроке мы с вами рассмотрим пример обучения нейронной сети с помощью Keras. Но прежде давайте посмотрим на основы синтаксиса Keras и стандартные задачи, которые нужно выполнить при обучении нейронной сети."
   ]
  },
  {
   "cell_type": "markdown",
   "id": "a023fa25",
   "metadata": {},
   "source": [
    "## Основы синтаксиса"
   ]
  },
  {
   "cell_type": "markdown",
   "id": "182a215c",
   "metadata": {},
   "source": [
    "**Установка и работа с данными**"
   ]
  },
  {
   "cell_type": "markdown",
   "id": "a31e6eef",
   "metadata": {},
   "source": [
    "Для начала необходимо установить keras. Надо полагать вы хорошо знакомы с командой pip."
   ]
  },
  {
   "cell_type": "markdown",
   "id": "0885df65",
   "metadata": {},
   "source": [
    "sudo python3 pip install keras"
   ]
  },
  {
   "cell_type": "markdown",
   "id": "2caec959",
   "metadata": {},
   "source": [
    "Давайте попробуем получить датасет mnist и проанализировать его содержимое.\n",
    "Это еще не будет синтаксис Keras, но это часто встречающаяся задача. Не обращайте внимание на предупреждения от TensorFlow. Их часто бывает много и их можно подавить при необходимости."
   ]
  },
  {
   "cell_type": "markdown",
   "id": "a0b8a90a",
   "metadata": {},
   "source": [
    "    import numpy as np\n",
    "    import mnist\n",
    "    import keras\n",
    "\n",
    "    # The first time you run this might be a bit slow, since the\n",
    "    # mnist package has to download and cache the data.\n",
    "    train_images = mnist.train_images()\n",
    "    train_labels = mnist.train_labels()\n",
    "\n",
    "    print(train_images.shape) # (60000, 28, 28)\n",
    "    print(train_labels.shape) # (60000,)"
   ]
  },
  {
   "cell_type": "markdown",
   "id": "a440d331",
   "metadata": {},
   "source": [
    "Что в данном случае мы смогли с вами узнать? Что тренировочный датасет mnist состоит из 60000 изображений 28 на 28 пикселей. Такие небольшие датасеты с маленькими изображениями встретятся вам и в других учебных датасетах."
   ]
  },
  {
   "cell_type": "markdown",
   "id": "812aa44c",
   "metadata": {},
   "source": [
    "Что нам нужно делать теперь? Если скаченный нами датасет не имеет разделения на тренировочный и тестовый то поделить их. В нашем случае наш тренировочный датасет состоит из 60 000 изображений и тестовый из 10 000 и они поделены по умолчанию.\n",
    "\n",
    "Нам теперь нужно конверитировать значения пикселей из вида от 1 до 255 в набор значений от -0.5 до 0.5."
   ]
  },
  {
   "cell_type": "code",
   "execution_count": 1,
   "id": "ddab9da8",
   "metadata": {},
   "outputs": [
    {
     "name": "stderr",
     "output_type": "stream",
     "text": [
      "Using TensorFlow backend.\n",
      "C:\\Users\\kikoooiemama\\anaconda3\\envs\\start_nn\\lib\\site-packages\\tensorflow\\python\\framework\\dtypes.py:516: FutureWarning: Passing (type, 1) or '1type' as a synonym of type is deprecated; in a future version of numpy, it will be understood as (type, (1,)) / '(1,)type'.\n",
      "  _np_qint8 = np.dtype([(\"qint8\", np.int8, 1)])\n",
      "C:\\Users\\kikoooiemama\\anaconda3\\envs\\start_nn\\lib\\site-packages\\tensorflow\\python\\framework\\dtypes.py:517: FutureWarning: Passing (type, 1) or '1type' as a synonym of type is deprecated; in a future version of numpy, it will be understood as (type, (1,)) / '(1,)type'.\n",
      "  _np_quint8 = np.dtype([(\"quint8\", np.uint8, 1)])\n",
      "C:\\Users\\kikoooiemama\\anaconda3\\envs\\start_nn\\lib\\site-packages\\tensorflow\\python\\framework\\dtypes.py:518: FutureWarning: Passing (type, 1) or '1type' as a synonym of type is deprecated; in a future version of numpy, it will be understood as (type, (1,)) / '(1,)type'.\n",
      "  _np_qint16 = np.dtype([(\"qint16\", np.int16, 1)])\n",
      "C:\\Users\\kikoooiemama\\anaconda3\\envs\\start_nn\\lib\\site-packages\\tensorflow\\python\\framework\\dtypes.py:519: FutureWarning: Passing (type, 1) or '1type' as a synonym of type is deprecated; in a future version of numpy, it will be understood as (type, (1,)) / '(1,)type'.\n",
      "  _np_quint16 = np.dtype([(\"quint16\", np.uint16, 1)])\n",
      "C:\\Users\\kikoooiemama\\anaconda3\\envs\\start_nn\\lib\\site-packages\\tensorflow\\python\\framework\\dtypes.py:520: FutureWarning: Passing (type, 1) or '1type' as a synonym of type is deprecated; in a future version of numpy, it will be understood as (type, (1,)) / '(1,)type'.\n",
      "  _np_qint32 = np.dtype([(\"qint32\", np.int32, 1)])\n",
      "C:\\Users\\kikoooiemama\\anaconda3\\envs\\start_nn\\lib\\site-packages\\tensorflow\\python\\framework\\dtypes.py:525: FutureWarning: Passing (type, 1) or '1type' as a synonym of type is deprecated; in a future version of numpy, it will be understood as (type, (1,)) / '(1,)type'.\n",
      "  np_resource = np.dtype([(\"resource\", np.ubyte, 1)])\n",
      "C:\\Users\\kikoooiemama\\anaconda3\\envs\\start_nn\\lib\\site-packages\\tensorboard\\compat\\tensorflow_stub\\dtypes.py:541: FutureWarning: Passing (type, 1) or '1type' as a synonym of type is deprecated; in a future version of numpy, it will be understood as (type, (1,)) / '(1,)type'.\n",
      "  _np_qint8 = np.dtype([(\"qint8\", np.int8, 1)])\n",
      "C:\\Users\\kikoooiemama\\anaconda3\\envs\\start_nn\\lib\\site-packages\\tensorboard\\compat\\tensorflow_stub\\dtypes.py:542: FutureWarning: Passing (type, 1) or '1type' as a synonym of type is deprecated; in a future version of numpy, it will be understood as (type, (1,)) / '(1,)type'.\n",
      "  _np_quint8 = np.dtype([(\"quint8\", np.uint8, 1)])\n",
      "C:\\Users\\kikoooiemama\\anaconda3\\envs\\start_nn\\lib\\site-packages\\tensorboard\\compat\\tensorflow_stub\\dtypes.py:543: FutureWarning: Passing (type, 1) or '1type' as a synonym of type is deprecated; in a future version of numpy, it will be understood as (type, (1,)) / '(1,)type'.\n",
      "  _np_qint16 = np.dtype([(\"qint16\", np.int16, 1)])\n",
      "C:\\Users\\kikoooiemama\\anaconda3\\envs\\start_nn\\lib\\site-packages\\tensorboard\\compat\\tensorflow_stub\\dtypes.py:544: FutureWarning: Passing (type, 1) or '1type' as a synonym of type is deprecated; in a future version of numpy, it will be understood as (type, (1,)) / '(1,)type'.\n",
      "  _np_quint16 = np.dtype([(\"quint16\", np.uint16, 1)])\n",
      "C:\\Users\\kikoooiemama\\anaconda3\\envs\\start_nn\\lib\\site-packages\\tensorboard\\compat\\tensorflow_stub\\dtypes.py:545: FutureWarning: Passing (type, 1) or '1type' as a synonym of type is deprecated; in a future version of numpy, it will be understood as (type, (1,)) / '(1,)type'.\n",
      "  _np_qint32 = np.dtype([(\"qint32\", np.int32, 1)])\n",
      "C:\\Users\\kikoooiemama\\anaconda3\\envs\\start_nn\\lib\\site-packages\\tensorboard\\compat\\tensorflow_stub\\dtypes.py:550: FutureWarning: Passing (type, 1) or '1type' as a synonym of type is deprecated; in a future version of numpy, it will be understood as (type, (1,)) / '(1,)type'.\n",
      "  np_resource = np.dtype([(\"resource\", np.ubyte, 1)])\n"
     ]
    },
    {
     "name": "stdout",
     "output_type": "stream",
     "text": [
      "(60000, 784)\n",
      "(10000, 784)\n"
     ]
    }
   ],
   "source": [
    "import numpy as np\n",
    "import matplotlib.pyplot as plt\n",
    "import keras\n",
    "from keras.datasets import mnist, boston_housing, fashion_mnist # наборы для работы\n",
    "# import tensorflow as tf\n",
    "# import tf.keras as keras\n",
    "\n",
    "(train_imagesi, train_labels), (test_imagesi, testn_labels) = mnist.load_data()\n",
    "\n",
    "# Normalize the images.\n",
    "train_imagesi = (train_imagesi / 127) - 1\n",
    "test_imagesi = (test_imagesi / 127) - 1 \n",
    "\n",
    "# Flatten the images\n",
    "train_images = train_imagesi.reshape((-1, 784))\n",
    "test_images = test_imagesi.reshape((-1, 784))\n",
    "\n",
    "print(train_images.shape) # (60000, 784)\n",
    "print(test_images.shape)  # (10000, 784)"
   ]
  },
  {
   "cell_type": "markdown",
   "id": "9bd53fe5",
   "metadata": {},
   "source": [
    "Данные конечно нужно представить в виде векторов. Вектор длиной 784 (28*28)"
   ]
  },
  {
   "cell_type": "code",
   "execution_count": 2,
   "id": "934fbd11",
   "metadata": {},
   "outputs": [],
   "source": [
    "# import numpy as np\n",
    "# import mnist\n",
    "\n",
    "# train_images = mnist.train_images()\n",
    "# train_labels = mnist.train_labels()\n",
    "# test_images = mnist.test_images()\n",
    "# test_labels = mnist.test_labels()\n",
    "\n",
    "# # Normalize the images.\n",
    "# train_images = (train_images / 255) - 0.5\n",
    "# test_images = (test_images / 255) - 0.5\n",
    "\n",
    "# # Flatten the images.\n",
    "# train_images = train_images.reshape((-1, 784))\n",
    "# test_images = test_images.reshape((-1, 784))\n",
    "\n",
    "# print(train_images.shape) # (60000, 784)\n",
    "# print(test_images.shape)  # (10000, 784)"
   ]
  },
  {
   "cell_type": "markdown",
   "id": "5d9fd755",
   "metadata": {},
   "source": [
    "Изображение 28х28 пикселей"
   ]
  },
  {
   "cell_type": "code",
   "execution_count": 3,
   "id": "2244236b",
   "metadata": {
    "scrolled": true
   },
   "outputs": [
    {
     "data": {
      "text/plain": [
       "(28, 28)"
      ]
     },
     "execution_count": 3,
     "metadata": {},
     "output_type": "execute_result"
    }
   ],
   "source": [
    "n = 1\n",
    "train_imagesi[n, :, :].shape"
   ]
  },
  {
   "cell_type": "code",
   "execution_count": 4,
   "id": "8d362c40",
   "metadata": {
    "scrolled": false
   },
   "outputs": [
    {
     "data": {
      "image/png": "[encoded data removed]",
      "text/plain": [
       "<Figure size 640x480 with 1 Axes>"
      ]
     },
     "metadata": {},
     "output_type": "display_data"
    },
    {
     "name": "stdout",
     "output_type": "stream",
     "text": [
      "Label: 9\n"
     ]
    }
   ],
   "source": [
    "n = 2501\n",
    "plt.imshow(train_imagesi[n, :,:])\n",
    "plt.show()\n",
    "print(f\"Label: {train_labels[n]}\")"
   ]
  },
  {
   "cell_type": "markdown",
   "id": "61e0f8b3",
   "metadata": {},
   "source": [
    "Проверяем keras:"
   ]
  },
  {
   "cell_type": "code",
   "execution_count": 5,
   "id": "f166b8cf",
   "metadata": {
    "scrolled": true
   },
   "outputs": [
    {
     "data": {
      "text/plain": [
       "'tensorflow'"
      ]
     },
     "execution_count": 5,
     "metadata": {},
     "output_type": "execute_result"
    }
   ],
   "source": [
    "keras.backend.backend()"
   ]
  },
  {
   "cell_type": "markdown",
   "id": "aabcc092",
   "metadata": {},
   "source": [
    "Labels:"
   ]
  },
  {
   "cell_type": "code",
   "execution_count": 6,
   "id": "9e903d8a",
   "metadata": {},
   "outputs": [
    {
     "data": {
      "text/plain": [
       "array([5, 0, 4, 1, 9, 2, 1, 3, 1, 4, 3, 5], dtype=uint8)"
      ]
     },
     "execution_count": 6,
     "metadata": {},
     "output_type": "execute_result"
    }
   ],
   "source": [
    "train_labels[:12]"
   ]
  },
  {
   "cell_type": "code",
   "execution_count": 7,
   "id": "e18fb91c",
   "metadata": {},
   "outputs": [
    {
     "data": {
      "text/plain": [
       "array([-1.        , -1.        , -1.        , -1.        , -1.        ,\n",
       "       -0.90551181, -0.80314961, -0.80314961, -0.80314961, -0.80314961])"
      ]
     },
     "execution_count": 7,
     "metadata": {},
     "output_type": "execute_result"
    }
   ],
   "source": [
    "train_images[202, 150:160]"
   ]
  },
  {
   "cell_type": "markdown",
   "id": "5f0945bc",
   "metadata": {},
   "source": [
    "**Создание модели**"
   ]
  },
  {
   "cell_type": "markdown",
   "id": "16bf58e2",
   "metadata": {},
   "source": [
    "После первичной подготовки данных дальше как правило следует создание модели нейронной сети, которая будет учиться на этих данных.\n",
    "\n",
    "Ниже типичный код учебной нейросети - "
   ]
  },
  {
   "cell_type": "markdown",
   "id": "3bad4a55",
   "metadata": {},
   "source": [
    "    # define the keras model\n",
    "    model = Sequential()\n",
    "    model.add(Dense(12, input_dim=8, activation='relu'))\n",
    "    model.add(Dense(8, activation='relu'))\n",
    "    model.add(Dense(1, activation='sigmoid'))"
   ]
  },
  {
   "cell_type": "markdown",
   "id": "d5ece72f",
   "metadata": {},
   "source": [
    "Давайте разберемся с теми командами, которые нам встетились в этом коде.\n",
    "\n",
    "Sequential - позволяет создать нейросети где слои имеют форму стека. Сигнал в них передается от одного слоя к другому. В противовес этой разновидности есть нейросети где сигнал может не сразу передаваться в следующий слой а попадать в цикл. Такие нейросети мы разберем в следующих уроках.\n",
    "\n",
    "Dense (Полносвязный слой)- позволяет каждому нейронну быть связанному с другим нейронном. В противовес этом может быть необходимость не делать так много связей. Неполносвязнные архитектуры мы также разберем на этом курсе, они основа компьютерного зрения.\n",
    "\n",
    "Цифры 12, 8, 1 обозначают количество нейронов в каждом конкретном слое\n",
    "\n",
    "Activation - позволяет определить формулу по которой будет активироваться нейрон."
   ]
  },
  {
   "cell_type": "markdown",
   "id": "b9a3f153",
   "metadata": {},
   "source": [
    "**Компиляция модели**\n",
    "\n",
    "На этапе компиляции модель с заданными параметрами ранее создается. Вот типичный учебный пример:"
   ]
  },
  {
   "cell_type": "markdown",
   "id": "a7712d35",
   "metadata": {},
   "source": [
    "    # создание keras модели\n",
    "    model.compile(loss='binary_crossentropy', optimizer='adam', metrics=['accuracy'])"
   ]
  },
  {
   "cell_type": "markdown",
   "id": "cc3e43bb",
   "metadata": {},
   "source": [
    "Однако на этой стадии мы должны сделать еще некоторые настройки нейронной сети. Разберем команды из кода выше.\n",
    "\n",
    "loss - позволяет задать формулы по которой будет определяться степень ошибки нейронной сети.\n",
    "\n",
    "optimizer - позволяет задать алгоритм, который будет осуществлять изменения весов по всей нейронной сети (backpropagation)\n",
    "\n",
    "metrics - позволяет опредилить кретирии по которым будет оцениваться степень обученности нейросети."
   ]
  },
  {
   "cell_type": "markdown",
   "id": "1e62d53d",
   "metadata": {},
   "source": [
    "**Передача данных для обучения нейросети**\n",
    "\n",
    "После того как нейросеть создана можно передавать ей данные для обучения. Ниже типичный пример кода для этого."
   ]
  },
  {
   "cell_type": "markdown",
   "id": "5565caa9",
   "metadata": {},
   "source": [
    "    # передача обучающего датасета keras модели\n",
    "    model.fit(X, y, epochs=150, batch_size=10, verbose=0)"
   ]
  },
  {
   "cell_type": "markdown",
   "id": "823fe44e",
   "metadata": {},
   "source": [
    "Разберем команды из этого примера.\n",
    "X, y - содержат все обучающие данные\n",
    "epochs - определяет сколько раз через нейросеть должен пройти весь набор данных\n",
    "bath_size - определяет количество обучающих примеров передающихся нейросети на каждой итерации обучения.\n",
    "verbose - позволяет определять информацию, котору вы видете во время обучения нейронной сети."
   ]
  },
  {
   "cell_type": "markdown",
   "id": "7b8ce7f1",
   "metadata": {},
   "source": [
    "**Оценка обученности нейронной сети**\n",
    "\n",
    "Следующей стадией может быть проверка обученности нейронной сети. Команда Keras для этих целей - \n",
    "\n",
    "    results = model.evaluate(x_test, y_test, batch_size=128)\n",
    "    \n",
    "В данном случае мы просто указываем какую модель на каких данных мы хотим проверить"
   ]
  },
  {
   "cell_type": "markdown",
   "id": "0326ade1",
   "metadata": {},
   "source": [
    "**Запуск нейронной сети для выполнения работы**\n",
    "\n",
    "На этой стадии мы можем попробовать запустить нейронную сеть на данных которые мы хотели бы чтобы она оценила. Осуществить распознования объекта на фотографии например.\n",
    "Вот код для этих целей - \n",
    "\n",
    "    predictions = model.predict(x_test[:3])\n",
    "    \n",
    "В качестве аргумента здесь указывается массив даныхх содержащих, например фотографию в виде массива чисел.    \n",
    "    "
   ]
  },
  {
   "cell_type": "markdown",
   "id": "f6917b18",
   "metadata": {},
   "source": [
    "Мы с вами рассмотрели основные стадии процесса обучения нейросети и команды Keras, для этого. Безусловно здесь приведен далеко неполный перечень возможностей Keras. У Keras есть также возможность сохранять созданную нейросеть, запускать уже имеющиюся, различные средства для создания нейросетей разных архитектур и другое. С чем то из арсенала Keras мы с вами познакомимся по ходу курса, а с остальным вы можете познакомиться на сайте Keras в разделе документация."
   ]
  },
  {
   "cell_type": "markdown",
   "id": "02c56b2e",
   "metadata": {},
   "source": [
    "![neuron.png](../images/02/neuron.png \"neuron.png\")"
   ]
  },
  {
   "cell_type": "markdown",
   "id": "ab9425da",
   "metadata": {},
   "source": [
    "## Простая нейросеть на Keras"
   ]
  },
  {
   "cell_type": "markdown",
   "id": "fbe070b8",
   "metadata": {},
   "source": [
    "Давайте попрубуем сделать нейросеть на Keras использую полученные выше знания. Попробуем обучить нейросеть различать рукописные цифры."
   ]
  },
  {
   "cell_type": "code",
   "execution_count": 8,
   "id": "951554aa",
   "metadata": {},
   "outputs": [],
   "source": [
    "# Код нейронной сети в Keras из вебинара!\n",
    "#########################################\n",
    "\n",
    "import numpy as np\n",
    "from keras.models import Sequential\n",
    "from keras.layers import Dense \n",
    "from keras.datasets import mnist\n",
    "# from tensorflow.keras.utils import to_categorical \n",
    "from keras.utils import to_categorical # так как наши label encoding представления нас не устраивают \n",
    "from keras.models import load_model"
   ]
  },
  {
   "cell_type": "markdown",
   "id": "7f961261",
   "metadata": {},
   "source": [
    "Размер набора входных данных для обучения"
   ]
  },
  {
   "cell_type": "code",
   "execution_count": 9,
   "id": "cdf9c74f",
   "metadata": {},
   "outputs": [
    {
     "data": {
      "text/plain": [
       "((60000, 784), (10000, 784))"
      ]
     },
     "execution_count": 9,
     "metadata": {},
     "output_type": "execute_result"
    }
   ],
   "source": [
    "train_images.shape, test_images.shape"
   ]
  },
  {
   "cell_type": "markdown",
   "id": "8dfd6b2a",
   "metadata": {},
   "source": [
    "Собираем модель по слоям через .add()"
   ]
  },
  {
   "cell_type": "code",
   "execution_count": 10,
   "id": "3c71e3e7",
   "metadata": {},
   "outputs": [],
   "source": [
    "model1 = Sequential(name='my_model')\n",
    "model1.add(Dense(128, activation='relu', input_shape=(784,)))\n",
    "# входной слой + полносвязный слой из 128 нейронов с активацией ReLU\n",
    "# для входного слоя надо устанавливать количество входов input_shape=(784,) и по факту input_shape=(784,) это отдельный слой\n",
    "for k in range(2):\n",
    "    model1.add(Dense(10+(10-k)*10, activation='tanh'))\n",
    "    # Скрытый слой k из 10+(10-k)*10 нейронов с активацией tanh\n",
    "    \n",
    "model1.add(Dense(10, activation='softmax'))\n",
    "# выходной слой из 10 нейронов (сколько классов, столько и нейронов) + активация softmax\n",
    "# цифры от 0 до 9 это наши классы"
   ]
  },
  {
   "cell_type": "markdown",
   "id": "40ec2f16",
   "metadata": {},
   "source": [
    "Важно! Внутренние слои никогда не бывают линейными!! \n",
    "**Отсылка к теореме Минского-Пайперта о том, что многослойный линейнный перцептрон эквивалентен однослойному линейному перцептрону**"
   ]
  },
  {
   "cell_type": "markdown",
   "id": "a261c8b1",
   "metadata": {},
   "source": [
    "Компилируем сеть с оптимизатором, функцией потерь и метрикой:"
   ]
  },
  {
   "cell_type": "code",
   "execution_count": 11,
   "id": "41e4b70b",
   "metadata": {},
   "outputs": [],
   "source": [
    "model1.compile(\n",
    "    optimizer='adam',\n",
    "    loss=keras.losses.CategoricalCrossentropy(), # ЛОГИСТИЧЕСКИЕ ПОТЕРИ\n",
    "    metrics=['accuracy']\n",
    ")"
   ]
  },
  {
   "cell_type": "markdown",
   "id": "982d2efd",
   "metadata": {},
   "source": [
    "Оптимизаторы:\n",
    "\n",
    "* SGD (с или без моментум)\n",
    "* RMSprop()\n",
    "* Adam() - адаптивные моменты\n",
    "* Adagrad()\n",
    "\n",
    "Функции потерь:\n",
    "\n",
    "* CategoricalCrossentropy()\n",
    "* SparseCategoricalCrossentropy()\n",
    "* BinaryCrossentropy()\n",
    "* MeanSquaredError()\n",
    "\n",
    "Метрики: \n",
    "* CategoricalAccuracy()\n",
    "* SparseCategoricalAccuracy()\n",
    "* BinaryAccuracy()\n",
    "* AUC()\n",
    "* Precision()\n",
    "* Recall()"
   ]
  },
  {
   "cell_type": "markdown",
   "id": "fa370453",
   "metadata": {},
   "source": [
    "Состав нашей модели:"
   ]
  },
  {
   "cell_type": "code",
   "execution_count": 12,
   "id": "a7fbca50",
   "metadata": {},
   "outputs": [
    {
     "name": "stdout",
     "output_type": "stream",
     "text": [
      "Model: \"my_model\"\n",
      "_________________________________________________________________\n",
      "Layer (type)                 Output Shape              Param #   \n",
      "=================================================================\n",
      "dense_1 (Dense)              (None, 128)               100480    \n",
      "_________________________________________________________________\n",
      "dense_2 (Dense)              (None, 110)               14190     \n",
      "_________________________________________________________________\n",
      "dense_3 (Dense)              (None, 100)               11100     \n",
      "_________________________________________________________________\n",
      "dense_4 (Dense)              (None, 10)                1010      \n",
      "=================================================================\n",
      "Total params: 126,780\n",
      "Trainable params: 126,780\n",
      "Non-trainable params: 0\n",
      "_________________________________________________________________\n"
     ]
    }
   ],
   "source": [
    "model1.summary()"
   ]
  },
  {
   "cell_type": "markdown",
   "id": "401afc7a",
   "metadata": {},
   "source": [
    "126,780 параметров в сети. Все будем обучать.\n",
    "\n",
    "Как считать параметры слоя: (число входов нейрона + 1) * числов нейронов. Почему так? Потому что есть bias (сдвиги) у каждого нейрона по одному bias.\n",
    "\n",
    "Например, для входов 5 и 10 нейронов в слое - число параметров будет 5х10 + 1x10 = 60 "
   ]
  },
  {
   "cell_type": "markdown",
   "id": "cd124c7e",
   "metadata": {},
   "source": [
    "Еще один способ создать линейную модель:"
   ]
  },
  {
   "cell_type": "code",
   "execution_count": 13,
   "id": "d4445e2d",
   "metadata": {},
   "outputs": [],
   "source": [
    "model = Sequential([\n",
    "    Dense(128, activation='tanh', input_shape=(784,)),\n",
    "    Dense(110, activation='tanh'),\n",
    "    Dense(100, activation='tanh'),\n",
    "    Dense(10, activation='softmax')\n",
    "])\n",
    "\n",
    "model.compile(\n",
    "    optimizer='adam',\n",
    "    loss='categorical_crossentropy',\n",
    "    metrics=['accuracy']\n",
    ")"
   ]
  },
  {
   "cell_type": "code",
   "execution_count": 14,
   "id": "7bdf6e03",
   "metadata": {},
   "outputs": [
    {
     "name": "stdout",
     "output_type": "stream",
     "text": [
      "Model: \"sequential_1\"\n",
      "_________________________________________________________________\n",
      "Layer (type)                 Output Shape              Param #   \n",
      "=================================================================\n",
      "dense_5 (Dense)              (None, 128)               100480    \n",
      "_________________________________________________________________\n",
      "dense_6 (Dense)              (None, 110)               14190     \n",
      "_________________________________________________________________\n",
      "dense_7 (Dense)              (None, 100)               11100     \n",
      "_________________________________________________________________\n",
      "dense_8 (Dense)              (None, 10)                1010      \n",
      "=================================================================\n",
      "Total params: 126,780\n",
      "Trainable params: 126,780\n",
      "Non-trainable params: 0\n",
      "_________________________________________________________________\n"
     ]
    }
   ],
   "source": [
    "model.summary()"
   ]
  },
  {
   "cell_type": "markdown",
   "id": "453e25a3",
   "metadata": {},
   "source": [
    "Можно посмотреть как наша модель описана после ее создания:"
   ]
  },
  {
   "cell_type": "code",
   "execution_count": 15,
   "id": "d103c468",
   "metadata": {
    "scrolled": true
   },
   "outputs": [
    {
     "data": {
      "text/plain": [
       "{'name': 'sequential_1',\n",
       " 'layers': [{'class_name': 'Dense',\n",
       "   'config': {'name': 'dense_5',\n",
       "    'trainable': True,\n",
       "    'batch_input_shape': (None, 784),\n",
       "    'dtype': 'float32',\n",
       "    'units': 128,\n",
       "    'activation': 'tanh',\n",
       "    'use_bias': True,\n",
       "    'kernel_initializer': {'class_name': 'VarianceScaling',\n",
       "     'config': {'scale': 1.0,\n",
       "      'mode': 'fan_avg',\n",
       "      'distribution': 'uniform',\n",
       "      'seed': None}},\n",
       "    'bias_initializer': {'class_name': 'Zeros', 'config': {}},\n",
       "    'kernel_regularizer': None,\n",
       "    'bias_regularizer': None,\n",
       "    'activity_regularizer': None,\n",
       "    'kernel_constraint': None,\n",
       "    'bias_constraint': None}},\n",
       "  {'class_name': 'Dense',\n",
       "   'config': {'name': 'dense_6',\n",
       "    'trainable': True,\n",
       "    'dtype': 'float32',\n",
       "    'units': 110,\n",
       "    'activation': 'tanh',\n",
       "    'use_bias': True,\n",
       "    'kernel_initializer': {'class_name': 'VarianceScaling',\n",
       "     'config': {'scale': 1.0,\n",
       "      'mode': 'fan_avg',\n",
       "      'distribution': 'uniform',\n",
       "      'seed': None}},\n",
       "    'bias_initializer': {'class_name': 'Zeros', 'config': {}},\n",
       "    'kernel_regularizer': None,\n",
       "    'bias_regularizer': None,\n",
       "    'activity_regularizer': None,\n",
       "    'kernel_constraint': None,\n",
       "    'bias_constraint': None}},\n",
       "  {'class_name': 'Dense',\n",
       "   'config': {'name': 'dense_7',\n",
       "    'trainable': True,\n",
       "    'dtype': 'float32',\n",
       "    'units': 100,\n",
       "    'activation': 'tanh',\n",
       "    'use_bias': True,\n",
       "    'kernel_initializer': {'class_name': 'VarianceScaling',\n",
       "     'config': {'scale': 1.0,\n",
       "      'mode': 'fan_avg',\n",
       "      'distribution': 'uniform',\n",
       "      'seed': None}},\n",
       "    'bias_initializer': {'class_name': 'Zeros', 'config': {}},\n",
       "    'kernel_regularizer': None,\n",
       "    'bias_regularizer': None,\n",
       "    'activity_regularizer': None,\n",
       "    'kernel_constraint': None,\n",
       "    'bias_constraint': None}},\n",
       "  {'class_name': 'Dense',\n",
       "   'config': {'name': 'dense_8',\n",
       "    'trainable': True,\n",
       "    'dtype': 'float32',\n",
       "    'units': 10,\n",
       "    'activation': 'softmax',\n",
       "    'use_bias': True,\n",
       "    'kernel_initializer': {'class_name': 'VarianceScaling',\n",
       "     'config': {'scale': 1.0,\n",
       "      'mode': 'fan_avg',\n",
       "      'distribution': 'uniform',\n",
       "      'seed': None}},\n",
       "    'bias_initializer': {'class_name': 'Zeros', 'config': {}},\n",
       "    'kernel_regularizer': None,\n",
       "    'bias_regularizer': None,\n",
       "    'activity_regularizer': None,\n",
       "    'kernel_constraint': None,\n",
       "    'bias_constraint': None}}]}"
      ]
     },
     "execution_count": 15,
     "metadata": {},
     "output_type": "execute_result"
    }
   ],
   "source": [
    "model.get_config()"
   ]
  },
  {
   "cell_type": "markdown",
   "id": "24b06a10",
   "metadata": {},
   "source": [
    "Превратим входы в векторные (OHE в keras - from keras.utils import to_categorical)"
   ]
  },
  {
   "cell_type": "code",
   "execution_count": 16,
   "id": "c748c5b5",
   "metadata": {},
   "outputs": [
    {
     "data": {
      "text/plain": [
       "array([5, 0, 4, 1, 9], dtype=uint8)"
      ]
     },
     "execution_count": 16,
     "metadata": {},
     "output_type": "execute_result"
    }
   ],
   "source": [
    "train_labels[:5]"
   ]
  },
  {
   "cell_type": "code",
   "execution_count": 17,
   "id": "c18d0f08",
   "metadata": {},
   "outputs": [],
   "source": [
    "y_t = to_categorical(train_labels)\n",
    "y_tt = to_categorical(testn_labels)"
   ]
  },
  {
   "cell_type": "code",
   "execution_count": 18,
   "id": "ca1f4b14",
   "metadata": {},
   "outputs": [
    {
     "data": {
      "text/plain": [
       "array([[0., 0., 0., 0., 0., 1., 0., 0., 0., 0.],\n",
       "       [1., 0., 0., 0., 0., 0., 0., 0., 0., 0.],\n",
       "       [0., 0., 0., 0., 1., 0., 0., 0., 0., 0.]], dtype=float32)"
      ]
     },
     "execution_count": 18,
     "metadata": {},
     "output_type": "execute_result"
    }
   ],
   "source": [
    "y_t[:3]"
   ]
  },
  {
   "cell_type": "markdown",
   "id": "2f85bc20",
   "metadata": {},
   "source": [
    "Посмотрим на реакции модели до обучения - уже можно:) Но веса там рандомные."
   ]
  },
  {
   "cell_type": "code",
   "execution_count": 19,
   "id": "81281d22",
   "metadata": {},
   "outputs": [
    {
     "name": "stdout",
     "output_type": "stream",
     "text": [
      "WARNING:tensorflow:From C:\\Users\\kikoooiemama\\anaconda3\\envs\\start_nn\\lib\\site-packages\\keras\\backend\\tensorflow_backend.py:422: The name tf.global_variables is deprecated. Please use tf.compat.v1.global_variables instead.\n",
      "\n"
     ]
    }
   ],
   "source": [
    "y_pred = model.predict(test_images[:5,:])"
   ]
  },
  {
   "cell_type": "code",
   "execution_count": 20,
   "id": "5fcb2c90",
   "metadata": {},
   "outputs": [
    {
     "data": {
      "text/plain": [
       "array([0.20588475, 0.0763646 , 0.0498571 , 0.08613272, 0.04889206,\n",
       "       0.02840744, 0.05364725, 0.07068431, 0.19013219, 0.18999754],\n",
       "      dtype=float32)"
      ]
     },
     "execution_count": 20,
     "metadata": {},
     "output_type": "execute_result"
    }
   ],
   "source": [
    "y_pred[0,:]"
   ]
  },
  {
   "cell_type": "code",
   "execution_count": 21,
   "id": "359d73b9",
   "metadata": {},
   "outputs": [
    {
     "name": "stdout",
     "output_type": "stream",
     "text": [
      "[0 8 0 9 8]\n"
     ]
    }
   ],
   "source": [
    "y_class = np.argmax(y_pred, axis=1)\n",
    "print(y_class)"
   ]
  },
  {
   "cell_type": "markdown",
   "id": "d1f13c44",
   "metadata": {},
   "source": [
    "Сделаем цикл тренировки модели"
   ]
  },
  {
   "cell_type": "code",
   "execution_count": 22,
   "id": "185581a8",
   "metadata": {},
   "outputs": [
    {
     "name": "stdout",
     "output_type": "stream",
     "text": [
      "Train on 48000 samples, validate on 12000 samples\n",
      "Epoch 1/2\n",
      "48000/48000 [==============================] - 2s 48us/step - loss: 0.3211 - accuracy: 0.9019 - val_loss: 0.1955 - val_accuracy: 0.9421\n",
      "Epoch 2/2\n",
      "48000/48000 [==============================] - 2s 44us/step - loss: 0.1616 - accuracy: 0.9508 - val_loss: 0.1439 - val_accuracy: 0.9582\n",
      "10000/10000 [==============================] - 0s 14us/step\n",
      "[7 2 1 0 4]\n",
      "[7 2 1 0 4]\n"
     ]
    }
   ],
   "source": [
    "# Обучение\n",
    "model1.fit(train_images[:,:], y_t[:,:], epochs=2, batch_size=32, validation_split=0.2)\n",
    "\n",
    "# Оценка\n",
    "model1.evaluate(test_images, y_tt)\n",
    "\n",
    "# Предсказание на 5 тестовых\n",
    "predictions = model1.predict(test_images[:5])\n",
    "\n",
    "# Предсказание нашей модели\n",
    "print(np.argmax(predictions, axis=1))\n",
    "\n",
    "# Истинные значения\n",
    "print(testn_labels[:5])"
   ]
  },
  {
   "cell_type": "markdown",
   "id": "8566cda9",
   "metadata": {},
   "source": [
    "Работает :)"
   ]
  },
  {
   "cell_type": "markdown",
   "id": "969f05e1",
   "metadata": {},
   "source": [
    "И можем еще один добавить (продолжаем от предшествующего состояния). "
   ]
  },
  {
   "cell_type": "markdown",
   "id": "ec84c2d8",
   "metadata": {},
   "source": [
    "Обучим другую модель:"
   ]
  },
  {
   "cell_type": "code",
   "execution_count": 23,
   "id": "a79cd0f6",
   "metadata": {
    "scrolled": true
   },
   "outputs": [
    {
     "name": "stdout",
     "output_type": "stream",
     "text": [
      "Train on 48000 samples, validate on 12000 samples\n",
      "Epoch 1/15\n",
      "48000/48000 [==============================] - 1s 14us/step - loss: 0.8169 - accuracy: 0.7751 - val_loss: 0.3504 - val_accuracy: 0.9000\n",
      "Epoch 2/15\n",
      "48000/48000 [==============================] - 1s 12us/step - loss: 0.3005 - accuracy: 0.9128 - val_loss: 0.2494 - val_accuracy: 0.9252\n",
      "Epoch 3/15\n",
      "48000/48000 [==============================] - 1s 13us/step - loss: 0.2246 - accuracy: 0.9341 - val_loss: 0.2098 - val_accuracy: 0.9381\n",
      "Epoch 4/15\n",
      "48000/48000 [==============================] - 1s 12us/step - loss: 0.1808 - accuracy: 0.9476 - val_loss: 0.1624 - val_accuracy: 0.9542\n",
      "Epoch 5/15\n",
      "48000/48000 [==============================] - 1s 12us/step - loss: 0.1463 - accuracy: 0.9575 - val_loss: 0.1475 - val_accuracy: 0.9567\n",
      "Epoch 6/15\n",
      "48000/48000 [==============================] - 1s 11us/step - loss: 0.1226 - accuracy: 0.9649 - val_loss: 0.1370 - val_accuracy: 0.9605\n",
      "Epoch 7/15\n",
      "48000/48000 [==============================] - 1s 11us/step - loss: 0.1060 - accuracy: 0.9697 - val_loss: 0.1254 - val_accuracy: 0.9639\n",
      "Epoch 8/15\n",
      "48000/48000 [==============================] - 1s 11us/step - loss: 0.0911 - accuracy: 0.9731 - val_loss: 0.1160 - val_accuracy: 0.9659\n",
      "Epoch 9/15\n",
      "48000/48000 [==============================] - 1s 11us/step - loss: 0.0802 - accuracy: 0.9769 - val_loss: 0.1118 - val_accuracy: 0.9678\n",
      "Epoch 10/15\n",
      "48000/48000 [==============================] - 1s 11us/step - loss: 0.0702 - accuracy: 0.9799 - val_loss: 0.1066 - val_accuracy: 0.9692\n",
      "Epoch 11/15\n",
      "48000/48000 [==============================] - 1s 11us/step - loss: 0.0627 - accuracy: 0.9818 - val_loss: 0.1005 - val_accuracy: 0.9707\n",
      "Epoch 12/15\n",
      "48000/48000 [==============================] - 1s 11us/step - loss: 0.0562 - accuracy: 0.9836 - val_loss: 0.0980 - val_accuracy: 0.9715\n",
      "Epoch 13/15\n",
      "48000/48000 [==============================] - 1s 11us/step - loss: 0.0516 - accuracy: 0.9850 - val_loss: 0.1012 - val_accuracy: 0.9707\n",
      "Epoch 14/15\n",
      "48000/48000 [==============================] - 1s 11us/step - loss: 0.0436 - accuracy: 0.9879 - val_loss: 0.1003 - val_accuracy: 0.9700\n",
      "Epoch 15/15\n",
      "48000/48000 [==============================] - 1s 11us/step - loss: 0.0370 - accuracy: 0.9901 - val_loss: 0.0932 - val_accuracy: 0.9744\n"
     ]
    },
    {
     "data": {
      "text/plain": [
       "<keras.callbacks.callbacks.History at 0x2582ba94b48>"
      ]
     },
     "execution_count": 23,
     "metadata": {},
     "output_type": "execute_result"
    }
   ],
   "source": [
    "model.fit(train_images, y_t, epochs=15, batch_size=1024, validation_split=0.2, verbose=1)"
   ]
  },
  {
   "cell_type": "markdown",
   "id": "bb1875f7",
   "metadata": {},
   "source": [
    "Сохраним модель на диск:"
   ]
  },
  {
   "cell_type": "code",
   "execution_count": 24,
   "id": "65123afc",
   "metadata": {},
   "outputs": [],
   "source": [
    "model.save_weights('../models/02/model.h5')"
   ]
  },
  {
   "cell_type": "markdown",
   "id": "831d24b8",
   "metadata": {},
   "source": [
    "Загрузить веса модели:"
   ]
  },
  {
   "cell_type": "code",
   "execution_count": 25,
   "id": "80c4c240",
   "metadata": {},
   "outputs": [],
   "source": [
    "# model.load_weights('../models/02/model.h5')"
   ]
  },
  {
   "cell_type": "markdown",
   "id": "87636825",
   "metadata": {},
   "source": [
    "И еще потренируем (вернемся к прошлой модели 1):"
   ]
  },
  {
   "cell_type": "code",
   "execution_count": 26,
   "id": "ce88b850",
   "metadata": {},
   "outputs": [
    {
     "name": "stdout",
     "output_type": "stream",
     "text": [
      "Train on 48000 samples, validate on 12000 samples\n",
      "Epoch 1/15\n",
      "48000/48000 [==============================] - 1s 11us/step - loss: 0.0973 - accuracy: 0.9714 - val_loss: 0.1038 - val_accuracy: 0.9695\n",
      "Epoch 2/15\n",
      "48000/48000 [==============================] - 1s 11us/step - loss: 0.0778 - accuracy: 0.9774 - val_loss: 0.0997 - val_accuracy: 0.9712\n",
      "Epoch 3/15\n",
      "48000/48000 [==============================] - 1s 11us/step - loss: 0.0728 - accuracy: 0.9785 - val_loss: 0.0976 - val_accuracy: 0.9707\n",
      "Epoch 4/15\n",
      "48000/48000 [==============================] - 1s 11us/step - loss: 0.0698 - accuracy: 0.9794 - val_loss: 0.0957 - val_accuracy: 0.9715\n",
      "Epoch 5/15\n",
      "48000/48000 [==============================] - 1s 11us/step - loss: 0.0671 - accuracy: 0.9803 - val_loss: 0.0950 - val_accuracy: 0.9722\n",
      "Epoch 6/15\n",
      "48000/48000 [==============================] - 1s 12us/step - loss: 0.0646 - accuracy: 0.9813 - val_loss: 0.0949 - val_accuracy: 0.9716\n",
      "Epoch 7/15\n",
      "48000/48000 [==============================] - 1s 11us/step - loss: 0.0624 - accuracy: 0.9817 - val_loss: 0.0932 - val_accuracy: 0.9717\n",
      "Epoch 8/15\n",
      "48000/48000 [==============================] - 1s 11us/step - loss: 0.0604 - accuracy: 0.9825 - val_loss: 0.0928 - val_accuracy: 0.9723\n",
      "Epoch 9/15\n",
      "48000/48000 [==============================] - 1s 11us/step - loss: 0.0587 - accuracy: 0.9831 - val_loss: 0.0925 - val_accuracy: 0.9724\n",
      "Epoch 10/15\n",
      "48000/48000 [==============================] - 1s 11us/step - loss: 0.0570 - accuracy: 0.9836 - val_loss: 0.0921 - val_accuracy: 0.9728\n",
      "Epoch 11/15\n",
      "48000/48000 [==============================] - 1s 11us/step - loss: 0.0552 - accuracy: 0.9843 - val_loss: 0.0904 - val_accuracy: 0.9734\n",
      "Epoch 12/15\n",
      "48000/48000 [==============================] - 1s 11us/step - loss: 0.0536 - accuracy: 0.9846 - val_loss: 0.0908 - val_accuracy: 0.9733\n",
      "Epoch 13/15\n",
      "48000/48000 [==============================] - 1s 11us/step - loss: 0.0521 - accuracy: 0.9850 - val_loss: 0.0898 - val_accuracy: 0.9740\n",
      "Epoch 14/15\n",
      "48000/48000 [==============================] - 1s 11us/step - loss: 0.0504 - accuracy: 0.9855 - val_loss: 0.0898 - val_accuracy: 0.9738\n",
      "Epoch 15/15\n",
      "48000/48000 [==============================] - 1s 11us/step - loss: 0.0488 - accuracy: 0.9863 - val_loss: 0.0888 - val_accuracy: 0.9733\n",
      "10000/10000 [==============================] - 0s 15us/step\n",
      "[7 2 1 0 4]\n",
      "[7 2 1 0 4]\n"
     ]
    }
   ],
   "source": [
    "# Обучение\n",
    "hh = model1.fit(train_images, to_categorical(train_labels), epochs=15, batch_size=1024, validation_split=0.2)\n",
    "\n",
    "# Оценка\n",
    "model1.evaluate(test_images, to_categorical(testn_labels))\n",
    "\n",
    "# Предсказание на 5 тестовых\n",
    "predictions = model1.predict(test_images[:5])\n",
    "\n",
    "# Предсказание нашей модели\n",
    "print(np.argmax(predictions, axis=1))\n",
    "\n",
    "# Истинные значения\n",
    "print(testn_labels[:5])"
   ]
  },
  {
   "cell_type": "markdown",
   "id": "a010366a",
   "metadata": {},
   "source": [
    "Посмотрим на возвращаемый словарь hh.history (там результаты по эпохам для потерь и метрик по обучению и тестам)"
   ]
  },
  {
   "cell_type": "code",
   "execution_count": 27,
   "id": "96d142e1",
   "metadata": {
    "scrolled": true
   },
   "outputs": [
    {
     "data": {
      "text/plain": [
       "{'val_loss': [0.10384594198067983,\n",
       "  0.09966580879688262,\n",
       "  0.09759347629547119,\n",
       "  0.09574442422389984,\n",
       "  0.09497039167086284,\n",
       "  0.09491489442189535,\n",
       "  0.09324339207013448,\n",
       "  0.09276394399007161,\n",
       "  0.09252824620405833,\n",
       "  0.0921068666378657,\n",
       "  0.09038973180452983,\n",
       "  0.09078330862522126,\n",
       "  0.08982762400309245,\n",
       "  0.08979044524828593,\n",
       "  0.08883635989824931],\n",
       " 'val_accuracy': [0.9695000052452087,\n",
       "  0.9711666703224182,\n",
       "  0.9706666469573975,\n",
       "  0.9714999794960022,\n",
       "  0.9722499847412109,\n",
       "  0.9715833067893982,\n",
       "  0.971666693687439,\n",
       "  0.9723333120346069,\n",
       "  0.9724166393280029,\n",
       "  0.9728333353996277,\n",
       "  0.9734166860580444,\n",
       "  0.9733333587646484,\n",
       "  0.9739999771118164,\n",
       "  0.9738333225250244,\n",
       "  0.9733333587646484],\n",
       " 'loss': [0.09732178517182669,\n",
       "  0.07777716952562332,\n",
       "  0.07282277884085973,\n",
       "  0.06978010662396748,\n",
       "  0.06707969319820405,\n",
       "  0.06461969778935114,\n",
       "  0.06242051847775777,\n",
       "  0.06044947725534439,\n",
       "  0.05869735535979271,\n",
       "  0.0570451975663503,\n",
       "  0.05520636696616808,\n",
       "  0.05364431669314702,\n",
       "  0.052084094196557996,\n",
       "  0.05041896679997444,\n",
       "  0.04880487907926242],\n",
       " 'accuracy': [0.97139585,\n",
       "  0.97735417,\n",
       "  0.9785417,\n",
       "  0.9793958,\n",
       "  0.9803125,\n",
       "  0.98129165,\n",
       "  0.9816667,\n",
       "  0.9825208,\n",
       "  0.983125,\n",
       "  0.98358333,\n",
       "  0.9842917,\n",
       "  0.9845625,\n",
       "  0.98497915,\n",
       "  0.98552084,\n",
       "  0.98627084]}"
      ]
     },
     "execution_count": 27,
     "metadata": {},
     "output_type": "execute_result"
    }
   ],
   "source": [
    "hh.history"
   ]
  },
  {
   "cell_type": "markdown",
   "id": "633829c5",
   "metadata": {},
   "source": [
    "Покажем как выглядит кривая обучения:"
   ]
  },
  {
   "cell_type": "code",
   "execution_count": 28,
   "id": "7789b405",
   "metadata": {},
   "outputs": [
    {
     "data": {
      "image/png": "[encoded data removed]",
      "text/plain": [
       "<Figure size 1500x700 with 1 Axes>"
      ]
     },
     "metadata": {},
     "output_type": "display_data"
    }
   ],
   "source": [
    "plt.figure(figsize=(15,7))\n",
    "plt.plot(hh.history['loss'], label='потери по тренировке')\n",
    "plt.plot(hh.history['val_loss'], label='потери по валидации')\n",
    "plt.xlabel(\"Эпохи\")\n",
    "plt.ylabel('Loss')\n",
    "plt.legend()\n",
    "plt.grid()\n",
    "plt.title(\"Потери от эпох\")\n",
    "plt.show()"
   ]
  },
  {
   "cell_type": "markdown",
   "id": "8177d951",
   "metadata": {},
   "source": [
    "**Эксперимент**\n",
    "\n",
    "Эксперимент с разными оптимизаторами для одной начальной модели:\n",
    "\n",
    "* создаем модель model\n",
    "* сохраняем ее веса (это начальная точка) model.save_weights('model.h5')\n",
    "* создаем рабочую модель modeli куда будем загружать эти веса (она должна быть идентичной структуры)\n",
    "* загружаем веса modeli.load_weights('model.h5')\n",
    "* компилируем modeli с одним из оптимизаторов\n",
    "* вычисляем ошибку для modeli без обучения (т.к. все модели начинают с одной точки, то все ошибки должны быть одинаковые, но будем контролировать это и считаем каждый раз заново)\n",
    "* проводим обучение модели и пишем ошибки в истории hh\n",
    "* выводим ошибки для 0-го момента и каждой эпохи обучения по тестовой и валидацинной частями данных\n",
    "\n",
    "Оптимизаторы:\n",
    "\n",
    "* SGD (с или без моментум)\n",
    "* RMSprop()\n",
    "* Adam() - адаптивные моменты\n",
    "* Adagrad()"
   ]
  },
  {
   "cell_type": "code",
   "execution_count": 29,
   "id": "cf23c9f6",
   "metadata": {
    "scrolled": false
   },
   "outputs": [
    {
     "data": {
      "image/png": "[encoded data removed]",
      "text/plain": [
       "<Figure size 1600x700 with 1 Axes>"
      ]
     },
     "metadata": {},
     "output_type": "display_data"
    }
   ],
   "source": [
    "model = Sequential([\n",
    "  Dense(64, activation='relu', input_shape=(784,)),\n",
    "  Dense(64, activation='tanh'),\n",
    "  Dense(10, activation='softmax'),\n",
    "])\n",
    "\n",
    "# сохраняем веса (это начальная точка)\n",
    "model.save_weights('model.h5')\n",
    "plt.figure(figsize=(16,7))\n",
    "\n",
    "# число рабочих эпох\n",
    "epochs= 15\n",
    "# вектор для вывода результатов\n",
    "epoch = np.arange(epochs+1)\n",
    "\n",
    "# оптимизаторы:\n",
    "for i_optim in ['SGD', 'RMSProp', 'Adam', 'NAdam']:\n",
    "    # создаем контейнер с весами\n",
    "    modeli = Sequential([\n",
    "          Dense(64, activation='relu', input_shape=(784,)),\n",
    "          Dense(64, activation='tanh'),\n",
    "          Dense(10, activation='softmax'),\n",
    "    ])\n",
    "    modeli.load_weights(\"model.h5\")\n",
    "    # установка оптимизатора\n",
    "    modeli.compile(\n",
    "        optimizer=i_optim,\n",
    "        loss='categorical_crossentropy',\n",
    "        metrics=['accuracy'],\n",
    "    )\n",
    "    # вычисляем ошибку для modeli без обучения\n",
    "    hh0_tr = modeli.evaluate(train_images[:48000,:], to_categorical(train_labels[:48000]), verbose=0)\n",
    "    hh0_val = modeli.evaluate(train_images[48000:,:], to_categorical(train_labels[48000:]), verbose=0)\n",
    "    # обучение\n",
    "    hh = modeli.fit(train_images, to_categorical(train_labels), epochs=epochs, batch_size=1024, validation_split=0.2, verbose=0)\n",
    "    # картинки\n",
    "    plt.plot(epoch, np.log([hh0_tr[0]] + hh.history['loss']), '-', label = i_optim + ' train')\n",
    "    plt.plot(epoch, np.log([hh0_val[0]] + hh.history['val_loss']), '--', label = i_optim + ' val')\n",
    "\n",
    "plt.legend()\n",
    "plt.grid()\n",
    "plt.xlabel('epoch')\n",
    "plt.ylabel('log(loss)')\n",
    "plt.title('Нейросети от оптимизатора log(loss)')\n",
    "plt.show()"
   ]
  },
  {
   "cell_type": "markdown",
   "id": "f6003a18",
   "metadata": {},
   "source": [
    "Посмотрим на результат предсказаний (inference) для обученной модели (последняя в цикле):"
   ]
  },
  {
   "cell_type": "code",
   "execution_count": 30,
   "id": "915f25e1",
   "metadata": {
    "scrolled": true
   },
   "outputs": [
    {
     "data": {
      "image/png": "[encoded data removed]",
      "text/plain": [
       "<Figure size 2000x800 with 5 Axes>"
      ]
     },
     "metadata": {},
     "output_type": "display_data"
    }
   ],
   "source": [
    "N = 5\n",
    "y_pred = modeli.predict(test_images[:N,:])\n",
    "y_pred_class = np.argmax(y_pred, axis=1)\n",
    "plt.figure(figsize=(4*N, 8))\n",
    "for i in range(N):\n",
    "    plt.subplot(1, N, i+1)\n",
    "    plt.imshow(test_images[i,:].reshape(28,28))\n",
    "    plt.xlabel(str(y_pred_class[i]))\n",
    "plt.show()"
   ]
  },
  {
   "cell_type": "code",
   "execution_count": 31,
   "id": "cb14992a",
   "metadata": {},
   "outputs": [
    {
     "data": {
      "text/plain": [
       "array([8.5357366e-05, 4.7516820e-05, 3.4220450e-04, 4.1954432e-04,\n",
       "       4.0031018e-06, 2.1685933e-05, 3.0764173e-08, 9.9868673e-01,\n",
       "       2.9092693e-05, 3.6379605e-04], dtype=float32)"
      ]
     },
     "execution_count": 31,
     "metadata": {},
     "output_type": "execute_result"
    }
   ],
   "source": [
    "y_pred[0,:]"
   ]
  },
  {
   "cell_type": "markdown",
   "id": "01539561",
   "metadata": {},
   "source": [
    "Где ошиблись?"
   ]
  },
  {
   "cell_type": "code",
   "execution_count": 32,
   "id": "364a35f4",
   "metadata": {},
   "outputs": [
    {
     "data": {
      "text/plain": [
       "(array([   8,  149,  233,  241,  247,  259,  290,  320,  321,  340,  412,\n",
       "         445,  449,  495,  502,  551,  582,  583,  591,  610,  659,  684,\n",
       "         691,  707,  740,  839,  900,  924,  938,  947,  951,  956,  965,\n",
       "        1003, 1014, 1032, 1044, 1107, 1112, 1124, 1147, 1178, 1182, 1192,\n",
       "        1194, 1202, 1224, 1226, 1232, 1242, 1247, 1253, 1256, 1260, 1283,\n",
       "        1289, 1299, 1319, 1325, 1326, 1328, 1337, 1378, 1410, 1469, 1500,\n",
       "        1522, 1527, 1530, 1549, 1553, 1609, 1640, 1681, 1709, 1717, 1721,\n",
       "        1754, 1782, 1790, 1828, 1843, 1850, 1878, 1901, 1913, 1938, 1952,\n",
       "        1984, 2004, 2016, 2024, 2035, 2040, 2043, 2044, 2053, 2093, 2098,\n",
       "        2109, 2118, 2129, 2130, 2135, 2174, 2182, 2185, 2186, 2189, 2272,\n",
       "        2293, 2299, 2325, 2369, 2371, 2387, 2406, 2422, 2488, 2514, 2598,\n",
       "        2607, 2648, 2654, 2760, 2770, 2877, 2896, 2915, 2921, 2927, 2939,\n",
       "        2952, 2953, 2995, 3005, 3060, 3073, 3114, 3117, 3130, 3157, 3206,\n",
       "        3269, 3369, 3384, 3422, 3503, 3520, 3533, 3549, 3558, 3559, 3567,\n",
       "        3597, 3604, 3674, 3718, 3757, 3767, 3776, 3780, 3808, 3838, 3848,\n",
       "        3853, 3869, 3871, 3893, 3902, 3906, 3926, 3941, 3946, 3951, 3976,\n",
       "        3985, 3995, 4065, 4075, 4078, 4093, 4152, 4154, 4163, 4176, 4199,\n",
       "        4201, 4205, 4211, 4212, 4224, 4248, 4289, 4306, 4344, 4356, 4369,\n",
       "        4374, 4425, 4433, 4497, 4498, 4500, 4523, 4536, 4571, 4575, 4601,\n",
       "        4615, 4639, 4690, 4731, 4735, 4740, 4807, 4814, 4823, 4861, 4880,\n",
       "        4886, 4910, 4952, 4956, 4966, 4990, 5159, 5165, 5331, 5457, 5495,\n",
       "        5569, 5593, 5600, 5611, 5642, 5676, 5734, 5749, 5842, 5887, 5888,\n",
       "        5913, 5936, 5955, 5973, 6046, 6059, 6071, 6091, 6166, 6347, 6390,\n",
       "        6505, 6555, 6560, 6568, 6571, 6574, 6576, 6597, 6598, 6603, 6605,\n",
       "        6632, 6651, 6755, 6765, 6783, 6914, 7208, 7216, 7233, 7401, 7432,\n",
       "        7434, 7849, 7915, 7921, 8020, 8094, 8183, 8246, 8272, 8311, 8339,\n",
       "        8408, 8410, 8456, 8519, 8520, 8522, 9009, 9015, 9016, 9022, 9024,\n",
       "        9045, 9280, 9482, 9587, 9634, 9642, 9643, 9662, 9679, 9692, 9698,\n",
       "        9716, 9719, 9729, 9744, 9745, 9749, 9768, 9770, 9779, 9808, 9826,\n",
       "        9839, 9858, 9890, 9905, 9940, 9944, 9982], dtype=int64),)"
      ]
     },
     "execution_count": 32,
     "metadata": {},
     "output_type": "execute_result"
    }
   ],
   "source": [
    "y_predi = modeli.predict(test_images)\n",
    "yy = np.argmax(y_predi, axis=1)\n",
    "np.where(testn_labels != yy)"
   ]
  },
  {
   "cell_type": "markdown",
   "id": "620c2d12",
   "metadata": {},
   "source": [
    "---"
   ]
  },
  {
   "cell_type": "markdown",
   "id": "d7bda6a5",
   "metadata": {},
   "source": [
    "**Другой вариант:**"
   ]
  },
  {
   "cell_type": "code",
   "execution_count": 33,
   "id": "f53eebe5",
   "metadata": {},
   "outputs": [],
   "source": [
    "# # The full neural network code!\n",
    "# ###############################\n",
    "# import numpy as np\n",
    "# import mnist\n",
    "# from keras.models import Sequential\n",
    "# from keras.layers import Dense\n",
    "# from keras.utils import to_categorical\n",
    "\n",
    "# train_images = mnist.train_images()\n",
    "# train_labels = mnist.train_labels()\n",
    "# test_images = mnist.test_images()\n",
    "# test_labels = mnist.test_labels()\n",
    "\n",
    "# # Normalize the images.\n",
    "# train_images = (train_images / 255) - 0.5\n",
    "# test_images = (test_images / 255) - 0.5\n",
    "\n",
    "# # Flatten the images.\n",
    "# train_images = train_images.reshape((-1, 784))\n",
    "# test_images = test_images.reshape((-1, 784))\n",
    "\n",
    "# # Build the model.\n",
    "# model = Sequential([\n",
    "#   Dense(64, activation='relu', input_shape=(784,)),\n",
    "#   Dense(64, activation='relu'),\n",
    "#   Dense(10, activation='softmax'),\n",
    "# ])\n",
    "\n",
    "# # Compile the model.\n",
    "# model.compile(\n",
    "#   optimizer='adam',\n",
    "#   loss='categorical_crossentropy',\n",
    "#   metrics=['accuracy'],\n",
    "# )\n",
    "\n",
    "# # Train the model.\n",
    "# model.fit(\n",
    "#   train_images,\n",
    "#   to_categorical(train_labels),\n",
    "#   epochs=5,\n",
    "#   batch_size=32,\n",
    "# )\n",
    "\n",
    "# # Evaluate the model.\n",
    "# model.evaluate(\n",
    "#   test_images,\n",
    "#   to_categorical(test_labels)\n",
    "# )\n",
    "\n",
    "# # Save the model to disk.\n",
    "# model.save_weights('model.h5')\n",
    "\n",
    "# # Load the model from disk later using:\n",
    "# # model.load_weights('model.h5')\n",
    "\n",
    "# # Predict on the first 5 test images.\n",
    "# predictions = model.predict(test_images[:5])\n",
    "\n",
    "# # Print our model's predictions.\n",
    "# print(np.argmax(predictions, axis=1)) # [7, 2, 1, 0, 4]\n",
    "\n",
    "# # Check our predictions against the ground truths.\n",
    "# print(test_labels[:5]) # [7, 2, 1, 0, 4]"
   ]
  },
  {
   "cell_type": "markdown",
   "id": "4bcb5ad1",
   "metadata": {},
   "source": [
    "## Практическое задание\n",
    "\n",
    "### Вариант 1\n",
    "<ol>\n",
    "    <li>Попробуйте обучить, нейронную сеть на Keras(рассмотренную на уроке) на датасете MNIST с другими параметрами. \n",
    "        Опишите в комментарии к уроку - какой результата вы добились от нейросети? Что помогло вам улучшить ее точность?</li>\n",
    "    <li>Поработайте с документацией Keras. Попробуйте найти полезные команды Keras неразобранные на уроке.</li>\n",
    "</ol>\n",
    "\n",
    "### Вариант 2\n",
    "\n",
    "Используем набор примеров fashion-MNIST\n",
    "<ol>\n",
    "    <li>Опишите - какой результат получен в нейросети в зависимости от:\n",
    "    <ul>\n",
    "        <li>числа нейронов в слое (для 2х слойной сети).</li>\n",
    "        <li>числа слоев (2, 3, 5, 10) при близких размерах сети (близкое число тренируемых параметров).</li>\n",
    "        <li>фиксируйте для тренировочного и тестового набора метрики accuracy.</li>\n",
    "    </ul></li>\n",
    "    <li>Проверьте работу разных оптимизаторов (SGD, Adam, RMSProp) для одной из моделей п.1. Фиксируйте для тренировочного и тестового набора метрики accuracy</li>\n",
    "    <li>Сделайте вывод - что помогло улучшить качество классификации нейросети на тестовом наборе?</li>\n",
    "    <li>Для одного варианта сетей сформируйте матрицу ошибок по классам. Оцените качество модели по каждому классу отдельно (полнота, точность). Сделайте вывод.</li>\n",
    "</ol>"
   ]
  },
  {
   "cell_type": "markdown",
   "id": "262aae7c",
   "metadata": {},
   "source": [
    "Загрузка Fashion_MNIST"
   ]
  },
  {
   "cell_type": "code",
   "execution_count": 34,
   "id": "50434cc9",
   "metadata": {},
   "outputs": [],
   "source": [
    "from keras.datasets import fashion_mnist"
   ]
  },
  {
   "cell_type": "code",
   "execution_count": 35,
   "id": "a9f900ca",
   "metadata": {},
   "outputs": [],
   "source": [
    "(train_imagef, train_labelf),(test_imagef, test_labelf) = fashion_mnist.load_data()"
   ]
  },
  {
   "cell_type": "code",
   "execution_count": 36,
   "id": "a311a662",
   "metadata": {},
   "outputs": [
    {
     "data": {
      "text/plain": [
       "array([    5,     7,    27, ..., 59977, 59981, 59993], dtype=int64)"
      ]
     },
     "execution_count": 36,
     "metadata": {},
     "output_type": "execute_result"
    }
   ],
   "source": [
    "ind = np.where(train_labelf==2)[0]\n",
    "ind"
   ]
  },
  {
   "cell_type": "code",
   "execution_count": 37,
   "id": "6b602d07",
   "metadata": {},
   "outputs": [
    {
     "data": {
      "image/png": "[encoded data removed]",
      "text/plain": [
       "<Figure size 640x480 with 1 Axes>"
      ]
     },
     "metadata": {},
     "output_type": "display_data"
    }
   ],
   "source": [
    "plt.imshow(train_imagef[5002,:,:])\n",
    "plt.show()"
   ]
  },
  {
   "cell_type": "markdown",
   "id": "b1e57d4a",
   "metadata": {},
   "source": [
    "## Дополнительные материалы\n",
    "\n",
    "<ol>\n",
    "    <li>https://keras.io/</li>\n",
    "</ol>"
   ]
  },
  {
   "cell_type": "markdown",
   "id": "4c6e52f4",
   "metadata": {},
   "source": [
    "## Используемая литература \n",
    "\n",
    "Для подготовки данного методического пособия были использованы следующие ресурсы:\n",
    "<ol>\n",
    "    <li>https://keras.io/</li>\n",
    "    <li>Шакла Н. — Машинное обучение и TensorFlow 2019</li>\n",
    "    <li>Википедия</li>\n",
    "    \n",
    "</ol>"
   ]
  },
  {
   "cell_type": "markdown",
   "id": "1c6d9b7b",
   "metadata": {},
   "source": [
    "---"
   ]
  }
 ],
 "metadata": {
  "kernelspec": {
   "display_name": "Python 3 (ipykernel)",
   "language": "python",
   "name": "python3"
  },
  "language_info": {
   "codemirror_mode": {
    "name": "ipython",
    "version": 3
   },
   "file_extension": ".py",
   "mimetype": "text/x-python",
   "name": "python",
   "nbconvert_exporter": "python",
   "pygments_lexer": "ipython3",
   "version": "3.9.12"
  }
 },
 "nbformat": 4,
 "nbformat_minor": 5
}
